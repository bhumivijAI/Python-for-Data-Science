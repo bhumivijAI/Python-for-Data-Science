{
 "cells": [
  {
   "cell_type": "markdown",
   "id": "6f159e0c",
   "metadata": {},
   "source": [
    "# Encapsulation"
   ]
  },
  {
   "cell_type": "markdown",
   "id": "28cadcc7",
   "metadata": {},
   "source": [
    "Encapsulation involves bundling of data (attributes) and functions (methods) within a single unit."
   ]
  },
  {
   "cell_type": "markdown",
   "id": "08a7121e",
   "metadata": {},
   "source": [
    "Encapsulation is a way to restrict access to methods and attributes from outside of class.<br>\n",
    "Whenever we are working with the class and dealing eith sensitive data , providing access to all varibles used within the class \n",
    "is not a good choice."
   ]
  },
  {
   "cell_type": "markdown",
   "id": "79d2ca9b",
   "metadata": {},
   "source": [
    "# Access Modifiers in Python"
   ]
  },
  {
   "cell_type": "markdown",
   "id": "86f96daa",
   "metadata": {},
   "source": [
    "1. Access modifiers limit access to the attributes and methods of the class.\n",
    "2. Python provides three types of access modifers public, private and protected."
   ]
  },
  {
   "cell_type": "markdown",
   "id": "95cda54c",
   "metadata": {},
   "source": [
    "# Public Members"
   ]
  },
  {
   "cell_type": "markdown",
   "id": "8c8dd375",
   "metadata": {},
   "source": [
    "* Access within and outside of a class\n",
    "* All variables and methods are public by default."
   ]
  },
  {
   "cell_type": "code",
   "execution_count": 6,
   "id": "8c519494",
   "metadata": {},
   "outputs": [
    {
     "name": "stdout",
     "output_type": "stream",
     "text": [
      "25\n",
      "xyz 25\n"
     ]
    }
   ],
   "source": [
    "class Aspirant:\n",
    "    \n",
    "    def __init__(self,name,age):\n",
    "        self.name = name\n",
    "        self.age = age\n",
    "        \n",
    "    def show(self):\n",
    "        print(self.name,self.age)\n",
    "        \n",
    "a1 = Aspirant(\"xyz\",25)\n",
    "print(a1.age)\n",
    "a1.show()"
   ]
  },
  {
   "cell_type": "code",
   "execution_count": 9,
   "id": "fc628ef7",
   "metadata": {
    "scrolled": true
   },
   "outputs": [
    {
     "name": "stdout",
     "output_type": "stream",
     "text": [
      "25\n"
     ]
    },
    {
     "ename": "AttributeError",
     "evalue": "'Aspirant' object has no attribute '__show'",
     "output_type": "error",
     "traceback": [
      "\u001b[1;31m---------------------------------------------------------------------------\u001b[0m",
      "\u001b[1;31mAttributeError\u001b[0m                            Traceback (most recent call last)",
      "Cell \u001b[1;32mIn[9], line 12\u001b[0m\n\u001b[0;32m     10\u001b[0m a1 \u001b[38;5;241m=\u001b[39m Aspirant(\u001b[38;5;124m\"\u001b[39m\u001b[38;5;124mxyz\u001b[39m\u001b[38;5;124m\"\u001b[39m,\u001b[38;5;241m25\u001b[39m)\n\u001b[0;32m     11\u001b[0m \u001b[38;5;28mprint\u001b[39m(a1\u001b[38;5;241m.\u001b[39mage)\n\u001b[1;32m---> 12\u001b[0m \u001b[43ma1\u001b[49m\u001b[38;5;241;43m.\u001b[39;49m\u001b[43m__show\u001b[49m()\n",
      "\u001b[1;31mAttributeError\u001b[0m: 'Aspirant' object has no attribute '__show'"
     ]
    }
   ],
   "source": [
    "class Aspirant:\n",
    "    \n",
    "    def __init__(self,name,age):\n",
    "        self.name = name\n",
    "        self.age = age\n",
    "        \n",
    "    def __show(self):               # private method(by using double underscore)\n",
    "        print(self.name,self.age)\n",
    "        \n",
    "a1 = Aspirant(\"xyz\",25)\n",
    "print(a1.age)\n",
    "a1.__show()"
   ]
  },
  {
   "cell_type": "markdown",
   "id": "a58cd15e",
   "metadata": {},
   "source": [
    "# Private Members\n",
    "\n",
    "* Accessible only within the class.\n",
    "* can't access them dicrectly from the class.\n",
    "* We can create private members using doble underscores."
   ]
  },
  {
   "cell_type": "code",
   "execution_count": 2,
   "id": "3ce95cba",
   "metadata": {},
   "outputs": [
    {
     "ename": "AttributeError",
     "evalue": "'Aspirant' object has no attribute '__profession'",
     "output_type": "error",
     "traceback": [
      "\u001b[1;31m---------------------------------------------------------------------------\u001b[0m",
      "\u001b[1;31mAttributeError\u001b[0m                            Traceback (most recent call last)",
      "Cell \u001b[1;32mIn[2], line 9\u001b[0m\n\u001b[0;32m      6\u001b[0m         \u001b[38;5;28mself\u001b[39m\u001b[38;5;241m.\u001b[39m__profession \u001b[38;5;241m=\u001b[39m profession  \u001b[38;5;66;03m# private variable\u001b[39;00m\n\u001b[0;32m      8\u001b[0m a1 \u001b[38;5;241m=\u001b[39m Aspirant(\u001b[38;5;124m\"\u001b[39m\u001b[38;5;124mxyz\u001b[39m\u001b[38;5;124m\"\u001b[39m,\u001b[38;5;241m25\u001b[39m,\u001b[38;5;124m\"\u001b[39m\u001b[38;5;124mCA\u001b[39m\u001b[38;5;124m\"\u001b[39m)\n\u001b[1;32m----> 9\u001b[0m \u001b[38;5;28mprint\u001b[39m(\u001b[43ma1\u001b[49m\u001b[38;5;241;43m.\u001b[39;49m\u001b[43m__profession\u001b[49m)\n",
      "\u001b[1;31mAttributeError\u001b[0m: 'Aspirant' object has no attribute '__profession'"
     ]
    }
   ],
   "source": [
    "class Aspirant:\n",
    "    \n",
    "    def __init__(self,name,age,profession):\n",
    "        self.name = name\n",
    "        self.age = age\n",
    "        self.__profession = profession  # private variable\n",
    "        \n",
    "a1 = Aspirant(\"xyz\",25,\"CA\")\n",
    "print(a1.__profession)"
   ]
  },
  {
   "cell_type": "markdown",
   "id": "bb6c11d2",
   "metadata": {},
   "source": [
    "# Accessing private attributes using a method"
   ]
  },
  {
   "cell_type": "code",
   "execution_count": 26,
   "id": "708ab682",
   "metadata": {},
   "outputs": [
    {
     "name": "stdout",
     "output_type": "stream",
     "text": [
      "xyz with age 25 is a Ca\n",
      "None\n"
     ]
    }
   ],
   "source": [
    "class Aspirant:\n",
    "    \n",
    "    def __init__(self,name,age,profession):\n",
    "        self.name = name\n",
    "        self.age = age\n",
    "        self.__profession = profession  # private variable\n",
    "        \n",
    "    def show(self):               \n",
    "        print(f\"{self.name} with age {self.age} is a {self.__profession}\")\n",
    "    \n",
    "a1 = Aspirant(\"xyz\",25,\"Ca\")\n",
    "print(a1.show())\n",
    "        "
   ]
  },
  {
   "cell_type": "code",
   "execution_count": 29,
   "id": "54d09808",
   "metadata": {},
   "outputs": [
    {
     "name": "stdout",
     "output_type": "stream",
     "text": [
      "xyz with age 25 is a CA\n",
      "xyz with age 25 is a CA\n"
     ]
    }
   ],
   "source": [
    "class Aspirant:\n",
    "    \n",
    "    def __init__(self,name,age,profession):\n",
    "        self.name = name\n",
    "        self.age = age\n",
    "        self.__profession = profession  # private variable\n",
    "        self.__show()\n",
    "        \n",
    "        \n",
    "    def __show(self):               \n",
    "        print(f\"{self.name} with age {self.age} is a {self.__profession}\")\n",
    "        \n",
    "        \n",
    "    def access_show(self):\n",
    "        self.__show()        # calling methds by method\n",
    "    \n",
    "a1 = Aspirant(\"xyz\",25,\"CA\")\n",
    "a1.access_show()\n",
    "        "
   ]
  },
  {
   "cell_type": "code",
   "execution_count": null,
   "id": "daabb580",
   "metadata": {},
   "outputs": [],
   "source": [
    "call "
   ]
  }
 ],
 "metadata": {
  "kernelspec": {
   "display_name": "Python 3 (ipykernel)",
   "language": "python",
   "name": "python3"
  },
  "language_info": {
   "codemirror_mode": {
    "name": "ipython",
    "version": 3
   },
   "file_extension": ".py",
   "mimetype": "text/x-python",
   "name": "python",
   "nbconvert_exporter": "python",
   "pygments_lexer": "ipython3",
   "version": "3.10.9"
  }
 },
 "nbformat": 4,
 "nbformat_minor": 5
}
