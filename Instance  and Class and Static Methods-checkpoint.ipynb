{
 "cells": [
  {
   "cell_type": "markdown",
   "id": "8788fbbb",
   "metadata": {},
   "source": [
    "# Instance Methods\n",
    "* Methods in which instance variable and class variables are used.\n",
    "- Used to access or modify both the object and class state.\n",
    "* It must have a *self parameter* to refer to the current object."
   ]
  },
  {
   "cell_type": "code",
   "execution_count": null,
   "id": "4ce62dfc",
   "metadata": {},
   "outputs": [],
   "source": [
    "# behavior = methods\n",
    "# "
   ]
  },
  {
   "cell_type": "code",
   "execution_count": 2,
   "id": "2acd6f4a",
   "metadata": {},
   "outputs": [
    {
     "name": "stdout",
     "output_type": "stream",
     "text": [
      "Hey ! Iam a data scientist\n",
      "My name is  xyz\n"
     ]
    }
   ],
   "source": [
    "class Aspirant:\n",
    "    def __init__(self,name):                # Constructors are special methods\n",
    "        print(\"Hey ! Iam a data scientist\")\n",
    "        self.name = name\n",
    "    def show(self):                         # show() is an instance variable\n",
    "        print(\"My name is \", self.name)\n",
    "        \n",
    "a1 = Aspirant(\"xyz\")\n",
    "a1.show()  #Calling an instance variable "
   ]
  },
  {
   "cell_type": "code",
   "execution_count": 3,
   "id": "5e654ca5",
   "metadata": {},
   "outputs": [
    {
     "name": "stdout",
     "output_type": "stream",
     "text": [
      "Hey ! Iam a data scientist\n",
      "My name is  abc\n"
     ]
    }
   ],
   "source": [
    "a2 = Aspirant(\"abc\")\n",
    "a2.show()"
   ]
  },
  {
   "cell_type": "code",
   "execution_count": 6,
   "id": "25fb2fbc",
   "metadata": {},
   "outputs": [
    {
     "name": "stdout",
     "output_type": "stream",
     "text": [
      "Web Developer\n"
     ]
    }
   ],
   "source": [
    "class Person:\n",
    "    job = \"Data Scientist\"\n",
    "    def change_class_state(self):\n",
    "        Person.job = \"Web Developer\"   # Access class attributes and change the class variable.\n",
    "        print(Person.job)\n",
    "p1 = Person()\n",
    "p1.change_class_state()"
   ]
  },
  {
   "cell_type": "code",
   "execution_count": 7,
   "id": "ec3a48e8",
   "metadata": {},
   "outputs": [
    {
     "name": "stdout",
     "output_type": "stream",
     "text": [
      "Data Scientist\n"
     ]
    }
   ],
   "source": [
    "class Person:\n",
    "    job = \"Data Scientist\"\n",
    "    def change_class_state(self):\n",
    "        self.job = \"Web Developer\"    # Access  \n",
    "        print(Person.job)\n",
    "p1 = Person()\n",
    "p1.change_class_state()"
   ]
  },
  {
   "cell_type": "markdown",
   "id": "8bc17b68",
   "metadata": {},
   "source": [
    "# Class Methods\n",
    " *  Methods in which only class variables are used.\n",
    " * Take the *cls* parameter.\n",
    " * Used to access or modify the class state."
   ]
  },
  {
   "cell_type": "code",
   "execution_count": 11,
   "id": "98439bee",
   "metadata": {},
   "outputs": [
    {
     "name": "stdout",
     "output_type": "stream",
     "text": [
      "the value of x is 6 and the value of y is 7\n"
     ]
    }
   ],
   "source": [
    "x = 6\n",
    "y = 7\n",
    "print(f\"the value of x is {x} and the value of y is {y}\")"
   ]
  },
  {
   "cell_type": "code",
   "execution_count": 2,
   "id": "f4566e39",
   "metadata": {},
   "outputs": [
    {
     "name": "stdout",
     "output_type": "stream",
     "text": [
      "My school name is XYZ School which is located in Haldwani\n",
      "<class '__main__.School'>\n",
      "My school name has been changed to ABC School which is now located in Delhi\n"
     ]
    }
   ],
   "source": [
    "class School:\n",
    "    school_name = \"XYZ School\"\n",
    "    loc = \"Haldwani\"\n",
    "    \n",
    "    @classmethod # decorator / use to define that it is an class method not instance\n",
    "    def change_school(cls,name,loc1):\n",
    "        print(cls)\n",
    "        cls.school_name = name\n",
    "        cls.loc = loc1\n",
    "        \n",
    "std1 = School()\n",
    "print(f\"My school name is {School.school_name} which is located in {School.loc}\")\n",
    "School.change_school(\"ABC School\",\"Delhi\")\n",
    "print(f\"My school name has been changed to {School.school_name} which is now located in {School.loc}\") # f- string(string formatting)"
   ]
  },
  {
   "cell_type": "code",
   "execution_count": 9,
   "id": "1ca8421c",
   "metadata": {},
   "outputs": [
    {
     "name": "stdout",
     "output_type": "stream",
     "text": [
      "['Parag', '4th']\n",
      "Parag 4th\n"
     ]
    }
   ],
   "source": [
    "#Using class methods as alternative constructors\n",
    "class School:\n",
    "    school_name = \"XYZ school\"\n",
    "    loc = \"Haldwani\"\n",
    "    \n",
    "    def __init__(self,name,class_):\n",
    "        self.name = name \n",
    "        self.class_ = class_\n",
    "        \n",
    "        \n",
    "    @classmethod\n",
    "    def new_admission(cls,info):\n",
    "        lst = info.split(\"@\")\n",
    "        print(lst)\n",
    "        return cls(lst[0],lst[1])  # calling constructor from the cls , nd the object is created (School(\"Parag\",\"4th\"))\n",
    "    \n",
    "    \n",
    "std2 = School.new_admission(\"Parag@4th\") # called class method , return will return the value\n",
    "# now because of return in the place of School.new_admission(\"Parag@4th\") there wil be cls(lst[0],lst[1])\n",
    "# which means = std2 = School(\"Parag\",\"4th\")\n",
    "\n",
    "print(std2.name,std2.class_)"
   ]
  },
  {
   "cell_type": "markdown",
   "id": "a1e7ef3b",
   "metadata": {},
   "source": [
    "===================================================================================================================="
   ]
  },
  {
   "cell_type": "markdown",
   "id": "dc5aae82",
   "metadata": {},
   "source": [
    "# Static methods"
   ]
  },
  {
   "cell_type": "markdown",
   "id": "0c5eb4da",
   "metadata": {},
   "source": [
    "* Similar to a normal function.\n",
    "* It does not take the cls or self parameters.\n",
    "* It cannot modify the state of the object or class."
   ]
  },
  {
   "cell_type": "markdown",
   "id": "4b27b944",
   "metadata": {},
   "source": [
    "# Advantages\n",
    "* Safer Code - as they cannot change the class or instance variables."
   ]
  },
  {
   "cell_type": "code",
   "execution_count": 12,
   "id": "1b418f84",
   "metadata": {},
   "outputs": [
    {
     "name": "stdout",
     "output_type": "stream",
     "text": [
      "Inside static method 10\n",
      "Inside static method 10\n"
     ]
    }
   ],
   "source": [
    "class Employees:\n",
    "    \n",
    "    @staticmethod\n",
    "    def sample(x):\n",
    "        print(\"Inside static method\",x)\n",
    "        \n",
    "# call using class\n",
    "Employees.sample(10)\n",
    "\n",
    "# call using object\n",
    "emp = Employees()\n",
    "emp.sample(10)\n"
   ]
  },
  {
   "cell_type": "code",
   "execution_count": null,
   "id": "95649cfb",
   "metadata": {},
   "outputs": [],
   "source": []
  },
  {
   "cell_type": "code",
   "execution_count": null,
   "id": "33bb71c7",
   "metadata": {},
   "outputs": [],
   "source": []
  }
 ],
 "metadata": {
  "kernelspec": {
   "display_name": "Python 3 (ipykernel)",
   "language": "python",
   "name": "python3"
  },
  "language_info": {
   "codemirror_mode": {
    "name": "ipython",
    "version": 3
   },
   "file_extension": ".py",
   "mimetype": "text/x-python",
   "name": "python",
   "nbconvert_exporter": "python",
   "pygments_lexer": "ipython3",
   "version": "3.10.9"
  }
 },
 "nbformat": 4,
 "nbformat_minor": 5
}
