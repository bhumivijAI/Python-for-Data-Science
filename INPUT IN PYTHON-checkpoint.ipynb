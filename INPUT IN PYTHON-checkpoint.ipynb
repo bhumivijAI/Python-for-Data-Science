{
 "cells": [
  {
   "cell_type": "markdown",
   "id": "41b8d6b4",
   "metadata": {},
   "source": [
    "# TYPE INPUT() \n",
    "\n",
    "* In python using the input() function, we take input from the user and using the print() function ,we display the output on the screen . any data given in input is string"
   ]
  },
  {
   "cell_type": "markdown",
   "id": "92eb9410",
   "metadata": {},
   "source": [
    "# QUESTION MATTERS"
   ]
  },
  {
   "cell_type": "markdown",
   "id": "37b71e68",
   "metadata": {},
   "source": [
    "ANSWER THESE FOLLOWING QUESTIONS DAILY \n",
    "* what one thing --if i did it -- would profoundly improve the way i work(and how i live)??\n",
    "* what needs to happen betweew how and the end of the next 90 days for me to feel that this is the best quater of my work and personl life?(remember clarity preceds mastery.)\n",
    "* what do i need to express appreciation to?(make your list long)\n",
    "* what would i like to improve , professionaly and personally ?\n",
    "* what could be i granted for that i am not currently not gratefull for?\n",
    "* how do i want to be rembered at my last day of the journey?"
   ]
  },
  {
   "cell_type": "markdown",
   "id": "3d8f0807",
   "metadata": {},
   "source": []
  },
  {
   "cell_type": "code",
   "execution_count": 1,
   "id": "da9b4faa",
   "metadata": {},
   "outputs": [
    {
     "name": "stdout",
     "output_type": "stream",
     "text": [
      "enter employee name: bhumi\n",
      "I am  bhumi\n"
     ]
    }
   ],
   "source": [
    "# take value fron user\n",
    "name = input(\"enter employee name: \") \n",
    "print(\"I am \" ,name)"
   ]
  },
  {
   "cell_type": "code",
   "execution_count": 4,
   "id": "38742514",
   "metadata": {},
   "outputs": [
    {
     "name": "stdout",
     "output_type": "stream",
     "text": [
      "aura name : joker\n"
     ]
    }
   ],
   "source": [
    "name = input(\"aura name : \")"
   ]
  },
  {
   "cell_type": "code",
   "execution_count": null,
   "id": "ab59d2d0",
   "metadata": {},
   "outputs": [],
   "source": [
    "name = input(\"aura name :\")\n",
    "salary = input(\"cost : \")\n",
    "age = input(\"below 20 : \")\n",
    "print(\"i am\", name)\n",
    "print(name)\n",
    "print(salary)\n",
    "print(age)"
   ]
  },
  {
   "cell_type": "code",
   "execution_count": 2,
   "id": "b2e3c020",
   "metadata": {},
   "outputs": [
    {
     "name": "stdout",
     "output_type": "stream",
     "text": [
      " enter your name : bhumi\n",
      "hello,bhumi! nice to meet you\n"
     ]
    }
   ],
   "source": [
    "name = input(\" enter your name : \")\n",
    "print(\"hello,\" + name + \"! nice to meet you\")"
   ]
  },
  {
   "cell_type": "code",
   "execution_count": 10,
   "id": "110183b4",
   "metadata": {},
   "outputs": [
    {
     "name": "stdout",
     "output_type": "stream",
     "text": [
      " total no. of students : 80\n",
      " science students 80 in the class \n"
     ]
    }
   ],
   "source": [
    "name = input(\" total no. of students : \")\n",
    "print(\" science students \" + name + \" in the class \")"
   ]
  },
  {
   "cell_type": "code",
   "execution_count": 20,
   "id": "e9e68b58",
   "metadata": {},
   "outputs": [
    {
     "name": "stdout",
     "output_type": "stream",
     "text": [
      "company ltd :xyz\n",
      "area located :haldwani\n",
      "phone no. :78643937\n",
      "\n",
      "\n",
      "xyz\n",
      "haldwani\n",
      "78643937\n"
     ]
    }
   ],
   "source": [
    "name = input(\"company ltd :\")\n",
    "area = input(\"area located :\")\n",
    "contact = input(\"phone no. :\")\n",
    "\n",
    "print(\"\\n\")\n",
    "print(name)\n",
    "print(area)\n",
    "print(contact)"
   ]
  },
  {
   "cell_type": "code",
   "execution_count": 21,
   "id": "a53d0bd1",
   "metadata": {},
   "outputs": [
    {
     "name": "stdout",
     "output_type": "stream",
     "text": [
      "namebhumi\n",
      "age20\n",
      "schoolthe masters school\n",
      "bhumi\n",
      "20\n",
      "the masters school\n"
     ]
    }
   ],
   "source": [
    "name = input(\"name\")\n",
    "age = input(\"age\")\n",
    "school = input(\"school\")\n",
    "\n",
    "print(name)\n",
    "print(age)\n",
    "print(school)"
   ]
  },
  {
   "cell_type": "code",
   "execution_count": 25,
   "id": "48d1a40e",
   "metadata": {},
   "outputs": [
    {
     "name": "stdout",
     "output_type": "stream",
     "text": [
      " enter employee name: bhummi\n",
      "enter salary: 6484\n",
      "enter company name: xyz\n",
      "\n",
      "\n",
      "printing emplooye details\n",
      "name salary company\n",
      "bhummi 6484 xyz\n",
      "bhummi\n"
     ]
    },
    {
     "data": {
      "text/plain": [
       "NoneType"
      ]
     },
     "execution_count": 25,
     "metadata": {},
     "output_type": "execute_result"
    }
   ],
   "source": [
    "# take three values from user \n",
    "name = input(\" enter employee name: \")\n",
    "salary = input(\"enter salary: \")\n",
    "company = input(\"enter company name: \")\n",
    "\n",
    "# display all values on screen \n",
    "print(\"\\n\")\n",
    "print(\"printing emplooye details\")\n",
    "print(\"name\",\"salary\",\"company\")\n",
    "print(name, salary, company)\n",
    "type(print(name))"
   ]
  },
  {
   "cell_type": "code",
   "execution_count": 8,
   "id": "2a52a7ed",
   "metadata": {},
   "outputs": [
    {
     "name": "stdout",
     "output_type": "stream",
     "text": [
      "<class 'str'>\n"
     ]
    }
   ],
   "source": [
    "print(type(name))"
   ]
  },
  {
   "cell_type": "code",
   "execution_count": 2,
   "id": "1b1b2b6d",
   "metadata": {},
   "outputs": [
    {
     "name": "stdout",
     "output_type": "stream",
     "text": [
      "1 2 3\n"
     ]
    }
   ],
   "source": [
    "print(1,2,3)"
   ]
  },
  {
   "cell_type": "code",
   "execution_count": 4,
   "id": "baf08bcf",
   "metadata": {},
   "outputs": [
    {
     "name": "stdout",
     "output_type": "stream",
     "text": [
      "laptop brands :hp\n",
      "cost : 45,000\n",
      "\n",
      "\n",
      "hp\n",
      "45,000\n"
     ]
    }
   ],
   "source": [
    "brands = input(\"laptop brands :\")\n",
    "cost = input(\"cost : \")\n",
    "\n",
    "print(\"\\n\")\n",
    "print(brands)\n",
    "print(cost)\n",
    "\n"
   ]
  },
  {
   "cell_type": "code",
   "execution_count": 2,
   "id": "17d2a67a",
   "metadata": {},
   "outputs": [
    {
     "name": "stdout",
     "output_type": "stream",
     "text": [
      "enter your age :20\n"
     ]
    }
   ],
   "source": [
    "# enter your age \n",
    "age = input(\"enter your age :\")\n"
   ]
  },
  {
   "cell_type": "code",
   "execution_count": 3,
   "id": "88caebe3",
   "metadata": {},
   "outputs": [
    {
     "name": "stdout",
     "output_type": "stream",
     "text": [
      "student nameBHUMI SHARMA\n",
      "student age20\n",
      "student addressHALDWANI\n",
      "father's nameMR.RAJEEV SHARMA\n",
      "student streamCOMMERCE\n",
      "\n",
      "\n",
      "name age address parents feild\n",
      "BHUMI SHARMA 20 HALDWANI MR.RAJEEV SHARMA COMMERCE\n"
     ]
    }
   ],
   "source": [
    "name = input(\"student name\")\n",
    "age = input(\"student age\")\n",
    "address = input(\"student address\")\n",
    "parents = input(\"father's name\")\n",
    "feild = input(\"student stream\")\n",
    "\n",
    "print(\"\\n\")\n",
    "print(\"name\",\"age\",\"address\",\"parents\",\"feild\")\n",
    "print(name,age,address,parents,feild)\n",
    "\n",
    "\n",
    "                \n",
    "                \n",
    "               "
   ]
  },
  {
   "cell_type": "code",
   "execution_count": 4,
   "id": "8825b045",
   "metadata": {},
   "outputs": [
    {
     "name": "stdout",
     "output_type": "stream",
     "text": [
      "student name :BHUMI SHARMA\n",
      "student age :20\n",
      "student address :HALDWANI\n",
      "father's name :MR.RAJEEV SHARMA\n",
      "student stream :COMMERCE\n",
      "\n",
      "\n",
      "name age address parents feild\n",
      "BHUMI SHARMA 20 HALDWANI MR.RAJEEV SHARMA COMMERCE\n"
     ]
    }
   ],
   "source": [
    "name = input(\"student name :\")\n",
    "age = input(\"student age :\")\n",
    "address = input(\"student address :\")\n",
    "parents = input(\"father's name :\")\n",
    "feild = input(\"student stream :\")\n",
    "\n",
    "print(\"\\n\")\n",
    "print(\"name\",\"age\",\"address\",\"parents\",\"feild\")\n",
    "print(name,age,address,parents,feild)\n",
    "\n"
   ]
  },
  {
   "cell_type": "code",
   "execution_count": 6,
   "id": "76e2a848",
   "metadata": {},
   "outputs": [
    {
     "name": "stdout",
     "output_type": "stream",
     "text": [
      "student name :bhumi\n",
      "student age :20\n",
      "student address :haldwani\n",
      "father's name :mr rajeev sharma\n",
      "student stream :commerce\n",
      "\n",
      "\n",
      "name bhumi age 20 address haldwani parents mr rajeev sharma feild commerce\n",
      "bhumi 20 haldwani mr rajeev sharma commerce\n"
     ]
    }
   ],
   "source": [
    "name = input(\"student name :\")\n",
    "age = input(\"student age :\")\n",
    "address = input(\"student address :\")\n",
    "parents = input(\"father's name :\")\n",
    "feild = input(\"student stream :\")\n",
    "\n",
    "print(\"\\n\")\n",
    "print(\"name\",name ,\"age\", age,\"address\" , address,\"parents\" , parents,\"feild\", feild)\n",
    "print(name,age,address,parents,feild)\n"
   ]
  },
  {
   "cell_type": "code",
   "execution_count": 7,
   "id": "4dfaaa68",
   "metadata": {},
   "outputs": [
    {
     "name": "stdout",
     "output_type": "stream",
     "text": [
      "student name :BHUMI\n",
      "student age :20\n",
      "student address :HALDWANI\n",
      "father's name :MR.RAJEEV SHARMA\n",
      "student stream :COMMERCE\n",
      "\n",
      "\n",
      "name BHUMI\n",
      "age 20\n",
      "address HALDWANI\n",
      "parents MR.RAJEEV SHARMA\n",
      "feild COMMERCE\n",
      "BHUMI 20 HALDWANI MR.RAJEEV SHARMA COMMERCE\n"
     ]
    }
   ],
   "source": [
    "name = input(\"student name :\")\n",
    "age = input(\"student age :\")\n",
    "address = input(\"student address :\")\n",
    "parents = input(\"father's name :\")\n",
    "feild = input(\"student stream :\")\n",
    "\n",
    "print(\"\\n\")\n",
    "print(\"name\",name)\n",
    "print(\"age\", age)\n",
    "print(\"address\" , address)\n",
    "print(\"parents\" , parents)\n",
    "print(\"feild\", feild)\n",
    "print(name,age,address,parents,feild)"
   ]
  },
  {
   "cell_type": "code",
   "execution_count": 7,
   "id": "a0d9b8ba",
   "metadata": {},
   "outputs": [
    {
     "name": "stdout",
     "output_type": "stream",
     "text": [
      "even number :4\n",
      "odd number :5\n",
      "45\n"
     ]
    }
   ],
   "source": [
    "x  = input(\"even number :\") # the output which is givem here is an the part of concatination.\n",
    "y = input(\"odd number :\")\n",
    "z = x+y # HERE THE INPUT GIVEN BY THE USER IS AN STRING SO THE OPERATER WILL OPERATE AS AN CONCATINATION.\n",
    "print(z)"
   ]
  },
  {
   "cell_type": "code",
   "execution_count": 6,
   "id": "6bf8fe53",
   "metadata": {},
   "outputs": [
    {
     "name": "stdout",
     "output_type": "stream",
     "text": [
      "BHUMI\n"
     ]
    }
   ],
   "source": [
    "x = input()\n",
    "\n"
   ]
  },
  {
   "cell_type": "code",
   "execution_count": 4,
   "id": "7223734b",
   "metadata": {},
   "outputs": [
    {
     "name": "stdout",
     "output_type": "stream",
     "text": [
      "3bhumi\n"
     ]
    }
   ],
   "source": [
    "y = input(2+1)\n"
   ]
  },
  {
   "cell_type": "code",
   "execution_count": 1,
   "id": "b8f87d7d",
   "metadata": {},
   "outputs": [
    {
     "name": "stdout",
     "output_type": "stream",
     "text": [
      "this is an even number :24\n"
     ]
    }
   ],
   "source": [
    "x = input(\"this is an even number :\")\n"
   ]
  },
  {
   "cell_type": "code",
   "execution_count": 2,
   "id": "aeb86e61",
   "metadata": {},
   "outputs": [
    {
     "data": {
      "text/plain": [
       "24"
      ]
     },
     "execution_count": 2,
     "metadata": {},
     "output_type": "execute_result"
    }
   ],
   "source": [
    "int(x)"
   ]
  },
  {
   "cell_type": "code",
   "execution_count": 13,
   "id": "2320b6bb",
   "metadata": {},
   "outputs": [
    {
     "name": "stdout",
     "output_type": "stream",
     "text": [
      "this is an odd number :67\n",
      "<class 'str'>\n",
      "67\n",
      "<class 'str'>\n"
     ]
    }
   ],
   "source": [
    "y = input(\"this is an odd number :\")\n",
    "print(type(x))\n",
    "print(int(x))\n",
    "print(type(x))"
   ]
  },
  {
   "cell_type": "code",
   "execution_count": 20,
   "id": "f97f7021",
   "metadata": {},
   "outputs": [
    {
     "name": "stdout",
     "output_type": "stream",
     "text": [
      " this is an odd number : 5\n",
      "<class 'str'>\n"
     ]
    }
   ],
   "source": [
    "p = input(\" this is an odd number : \")\n",
    "print(type(p))\n"
   ]
  },
  {
   "cell_type": "code",
   "execution_count": 9,
   "id": "217b5f12",
   "metadata": {},
   "outputs": [
    {
     "name": "stdout",
     "output_type": "stream",
     "text": [
      "values given : 67\n",
      "<class 'str'>\n"
     ]
    },
    {
     "data": {
      "text/plain": [
       "(None, 67.0)"
      ]
     },
     "execution_count": 9,
     "metadata": {},
     "output_type": "execute_result"
    }
   ],
   "source": [
    "q = input(\"values given : \")\n",
    "print(type(q)),(float(q))"
   ]
  },
  {
   "cell_type": "code",
   "execution_count": 10,
   "id": "9ed36bba",
   "metadata": {},
   "outputs": [
    {
     "name": "stdout",
     "output_type": "stream",
     "text": [
      "values given : 78\n",
      "78.0\n"
     ]
    },
    {
     "data": {
      "text/plain": [
       "(None, 78, (78+0j))"
      ]
     },
     "execution_count": 10,
     "metadata": {},
     "output_type": "execute_result"
    }
   ],
   "source": [
    "q = input(\"values given : \")\n",
    "print(float(q)),(int(q)),(complex(q))"
   ]
  },
  {
   "cell_type": "code",
   "execution_count": 13,
   "id": "6542be7d",
   "metadata": {},
   "outputs": [
    {
     "name": "stdout",
     "output_type": "stream",
     "text": [
      "values given : 90\n",
      "<class 'float'> <class 'int'> <class 'complex'>\n"
     ]
    }
   ],
   "source": [
    "q = input(\"values given : \")\n",
    "print(type(float(q)),type(int(q)),type(complex(q)))"
   ]
  },
  {
   "cell_type": "code",
   "execution_count": 14,
   "id": "dddd61ec",
   "metadata": {},
   "outputs": [
    {
     "name": "stdout",
     "output_type": "stream",
     "text": [
      "enter marks657\n",
      "\n",
      "\n",
      "student marks is :  657.0\n",
      "type is : <class 'float'>\n"
     ]
    }
   ],
   "source": [
    "marks = float(input(\"enter marks\"))\n",
    "print(\"\\n\")\n",
    "print(\"student marks is : \", marks)\n",
    "print(\"type is :\", type(marks))"
   ]
  },
  {
   "cell_type": "code",
   "execution_count": 15,
   "id": "ec6b2688",
   "metadata": {},
   "outputs": [
    {
     "name": "stdout",
     "output_type": "stream",
     "text": [
      "enter marks87\n",
      "\n",
      "\n",
      "student marks is :  (87+0j)\n",
      "type is : <class 'complex'>\n"
     ]
    }
   ],
   "source": [
    "marks = complex(input(\"enter marks\"))\n",
    "print(\"\\n\")\n",
    "print(\"student marks is : \", marks)\n",
    "print(\"type is :\", type(marks))"
   ]
  },
  {
   "cell_type": "code",
   "execution_count": 23,
   "id": "ac48e16b",
   "metadata": {},
   "outputs": [
    {
     "name": "stdout",
     "output_type": "stream",
     "text": [
      "no. of products sold83\n",
      "type is : <class 'float'>\n"
     ]
    }
   ],
   "source": [
    "h = float(input(\"no. of products sold\"))\n",
    "print(\"type is :\" , type(h))"
   ]
  },
  {
   "cell_type": "code",
   "execution_count": 26,
   "id": "be4282e7",
   "metadata": {},
   "outputs": [
    {
     "name": "stdout",
     "output_type": "stream",
     "text": [
      "no. of products sold89.9\n"
     ]
    },
    {
     "ename": "ValueError",
     "evalue": "invalid literal for int() with base 10: '89.9'",
     "output_type": "error",
     "traceback": [
      "\u001b[1;31m---------------------------------------------------------------------------\u001b[0m",
      "\u001b[1;31mValueError\u001b[0m                                Traceback (most recent call last)",
      "Cell \u001b[1;32mIn[26], line 1\u001b[0m\n\u001b[1;32m----> 1\u001b[0m h \u001b[38;5;241m=\u001b[39m \u001b[38;5;28;43mint\u001b[39;49m\u001b[43m(\u001b[49m\u001b[38;5;28;43minput\u001b[39;49m\u001b[43m(\u001b[49m\u001b[38;5;124;43m\"\u001b[39;49m\u001b[38;5;124;43mno. of products sold\u001b[39;49m\u001b[38;5;124;43m\"\u001b[39;49m\u001b[43m)\u001b[49m\u001b[43m)\u001b[49m\n",
      "\u001b[1;31mValueError\u001b[0m: invalid literal for int() with base 10: '89.9'"
     ]
    }
   ],
   "source": [
    "h = int(input(\"no. of products sold\"))"
   ]
  },
  {
   "cell_type": "code",
   "execution_count": null,
   "id": "aad6cfe1",
   "metadata": {},
   "outputs": [],
   "source": []
  },
  {
   "cell_type": "code",
   "execution_count": 16,
   "id": "e2499517",
   "metadata": {},
   "outputs": [
    {
     "name": "stdout",
     "output_type": "stream",
     "text": [
      "enter marks09\n",
      "\n",
      "\n",
      "student marks is :  True\n",
      "type is : <class 'bool'>\n"
     ]
    }
   ],
   "source": [
    "marks = bool(input(\"enter marks\"))\n",
    "print(\"\\n\")\n",
    "print(\"student marks is : \", marks)\n",
    "print(\"type is :\", type(marks))"
   ]
  },
  {
   "cell_type": "code",
   "execution_count": 17,
   "id": "8159087e",
   "metadata": {},
   "outputs": [
    {
     "name": "stdout",
     "output_type": "stream",
     "text": [
      "enter marks34\n",
      "\n",
      "\n",
      "student marks is :  34\n",
      "type is : <class 'int'>\n"
     ]
    }
   ],
   "source": [
    "marks = int(input(\"enter marks\"))\n",
    "print(\"\\n\")\n",
    "print(\"student marks is : \", marks)\n",
    "print(\"type is :\", type(marks))"
   ]
  },
  {
   "cell_type": "code",
   "execution_count": 18,
   "id": "f820d0eb",
   "metadata": {},
   "outputs": [
    {
     "name": "stdout",
     "output_type": "stream",
     "text": [
      "books bundle6\n",
      "\n",
      "\n",
      "number of book bundle : \n"
     ]
    }
   ],
   "source": [
    "books = float(input(\"books bundle\"))\n",
    "print(\"\\n\")\n",
    "print(\"number of book bundle : \")"
   ]
  },
  {
   "cell_type": "code",
   "execution_count": 2,
   "id": "fdb435b3",
   "metadata": {},
   "outputs": [
    {
     "name": "stdout",
     "output_type": "stream",
     "text": [
      "numbers of books sold748655667875\n",
      "type of books sold : <class 'float'>\n"
     ]
    }
   ],
   "source": [
    "books = float(input(\"numbers of books sold\"))\n",
    "print(\"type of books sold :\" , type(books))"
   ]
  },
  {
   "cell_type": "code",
   "execution_count": 22,
   "id": "65595359",
   "metadata": {},
   "outputs": [
    {
     "name": "stdout",
     "output_type": "stream",
     "text": [
      " name of flowers : tulip\n"
     ]
    },
    {
     "ename": "ValueError",
     "evalue": "complex() arg is a malformed string",
     "output_type": "error",
     "traceback": [
      "\u001b[1;31m---------------------------------------------------------------------------\u001b[0m",
      "\u001b[1;31mValueError\u001b[0m                                Traceback (most recent call last)",
      "Cell \u001b[1;32mIn[22], line 1\u001b[0m\n\u001b[1;32m----> 1\u001b[0m flowers \u001b[38;5;241m=\u001b[39m \u001b[38;5;28;43mcomplex\u001b[39;49m\u001b[43m(\u001b[49m\u001b[38;5;28;43minput\u001b[39;49m\u001b[43m(\u001b[49m\u001b[38;5;124;43m\"\u001b[39;49m\u001b[38;5;124;43m name of flowers : \u001b[39;49m\u001b[38;5;124;43m\"\u001b[39;49m\u001b[43m)\u001b[49m\u001b[43m)\u001b[49m\n\u001b[0;32m      2\u001b[0m \u001b[38;5;28mprint\u001b[39m(\u001b[38;5;124m\"\u001b[39m\u001b[38;5;130;01m\\n\u001b[39;00m\u001b[38;5;124m\"\u001b[39m)\n\u001b[0;32m      3\u001b[0m \u001b[38;5;28mprint\u001b[39m(\u001b[38;5;124m\"\u001b[39m\u001b[38;5;124mname of flower :\u001b[39m\u001b[38;5;124m\"\u001b[39m , name )\n",
      "\u001b[1;31mValueError\u001b[0m: complex() arg is a malformed string"
     ]
    }
   ],
   "source": [
    "flowers = complex(input(\" name of flowers : \"))\n",
    "print(\"\\n\")\n",
    "print(\"name of flower :\" , name )\n",
    "                  "
   ]
  },
  {
   "cell_type": "code",
   "execution_count": 3,
   "id": "5273e636",
   "metadata": {},
   "outputs": [
    {
     "data": {
      "text/plain": [
       "int"
      ]
     },
     "execution_count": 3,
     "metadata": {},
     "output_type": "execute_result"
    }
   ],
   "source": [
    "type(5)"
   ]
  },
  {
   "cell_type": "code",
   "execution_count": 4,
   "id": "688b0a3f",
   "metadata": {},
   "outputs": [
    {
     "data": {
      "text/plain": [
       "5"
      ]
     },
     "execution_count": 4,
     "metadata": {},
     "output_type": "execute_result"
    }
   ],
   "source": [
    "int(5)"
   ]
  },
  {
   "cell_type": "code",
   "execution_count": 5,
   "id": "dabd4459",
   "metadata": {},
   "outputs": [
    {
     "data": {
      "text/plain": [
       "5.0"
      ]
     },
     "execution_count": 5,
     "metadata": {},
     "output_type": "execute_result"
    }
   ],
   "source": [
    "float(5)"
   ]
  },
  {
   "cell_type": "code",
   "execution_count": 6,
   "id": "695dff38",
   "metadata": {},
   "outputs": [
    {
     "name": "stdout",
     "output_type": "stream",
     "text": [
      "number : 4\n",
      "a +p\n"
     ]
    }
   ],
   "source": [
    "a = input(\"number : \")\n",
    "print(\"a +p\")"
   ]
  },
  {
   "cell_type": "code",
   "execution_count": null,
   "id": "6b9d0dbd",
   "metadata": {},
   "outputs": [],
   "source": []
  },
  {
   "cell_type": "code",
   "execution_count": null,
   "id": "a31dcd9f",
   "metadata": {},
   "outputs": [],
   "source": []
  }
 ],
 "metadata": {
  "kernelspec": {
   "display_name": "Python 3 (ipykernel)",
   "language": "python",
   "name": "python3"
  },
  "language_info": {
   "codemirror_mode": {
    "name": "ipython",
    "version": 3
   },
   "file_extension": ".py",
   "mimetype": "text/x-python",
   "name": "python",
   "nbconvert_exporter": "python",
   "pygments_lexer": "ipython3",
   "version": "3.10.9"
  }
 },
 "nbformat": 4,
 "nbformat_minor": 5
}
