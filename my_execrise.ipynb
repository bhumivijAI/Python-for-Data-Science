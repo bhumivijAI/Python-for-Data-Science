{
 "cells": [
  {
   "cell_type": "code",
   "execution_count": null,
   "id": "1d83af87",
   "metadata": {},
   "outputs": [],
   "source": [
    "Exercise 1: Calculate the multiplication and sum of two numbers.\n",
    "Exercise 2: Print the sum of the current number and the previous number.\n",
    "Exercise 3: Print characters from a string that are present at an even index number.\n",
    "Exercise 4: Remove first n characters from a string.\n",
    "Exercise 5: Check if the first and last number of a list is the same .\n",
    "Exercise 6: Display numbers divisible by 5 from a list.\n",
    "Exercise 7: Return the count of a given substring from a string.\n",
    "Exercise 8: Print the following pattern.\n",
    "1\n",
    "2 2\n",
    "3 3 3\n",
    "4 4 4 4\n",
    "5 5 5 5 5\n"
   ]
  },
  {
   "cell_type": "code",
   "execution_count": null,
   "id": "d944bbe7",
   "metadata": {},
   "outputs": [],
   "source": [
    "f = list(range(int(input())))\n",
    "for e in f:\n",
    "    g = str(e)\n",
    "    print(e*g)"
   ]
  },
  {
   "cell_type": "code",
   "execution_count": null,
   "id": "e51843ae",
   "metadata": {},
   "outputs": [],
   "source": []
  },
  {
   "cell_type": "code",
   "execution_count": null,
   "id": "295fe01c",
   "metadata": {},
   "outputs": [],
   "source": []
  },
  {
   "cell_type": "code",
   "execution_count": null,
   "id": "12ca121c",
   "metadata": {},
   "outputs": [],
   "source": []
  },
  {
   "cell_type": "code",
   "execution_count": null,
   "id": "ed6bc680",
   "metadata": {},
   "outputs": [],
   "source": []
  },
  {
   "cell_type": "code",
   "execution_count": null,
   "id": "8f87691d",
   "metadata": {},
   "outputs": [],
   "source": []
  },
  {
   "cell_type": "code",
   "execution_count": null,
   "id": "d41dbb9a",
   "metadata": {},
   "outputs": [],
   "source": [
    "y = set()\n",
    "type(y)"
   ]
  },
  {
   "cell_type": "code",
   "execution_count": null,
   "id": "284bf8ab",
   "metadata": {},
   "outputs": [],
   "source": [
    "num1 = int(input(\"first two digit number:\"))\n",
    "num2 = int(input(\"second two digit number:\"))\n",
    "num3 = str(num1)+ '+' +str(num2)+ '='+ str(num1) + str(num2)  \n",
    "print(num3)\n",
    "num12 = int(input(\"first two digit number:\"))\n",
    "num13 = int(input(\"second two digit number:\"))     \n",
    "num6 = num12%10\n",
    "num7 = num13%10\n",
    "num8 = num12//10\n",
    "num9 = num13//10\n",
    "num14 = str(num6)+\"*\"+str(num8)+\"+\"+str(num7)+\"*\"+str(num9)+\"=\"+str(num6*num7+num8*num9)\n",
    "print(num14)"
   ]
  },
  {
   "cell_type": "code",
   "execution_count": null,
   "id": "e8d14567",
   "metadata": {},
   "outputs": [],
   "source": [
    "num12 = int(input(\"first value:\"))\n",
    "num13 = int(input(\"second value:\"))\n",
    "num14 = str(num12)+'*'+str(num13)+'='+str(num12*num13)\n",
    "print(num14)"
   ]
  },
  {
   "cell_type": "code",
   "execution_count": null,
   "id": "6c211306",
   "metadata": {},
   "outputs": [],
   "source": [
    "num1 = int(input(\"first digit number:\"))\n",
    "num2 = int(input(\"second digit number:\"))\n",
    "num3 = str(num1)+ '+' +str(num2)+ '='+ str(num1) + str(num2)  \n",
    "print(num3)\n",
    "num12 = int(input(\"first value:\"))\n",
    "num13 = int(input(\"second value:\"))\n",
    "num14 = str(num12)+'*'+str(num13)+'='+str(num12*num13)\n",
    "print(num14)\n"
   ]
  },
  {
   "cell_type": "code",
   "execution_count": null,
   "id": "3adb7ec4",
   "metadata": {},
   "outputs": [],
   "source": [
    "num1 = int(input(\"first digit number:\"))\n",
    "num2 = int(input(\"second digit number:\"))\n",
    "print(num1+num2),print(num1*num2),print(num1/num2),print(num1-num2)\n"
   ]
  },
  {
   "cell_type": "code",
   "execution_count": null,
   "id": "5c2f3ef3",
   "metadata": {},
   "outputs": [],
   "source": [
    "x = int(input(\"Enter the first number:\"))\n",
    "y = int(input(\"Enter the second number: \"))\n",
    "if  :\n",
    "    print(x+y)\n",
    "if x-y :\n",
    "    print(x-y)\n",
    "if x*y :\n",
    "    print(x*y)\n",
    "if x/y :\n",
    "    print(x/y)"
   ]
  },
  {
   "cell_type": "code",
   "execution_count": null,
   "id": "8e7a88e4",
   "metadata": {},
   "outputs": [],
   "source": [
    "dict = {\"dimple\":\"english\",\"rakesh\":40}\n",
    "print(dict)"
   ]
  },
  {
   "cell_type": "code",
   "execution_count": null,
   "id": "559fbbee",
   "metadata": {},
   "outputs": [],
   "source": [
    "# Write a code to display the name of 10 students through thier roll number (by user)\n",
    "a = int(input(\"enter roll number:\"))\n",
    "if a==1:\n",
    "    print(\"Bhumika sharma\")\n",
    "if a==2:\n",
    "    print(\"Rishi singh\")\n",
    "if a==3:\n",
    "    print(\"Reyansh sharma\")\n",
    "if a==4:\n",
    "    print(\"Harshita nayal\")\n",
    "if a==5:\n",
    "    print(\"Alka sharma\")\n",
    "if a==6:\n",
    "    print(\"Dimple joshi\")\n",
    "if a==7:\n",
    "    print(\"Rakesh sinha\")\n",
    "if a==8:\n",
    "    print(\"Kamal sharma\")\n",
    "if a==9:\n",
    "    print(\"Pratibha joshi\")\n",
    "if a==10:\n",
    "    print(\"Rahul joshi\")    "
   ]
  },
  {
   "cell_type": "code",
   "execution_count": null,
   "id": "c9596a4a",
   "metadata": {},
   "outputs": [],
   "source": [
    "# Write a code to display the name of 10 students through thier roll number (by user)\n",
    "a = int(input(\"enter roll number:\"))\n",
    "if a==1:\n",
    "    print(\"Bhumika sharma\")\n",
    "if a==2:\n",
    "    print(\"Rishi singh\")\n",
    "if a==3:\n",
    "    print(\"Reyansh sharma\")\n",
    "if a==4:\n",
    "    print(\"Harshita nayal\")\n",
    "if a==5:\n",
    "    print(\"Alka sharma\")\n",
    "if a==6:\n",
    "    print(\"Dimple joshi\")\n",
    "if a==7:\n",
    "    print(\"Rakesh sinha\")\n",
    "if a==8:\n",
    "    print(\"Kamal sharma\")\n",
    "if a==9:\n",
    "    print(\"Pratibha joshi\")\n",
    "if a==10:\n",
    "    print(\"Rahul joshi\")    \n",
    "else:\n",
    "    print(\"out of number\")"
   ]
  },
  {
   "cell_type": "code",
   "execution_count": null,
   "id": "1c2707a6",
   "metadata": {},
   "outputs": [],
   "source": [
    "y = {1:\"aa\",2:\"bb\",3:\"cc\",4:\"dd\",5:\"ee\",6:\"ff\",7:\"gg\",8:\"hh\",9:\"ii\",10:\"jj\"}\n",
    "x = int(input(\"students:\"))   # add another dict from the user\n",
    "y[x]"
   ]
  },
  {
   "cell_type": "code",
   "execution_count": null,
   "id": "cb00cb63",
   "metadata": {},
   "outputs": [],
   "source": []
  },
  {
   "cell_type": "code",
   "execution_count": null,
   "id": "ae930f1c",
   "metadata": {},
   "outputs": [],
   "source": [
    "x = \"bhumi\"\n",
    "y = \"Bhumi\"\n",
    "x,y = y,x\n",
    "print(x)"
   ]
  },
  {
   "cell_type": "code",
   "execution_count": null,
   "id": "8fbb079b",
   "metadata": {},
   "outputs": [],
   "source": [
    "a = \"bhumi\"\n",
    "x = [0]\n",
    "y = [1:]\n",
    "x = x.upper()\n",
    "b = x+y\n",
    "print(b)"
   ]
  },
  {
   "cell_type": "code",
   "execution_count": null,
   "id": "6a299062",
   "metadata": {},
   "outputs": [],
   "source": [
    "set1 = {10,20,30,40,50}\n",
    "set2 ={30,40,50,60}\n",
    "(set1.union(set2))"
   ]
  },
  {
   "cell_type": "code",
   "execution_count": null,
   "id": "38da1e9d",
   "metadata": {},
   "outputs": [],
   "source": [
    "set1.intersection(set2)"
   ]
  },
  {
   "cell_type": "code",
   "execution_count": null,
   "id": "14848aab",
   "metadata": {},
   "outputs": [],
   "source": [
    "set1.symmetric_difference(set2)"
   ]
  },
  {
   "cell_type": "code",
   "execution_count": null,
   "id": "b691603e",
   "metadata": {},
   "outputs": [],
   "source": [
    "set1.remove(10),set1.remove(20),set1.remove(30)\n",
    "set1"
   ]
  },
  {
   "cell_type": "code",
   "execution_count": null,
   "id": "12024ff4",
   "metadata": {},
   "outputs": [],
   "source": [
    "x = input(\"Number:\")\n",
    "if x[0:10:1]:\n",
    "    print(\"its an even number\",x)\n",
    "if x[::]:\n",
    "    print(\"its an odd number\",x)\n",
    "else :\n",
    "    print(\"its an odd number\",x)\n",
    "    \n",
    "    "
   ]
  },
  {
   "cell_type": "code",
   "execution_count": null,
   "id": "a6225247",
   "metadata": {},
   "outputs": [],
   "source": [
    "# program to check wheather a number is odd or even ??\n",
    "# cheack wheather a number is a palindrome number ??\n",
    "#  palindrome number : numbers which if we reverse them but there values are not chamge like(141,242,131)"
   ]
  },
  {
   "cell_type": "code",
   "execution_count": null,
   "id": "265fe4b3",
   "metadata": {},
   "outputs": [],
   "source": [
    "x = input(\"Number:\")\n",
    "if x[0: : ]==x[::-1]:\n",
    "    print(\"its an palindrome number\",x)\n",
    "else :\n",
    "    print(\"its not an palindrome number\",x)\n",
    "type(x)"
   ]
  },
  {
   "cell_type": "code",
   "execution_count": null,
   "id": "67d52559",
   "metadata": {},
   "outputs": [],
   "source": [
    "x = int(input(\"enter a number:\"))\n",
    "if x%2==0:\n",
    "    print(\"its an even number\")\n",
    "else:\n",
    "    print(\"its an odd number\")"
   ]
  },
  {
   "cell_type": "code",
   "execution_count": null,
   "id": "5c7ae604",
   "metadata": {},
   "outputs": [],
   "source": [
    "# take the input from the user and make program in which if we give any number it will give the whole table of it ??\n",
    "x = int(input(\"enter the number:\"))\n",
    "y = range(1,11)\n",
    "y==1\n",
    "print(str(x)+\"x\"+ str(y) + \"=\" + str(x*y)) + '\\n'"
   ]
  },
  {
   "cell_type": "code",
   "execution_count": null,
   "id": "973002b0",
   "metadata": {},
   "outputs": [],
   "source": [
    "i = int(input(\"num:\"))\n",
    "if i*i:\n",
    "    print(str(i)+ '*' + str(1) + '=' + str(i*1))\n",
    "    print(str(i)+ '*' + str(2) + '=' + str(i*2))\n",
    "    print(str(i)+ '*' + str(3) + '=' + str(i*3))\n",
    "    print(str(i)+ '*' + str(4) + '=' + str(i*4))\n",
    "    print(str(i)+ '*' + str(5) + '=' + str(i*5))\n",
    "    print(str(i)+ '*' + str(6) + '=' + str(i*6))\n",
    "    print(str(i)+ '*' + str(7) + '=' + str(i*7))\n",
    "    print(str(i)+ '*' + str(8) + '=' + str(i*8))\n",
    "    print(str(i)+ '*' + str(9) + '=' + str(i*9))\n",
    "    print(str(i)+ '*' + str(10) + '=' + str(i*10))\n",
    "type(i)    "
   ]
  },
  {
   "cell_type": "code",
   "execution_count": null,
   "id": "b57d182d",
   "metadata": {},
   "outputs": [],
   "source": [
    "x = int(input(\"enter the number:\"))\n",
    "for y in range(1,11):\n",
    "    for y in x*y:\n",
    "        print(x,'*',y,'=',x*y)"
   ]
  },
  {
   "cell_type": "code",
   "execution_count": null,
   "id": "43e03bf7",
   "metadata": {},
   "outputs": [],
   "source": [
    "for x in range(1,11):\n",
    "    if x*2:\n",
    "        print(2,'*',x, '=',2*x)\n",
    "        for y in range(1,11):\n",
    "            if y*3:\n",
    "                print(3,'*',y,\"=\",3*y)"
   ]
  },
  {
   "cell_type": "code",
   "execution_count": null,
   "id": "4aa19d46",
   "metadata": {},
   "outputs": [],
   "source": [
    "# print the multipication table of 2:\n",
    "for x in range(1,11):\n",
    "    print(2,' * ',x, '=',x*2)\n",
    "    "
   ]
  },
  {
   "cell_type": "code",
   "execution_count": null,
   "id": "d55b9c97",
   "metadata": {},
   "outputs": [],
   "source": [
    "for i in range(1,11):\n",
    "    for y in range(2,8):\n",
    "        print(y,'*',i,'=',y*i,end=\"\\t\")\n",
    "    print()        \n",
    "        "
   ]
  },
  {
   "cell_type": "code",
   "execution_count": null,
   "id": "1a9d4fd6",
   "metadata": {},
   "outputs": [],
   "source": []
  },
  {
   "cell_type": "code",
   "execution_count": null,
   "id": "99e95f7c",
   "metadata": {},
   "outputs": [],
   "source": [
    "for y in range(1,11):\n",
    "    if x==2:\n",
    "        print(x,' * ',y, '=',x*y)\n",
    "        for y in range(1,11):\n",
    "            if x==3:\n",
    "                print(x,'*',y,'=',x*y)  "
   ]
  },
  {
   "cell_type": "code",
   "execution_count": null,
   "id": "930195e1",
   "metadata": {},
   "outputs": [],
   "source": [
    "for x in range(1,11,1):\n",
    "    print(2,' * ',x, '=',x*2)\n",
    "    for x in range(1,11,1):\n",
    "        print(3,' * ',x, '=',x*3)\n",
    "        for x in range(1,11,1):\n",
    "            print(4,' * ',x, '=',x*4)\n",
    "            for x in range(1,11,1):\n",
    "                print(5,' * ',x, '=',x*5)\n",
    "                for x in range(1,11,1):\n",
    "                    print(6,' * ',x, '=',x*6)\n",
    "                    for x in range(1,11,1):\n",
    "                        print(7,' * ',x, '=',x*7)\n",
    "    "
   ]
  },
  {
   "cell_type": "code",
   "execution_count": null,
   "id": "7f2ec2ac",
   "metadata": {},
   "outputs": [],
   "source": [
    "for x in range(1,11):\n",
    "    for y in range(1,11):\n",
    "        for v in range(1,11):\n",
    "            for b in range(1,11):\n",
    "                for c in range(1,11):\n",
    "                    for n in range(1,11):\n",
    "                        print(2,' * ',x, '=',x*2)\n",
    "                        print(3,' * ',y, '=',y*3)\n",
    "                        print(4,' * ',v, '=',v*4)\n",
    "                        print(5,' * ',b, '=',b*5)\n",
    "                        print(6,' * ',c, '=',c*6)\n",
    "                        print(7,' * ',n, '=',n*7)"
   ]
  },
  {
   "cell_type": "code",
   "execution_count": null,
   "id": "089eb498",
   "metadata": {},
   "outputs": [],
   "source": [
    "for x in range(1,11):\n",
    "    print(2,' * ',x, '=',x*2)\n",
    "for y in range(1,11):\n",
    "    print(3,'*',y,'=',y*3)\n",
    "for v in range(1,11):\n",
    "    print(4,'*',v,'=',v*4)\n",
    "for b in range(1,11):\n",
    "    print(5,'*',b,'=',b*5)\n",
    "for c in range(1,11):\n",
    "    print(6,'*',c,'=',c*6)\n",
    "for n in range(1,11):\n",
    "    print(7,'*',n,'=',n*7)            "
   ]
  },
  {
   "cell_type": "code",
   "execution_count": null,
   "id": "724a7d0e",
   "metadata": {},
   "outputs": [],
   "source": [
    "x = int(input(\"Enter the number:\"))\n",
    "for y in 1,2,3,4,5,6,7,8,9,10:\n",
    "    for x in x,'*',y,'=',x*y  :\n",
    "        print(x)\n",
    "    "
   ]
  },
  {
   "cell_type": "code",
   "execution_count": null,
   "id": "229cf192",
   "metadata": {},
   "outputs": [],
   "source": [
    "t = int(input(\"Enter the number:\"))\n",
    "w = 1,2,3,4,5,6,7,8,9,10\n",
    "for e in w:\n",
    "    print(t,'*',e,'=',t*e)"
   ]
  },
  {
   "cell_type": "code",
   "execution_count": null,
   "id": "4b9fc0ce",
   "metadata": {},
   "outputs": [],
   "source": [
    "i = int(input(\"num:\"))\n",
    "if i*i:\n",
    "    print(str(i)+ '*' + str(1) + '=' + str(i*1))"
   ]
  },
  {
   "cell_type": "code",
   "execution_count": null,
   "id": "43679efe",
   "metadata": {},
   "outputs": [],
   "source": [
    "i = int(input(\"num:\"))\n",
    "if i*i:\n",
    "    print((i)+ '*' + (1) + '=' + (i*1))"
   ]
  },
  {
   "cell_type": "code",
   "execution_count": null,
   "id": "772a61ca",
   "metadata": {},
   "outputs": [],
   "source": [
    "x = int(input(\"Enter the number:\"))\n",
    "i = 1\n",
    "if i>11:\n",
    "    (str(x)+\"x\"+ str(i) + \"=\" + str(x*i)) + '\\n'"
   ]
  },
  {
   "cell_type": "code",
   "execution_count": null,
   "id": "c54e6a05",
   "metadata": {},
   "outputs": [],
   "source": [
    "# make a calculator?? with if else statment??\n",
    "x = int(input(\"Enter the first number:\"))\n",
    "y = int(input(\"Enter the second number:\"))\n",
    "if x+y==0:\n",
    "    print(\"added number:\",x)\n",
    "if x-y==0:\n",
    "    print(\"substracted number:\",x)\n",
    "if x*y==0:\n",
    "    print(\"multiplyed nuumber:\",x)\n",
    "if x/y==0:\n",
    "    print(\"divided number:\",x)\n",
    "else:\n",
    "    print(\"Invalid number,please put the positive integers\")"
   ]
  },
  {
   "cell_type": "code",
   "execution_count": null,
   "id": "ee1296bd",
   "metadata": {},
   "outputs": [],
   "source": [
    "x = int(input(\"Enter the first number:\"))\n",
    "y = int(input(\"Enter the second number:\"))\n",
    "z = input(\"which arithmatic operation: \")\n",
    "if z==\"add\":\n",
    "    print(x+y)\n",
    "else:\n",
    "    print(x+y)\n",
    "if z==\"substract\":\n",
    "    print(x-y)\n",
    "else:\n",
    "    print(x-y)\n",
    "if z==\"multiply\":\n",
    "    print(x*y)\n",
    "else:\n",
    "    print(x*y)\n",
    "if z==\"divide\":\n",
    "    print(x/y)\n",
    "else:\n",
    "    print(x/y\n",
    "         )"
   ]
  },
  {
   "cell_type": "code",
   "execution_count": null,
   "id": "ba9fb56f",
   "metadata": {},
   "outputs": [],
   "source": [
    "x = int(input(\"Enter the first number:\"))\n",
    "y = int(input(\"Enter the second number:\"))\n",
    "z = input(\"which arithmatic operation: \")\n",
    "if z==\"add\":\n",
    "    print(x+y)\n",
    "if z==\"substract\":\n",
    "    print(x-y)\n",
    "if z==\"multiply\":\n",
    "    print(x*y)\n",
    "if z==\"divide\":\n",
    "    print(x/y)\n",
    "if z==\"modulous\":\n",
    "    print(x%y)\n",
    "if z==\"floor division\":\n",
    "    print(x//y)"
   ]
  },
  {
   "cell_type": "code",
   "execution_count": null,
   "id": "83ef7700",
   "metadata": {},
   "outputs": [],
   "source": [
    "x = int(input(\"Enter the first number:\"))\n",
    "y = int(input(\"Enter the second number:\"))\n",
    "z = input(\"which arithmatic operation: \")\n",
    "if z==\"add\":\n",
    "    print(x+y)\n",
    "if z==\"substract\":\n",
    "    print(x-y)\n",
    "if z==\"multiply\":\n",
    "    print(x*y)\n",
    "if z==\"divide\":\n",
    "    print(x/y)"
   ]
  },
  {
   "cell_type": "code",
   "execution_count": null,
   "id": "69994e35",
   "metadata": {},
   "outputs": [],
   "source": [
    "x = int(input(\"Enter the first number:\"))\n",
    "y = int(input(\"Enter the second number:\"))\n",
    "z = input(\"To do operations use (a=add,s=substract,m=multiply,d=divide): \")\n",
    "a = x+y\n",
    "s = x-y\n",
    "m = x*y\n",
    "d = x/y\n",
    "if z==a:\n",
    "    print(a)\n",
    "if z==s:\n",
    "    print(s)\n",
    "if z==m:\n",
    "    print(m)\n",
    "if z==d:\n",
    "    print(d)\n",
    "    "
   ]
  },
  {
   "cell_type": "code",
   "execution_count": null,
   "id": "a041d566",
   "metadata": {},
   "outputs": [],
   "source": [
    "# print the sum of all even numbers from 1 to 10\n",
    "sum=0\n",
    "for i in range(1,11):\n",
    "    if i%2==0:\n",
    "        sum = sum + i  # sum+=i\n",
    "print(\"the sum of even number from 1 to 10 is:\",sum)        "
   ]
  },
  {
   "cell_type": "code",
   "execution_count": null,
   "id": "947fb736",
   "metadata": {},
   "outputs": [],
   "source": [
    "# classify numbers from 1 to 100 as even or odd??\n",
    "x = range(1,101)  # we can also write it as range(1,100+1)\n",
    "for i in x:\n",
    "    if i%2==0:\n",
    "        print(\"it is an even number:\",i)\n",
    "    else:\n",
    "        print(\"it is an odd number:\",i)"
   ]
  },
  {
   "cell_type": "code",
   "execution_count": null,
   "id": "4995a834",
   "metadata": {},
   "outputs": [],
   "source": [
    "sum=0\n",
    "for i in range(2,11,2):\n",
    "        sum+=i\n",
    "print(sum)"
   ]
  },
  {
   "cell_type": "code",
   "execution_count": null,
   "id": "13fd4501",
   "metadata": {},
   "outputs": [],
   "source": [
    "sum_of_numbers=0\n",
    "for _range in range(2,11,2):\n",
    "    sum_of_num==sum(_range)\n",
    "print(_range)\n"
   ]
  },
  {
   "cell_type": "code",
   "execution_count": null,
   "id": "93ce4279",
   "metadata": {},
   "outputs": [],
   "source": [
    "\n",
    "\n",
    "number = list(i for i in range(2,11,2))\n",
    "sum_of_numbers = sum(number)\n",
    "print(number)"
   ]
  },
  {
   "cell_type": "code",
   "execution_count": null,
   "id": "0156c74f",
   "metadata": {},
   "outputs": [],
   "source": [
    "# ask the user for the range from which the even numbers should be printed???"
   ]
  },
  {
   "cell_type": "code",
   "execution_count": null,
   "id": "6efca251",
   "metadata": {},
   "outputs": [],
   "source": [
    "r = int(input(\"start:\"))\n",
    "e = int(input(\"stop:\"))\n",
    "sum = 0\n",
    "for q in range(r,e+1,2):\n",
    "    if q%2==0:\n",
    "        sum+=q\n",
    "print(sum)"
   ]
  },
  {
   "cell_type": "code",
   "execution_count": null,
   "id": "81523f24",
   "metadata": {},
   "outputs": [],
   "source": [
    "a = range(int(input()))\n",
    "sum=0\n",
    "for i in a:\n",
    "    if i%2==0:\n",
    "        sum+=i\n",
    "print(sum)"
   ]
  },
  {
   "cell_type": "code",
   "execution_count": null,
   "id": "8f9607b9",
   "metadata": {},
   "outputs": [],
   "source": [
    "x = input(\"Enter the range from were you want the sum of even numbers:\")\n",
    "sum=0\n",
    "for i in x:\n",
    "    if i%2==0:\n",
    "        sum+=i\n",
    "print(sum)"
   ]
  },
  {
   "cell_type": "code",
   "execution_count": null,
   "id": "4f527b41",
   "metadata": {},
   "outputs": [],
   "source": [
    "x = range(input(\"Enter the range from were you want the sum of even numbers:\"))\n",
    "sum=0\n",
    "for i in x:\n",
    "    if i%2==0:\n",
    "        sum+=i\n",
    "print(sum)"
   ]
  },
  {
   "cell_type": "code",
   "execution_count": null,
   "id": "bbbac7e2",
   "metadata": {},
   "outputs": [],
   "source": [
    "b = int(input(\"Enter the range from were you want the sum of even numbers:\"))\n",
    "range(b)"
   ]
  },
  {
   "cell_type": "code",
   "execution_count": null,
   "id": "4a33ea40",
   "metadata": {},
   "outputs": [],
   "source": [
    "# square each number inside a list and finally print it??\n",
    "x = [2**,3**,4**,5**]\n",
    "print(x)"
   ]
  },
  {
   "cell_type": "code",
   "execution_count": null,
   "id": "1848d5ac",
   "metadata": {},
   "outputs": [],
   "source": [
    "x = [[2*2],[3*3],[4*4],[5*5]]\n",
    "print(x)"
   ]
  },
  {
   "cell_type": "code",
   "execution_count": null,
   "id": "c126b0b0",
   "metadata": {},
   "outputs": [],
   "source": [
    "x = [2,3,4,5]\n",
    "_square = [num*num for num in x]\n",
    "print(_square)"
   ]
  },
  {
   "cell_type": "code",
   "execution_count": null,
   "id": "dd020875",
   "metadata": {},
   "outputs": [],
   "source": [
    "x = [2,3,4,5]\n",
    "for x in x:\n",
    "    print(x*x)"
   ]
  },
  {
   "cell_type": "code",
   "execution_count": null,
   "id": "e3bbcc90",
   "metadata": {},
   "outputs": [],
   "source": [
    "for x in x:\n",
    "    print(x)\n",
    "type(x)    "
   ]
  },
  {
   "cell_type": "code",
   "execution_count": null,
   "id": "a54a1d09",
   "metadata": {},
   "outputs": [],
   "source": [
    "for x in [[2*2],[3*3],[4*4],[5*5]]:\n",
    "    print(x)"
   ]
  },
  {
   "cell_type": "code",
   "execution_count": null,
   "id": "f5c7deac",
   "metadata": {},
   "outputs": [],
   "source": [
    "list = [2,3,4,5]\n",
    "for x in [2,3,4,5]:\n",
    "    print(x*[2,3,4,5])"
   ]
  },
  {
   "cell_type": "code",
   "execution_count": null,
   "id": "de40df2d",
   "metadata": {},
   "outputs": [],
   "source": [
    "v = [2,3,4,5]\n",
    "for x in list[v]:\n",
    "    print(x*x)"
   ]
  },
  {
   "cell_type": "code",
   "execution_count": null,
   "id": "bc998001",
   "metadata": {},
   "outputs": [],
   "source": [
    "x = list[2,3,4,5]\n",
    "_square = list\n",
    "for y in x:\n",
    "    _square.append(y*y)\n",
    "print(_square)"
   ]
  },
  {
   "cell_type": "code",
   "execution_count": null,
   "id": "c384daf2",
   "metadata": {},
   "outputs": [],
   "source": [
    "x = list[2,3,4,5]\n",
    "_square = []\n",
    "for y in x:\n",
    "    _square.append(y*y)\n",
    "print(_square)"
   ]
  },
  {
   "cell_type": "code",
   "execution_count": null,
   "id": "1a88650a",
   "metadata": {},
   "outputs": [],
   "source": []
  },
  {
   "cell_type": "code",
   "execution_count": null,
   "id": "554b726e",
   "metadata": {},
   "outputs": [],
   "source": []
  },
  {
   "cell_type": "code",
   "execution_count": null,
   "id": "2d0f18ee",
   "metadata": {},
   "outputs": [],
   "source": []
  },
  {
   "cell_type": "code",
   "execution_count": null,
   "id": "85275026",
   "metadata": {},
   "outputs": [],
   "source": []
  },
  {
   "cell_type": "code",
   "execution_count": null,
   "id": "3e992c90",
   "metadata": {},
   "outputs": [],
   "source": []
  },
  {
   "cell_type": "code",
   "execution_count": null,
   "id": "3dc76d5b",
   "metadata": {},
   "outputs": [],
   "source": []
  },
  {
   "cell_type": "code",
   "execution_count": null,
   "id": "622bfeb2",
   "metadata": {},
   "outputs": [],
   "source": []
  },
  {
   "cell_type": "code",
   "execution_count": null,
   "id": "4216c4de",
   "metadata": {},
   "outputs": [],
   "source": []
  },
  {
   "cell_type": "code",
   "execution_count": null,
   "id": "8c1a2496",
   "metadata": {},
   "outputs": [],
   "source": [
    "x = [2,3,4,5]\n",
    "_square = []\n",
    "for y in x:\n",
    "    _square.append(y*y)\n",
    "print(_square)\n",
    "print(type(_square))\n",
    "print(id(x))\n",
    "print(id(y))\n",
    "print(id(_square))"
   ]
  },
  {
   "cell_type": "code",
   "execution_count": null,
   "id": "da6a87eb",
   "metadata": {},
   "outputs": [],
   "source": []
  },
  {
   "cell_type": "code",
   "execution_count": null,
   "id": "a62195ab",
   "metadata": {},
   "outputs": [],
   "source": []
  },
  {
   "cell_type": "code",
   "execution_count": null,
   "id": "ea383c7f",
   "metadata": {},
   "outputs": [],
   "source": []
  },
  {
   "cell_type": "code",
   "execution_count": null,
   "id": "0d1d7112",
   "metadata": {},
   "outputs": [],
   "source": []
  },
  {
   "cell_type": "code",
   "execution_count": null,
   "id": "8990cbd1",
   "metadata": {},
   "outputs": [],
   "source": []
  },
  {
   "cell_type": "code",
   "execution_count": null,
   "id": "373bac8f",
   "metadata": {},
   "outputs": [],
   "source": []
  },
  {
   "cell_type": "code",
   "execution_count": null,
   "id": "c11f348b",
   "metadata": {},
   "outputs": [],
   "source": []
  },
  {
   "cell_type": "code",
   "execution_count": null,
   "id": "0ffb1ccd",
   "metadata": {},
   "outputs": [],
   "source": []
  },
  {
   "cell_type": "code",
   "execution_count": null,
   "id": "1a51265c",
   "metadata": {},
   "outputs": [],
   "source": [
    "y = {1:\"aa\",2:\"bb\",3:\"cc\",4:\"dd\",5:\"ee\",6:\"ff\",7:\"gg\",8:\"hh\",9:\"ii\",10:\"jj\"}\n",
    "x = int(input(\"students:\"))   # add another dict from the user\n",
    "y[x]"
   ]
  },
  {
   "cell_type": "code",
   "execution_count": null,
   "id": "232a0a73",
   "metadata": {},
   "outputs": [],
   "source": [
    "y = {1:\"aa\",2:\"bb\",3:\"cc\",4:\"dd\",5:\"ee\",6:\"ff\",7:\"gg\",8:\"hh\",9:\"ii\",10:\"jj\"}\n",
    "x = input(\"students:\")   # add another dict from the user\n",
    "print(y)"
   ]
  },
  {
   "cell_type": "code",
   "execution_count": null,
   "id": "59643e15",
   "metadata": {},
   "outputs": [],
   "source": [
    "y = {1:\"aa\",2:\"bb\",3:\"cc\",4:\"dd\",5:\"ee\",6:\"ff\",7:\"gg\",8:\"hh\",9:\"ii\",10:\"jj\"}\n",
    "x = int(input(\"students:\"))   \n",
    "y[x]"
   ]
  },
  {
   "cell_type": "code",
   "execution_count": null,
   "id": "64726bbb",
   "metadata": {},
   "outputs": [],
   "source": []
  },
  {
   "cell_type": "code",
   "execution_count": null,
   "id": "971ed928",
   "metadata": {},
   "outputs": [],
   "source": []
  },
  {
   "cell_type": "code",
   "execution_count": null,
   "id": "79df6604",
   "metadata": {},
   "outputs": [],
   "source": []
  },
  {
   "cell_type": "code",
   "execution_count": null,
   "id": "3defa32f",
   "metadata": {},
   "outputs": [],
   "source": []
  },
  {
   "cell_type": "code",
   "execution_count": null,
   "id": "67e7e44d",
   "metadata": {},
   "outputs": [],
   "source": []
  }
 ],
 "metadata": {
  "kernelspec": {
   "display_name": "Python 3 (ipykernel)",
   "language": "python",
   "name": "python3"
  },
  "language_info": {
   "codemirror_mode": {
    "name": "ipython",
    "version": 3
   },
   "file_extension": ".py",
   "mimetype": "text/x-python",
   "name": "python",
   "nbconvert_exporter": "python",
   "pygments_lexer": "ipython3",
   "version": "3.10.9"
  }
 },
 "nbformat": 4,
 "nbformat_minor": 5
}
