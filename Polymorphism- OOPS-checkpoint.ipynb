{
 "cells": [
  {
   "cell_type": "markdown",
   "id": "0386c280",
   "metadata": {},
   "source": [
    "<font size = 4>The term \"polymorhism \" comes from the Greek language and means \"somthing that takes on multiple forms.\""
   ]
  },
  {
   "cell_type": "markdown",
   "id": "3d7162f5",
   "metadata": {},
   "source": [
    "<font size = 4>In OOPs, it refers to the ability of a method to exist in various forms(behaviours)."
   ]
  },
  {
   "cell_type": "markdown",
   "id": "c17dffa8",
   "metadata": {},
   "source": [
    "Poly (many) + morph(forms) = Polymorphism"
   ]
  },
  {
   "cell_type": "code",
   "execution_count": 3,
   "id": "5094d692",
   "metadata": {},
   "outputs": [],
   "source": [
    "# ability of methods with different forms , python doesen't support overloding"
   ]
  },
  {
   "cell_type": "markdown",
   "id": "0bf4de0f",
   "metadata": {},
   "source": [
    "# Method Overriding "
   ]
  },
  {
   "cell_type": "markdown",
   "id": "9c7b01cc",
   "metadata": {},
   "source": [
    "Method overriding is a powerful feature that allows you to redefine a method of the parent class \n",
    "in the child class.\n",
    "\n"
   ]
  },
  {
   "cell_type": "code",
   "execution_count": 4,
   "id": "8965f355",
   "metadata": {},
   "outputs": [
    {
     "name": "stdout",
     "output_type": "stream",
     "text": [
      " roy is a data scientist\n"
     ]
    }
   ],
   "source": [
    "class Profession :\n",
    "    def __init__(self,name,prof):\n",
    "        self.name = name\n",
    "        self.prof = prof\n",
    "        \n",
    "    def display_prof(self):\n",
    "        print(f\"{self.name} has profession {self.prof}\")\n",
    "        \n",
    "class data_scientist(Profession):\n",
    "    def display_prof(self):\n",
    "        print(f\" {self.name} is a data scientist\")\n",
    "        \n",
    "x = data_scientist(\"roy\",\"data scientist\")\n",
    "x.display_prof()\n",
    "        \n",
    "        "
   ]
  },
  {
   "cell_type": "code",
   "execution_count": null,
   "id": "e2df7012",
   "metadata": {},
   "outputs": [],
   "source": []
  },
  {
   "cell_type": "markdown",
   "id": "18298352",
   "metadata": {},
   "source": [
    "# Method Overloading"
   ]
  },
  {
   "cell_type": "markdown",
   "id": "1b16d442",
   "metadata": {},
   "source": [
    "Two or more methods have the same name but different numbers of parameters within the same class."
   ]
  },
  {
   "cell_type": "code",
   "execution_count": 14,
   "id": "46464c43",
   "metadata": {},
   "outputs": [
    {
     "ename": "TypeError",
     "evalue": "Person.display() takes 1 positional argument but 2 were given",
     "output_type": "error",
     "traceback": [
      "\u001b[1;31m---------------------------------------------------------------------------\u001b[0m",
      "\u001b[1;31mTypeError\u001b[0m                                 Traceback (most recent call last)",
      "Cell \u001b[1;32mIn[14], line 15\u001b[0m\n\u001b[0;32m     12\u001b[0m         \u001b[38;5;28mprint\u001b[39m(\u001b[38;5;124mf\u001b[39m\u001b[38;5;124m\"\u001b[39m\u001b[38;5;132;01m{\u001b[39;00m\u001b[38;5;28mself\u001b[39m\u001b[38;5;241m.\u001b[39mname\u001b[38;5;132;01m}\u001b[39;00m\u001b[38;5;124m has work experience of \u001b[39m\u001b[38;5;132;01m{\u001b[39;00m\u001b[38;5;28mself\u001b[39m\u001b[38;5;241m.\u001b[39mexp\u001b[38;5;132;01m}\u001b[39;00m\u001b[38;5;124m years\u001b[39m\u001b[38;5;124m\"\u001b[39m)\n\u001b[0;32m     14\u001b[0m p1 \u001b[38;5;241m=\u001b[39m Person(\u001b[38;5;124m\"\u001b[39m\u001b[38;5;124mRoy\u001b[39m\u001b[38;5;124m\"\u001b[39m,\u001b[38;5;241m18\u001b[39m,\u001b[38;5;241m5\u001b[39m)\n\u001b[1;32m---> 15\u001b[0m \u001b[43mp1\u001b[49m\u001b[38;5;241;43m.\u001b[39;49m\u001b[43mdisplay\u001b[49m\u001b[43m(\u001b[49m\u001b[38;5;241;43m4\u001b[39;49m\u001b[43m)\u001b[49m\n\u001b[0;32m     16\u001b[0m p1\u001b[38;5;241m.\u001b[39mdisplay()\n",
      "\u001b[1;31mTypeError\u001b[0m: Person.display() takes 1 positional argument but 2 were given"
     ]
    }
   ],
   "source": [
    "class Person:\n",
    "    def __init__(self,name,age,exp):\n",
    "        self.name = name\n",
    "        self.age = age \n",
    "        self.exp = exp\n",
    "        \n",
    "    def display(self):\n",
    "        print(f\"{self.name} has work experience of {self.exp} years\")\n",
    "        \n",
    "    def dispay(self,new_exp):\n",
    "        self.exp = new_exp\n",
    "        print(f\"{self.name} has work experience of {self.exp} years\")\n",
    "        \n",
    "p1 = Person(\"Roy\",18,5)\n",
    "p1.display(4)\n",
    "p1.display()\n",
    "        "
   ]
  },
  {
   "cell_type": "code",
   "execution_count": 11,
   "id": "89870d79",
   "metadata": {},
   "outputs": [
    {
     "name": "stdout",
     "output_type": "stream",
     "text": [
      "Roy has work experience of 5 years\n",
      "Roy has work experience of 10 years\n"
     ]
    }
   ],
   "source": [
    "class Person:\n",
    "    def __init__(self,name,age,exp):\n",
    "        self.name = name\n",
    "        self.age = age \n",
    "        self.exp = exp\n",
    "        \n",
    "    def display(self,new_exp= None):\n",
    "        if new_exp != None:\n",
    "            self.exp = new_exp\n",
    "            print(f\"{self.name} has work experience of {self.exp} years\")\n",
    "        \n",
    "        else:\n",
    "             print(f\"{self.name} has work experience of {self.exp} years\")\n",
    "                \n",
    "p1 = Person(\"Roy\",18,5)\n",
    "p1.display()\n",
    "p1.display(10)                \n",
    "        "
   ]
  },
  {
   "cell_type": "code",
   "execution_count": 15,
   "id": "66ddbce3",
   "metadata": {},
   "outputs": [
    {
     "ename": "NameError",
     "evalue": "name 'self' is not defined",
     "output_type": "error",
     "traceback": [
      "\u001b[1;31m---------------------------------------------------------------------------\u001b[0m",
      "\u001b[1;31mNameError\u001b[0m                                 Traceback (most recent call last)",
      "Cell \u001b[1;32mIn[15], line 16\u001b[0m\n\u001b[0;32m     13\u001b[0m              \u001b[38;5;28mprint\u001b[39m(\u001b[38;5;124mf\u001b[39m\u001b[38;5;124m\"\u001b[39m\u001b[38;5;132;01m{\u001b[39;00m\u001b[38;5;28mself\u001b[39m\u001b[38;5;241m.\u001b[39mname\u001b[38;5;132;01m}\u001b[39;00m\u001b[38;5;124m has work experience of \u001b[39m\u001b[38;5;132;01m{\u001b[39;00m\u001b[38;5;28mself\u001b[39m\u001b[38;5;241m.\u001b[39mexp\u001b[38;5;132;01m}\u001b[39;00m\u001b[38;5;124m years\u001b[39m\u001b[38;5;124m\"\u001b[39m)\n\u001b[0;32m     15\u001b[0m p1 \u001b[38;5;241m=\u001b[39m Person(\u001b[38;5;124m\"\u001b[39m\u001b[38;5;124mRoy\u001b[39m\u001b[38;5;124m\"\u001b[39m,\u001b[38;5;241m18\u001b[39m,\u001b[38;5;241m5\u001b[39m)\n\u001b[1;32m---> 16\u001b[0m \u001b[38;5;28;43mself\u001b[39;49m\u001b[38;5;241m.\u001b[39mdisplay()\n\u001b[0;32m     17\u001b[0m p1\u001b[38;5;241m.\u001b[39mdisplay(\u001b[38;5;241m10\u001b[39m)\n",
      "\u001b[1;31mNameError\u001b[0m: name 'self' is not defined"
     ]
    }
   ],
   "source": [
    "class Person:\n",
    "    def __init__(self,name,age,exp):\n",
    "        self.name = name\n",
    "        self.age = age \n",
    "        self.exp = exp\n",
    "        \n",
    "    def display(self,new_exp= None):\n",
    "        if new_exp != None:\n",
    "            self.exp = new_exp\n",
    "            print(f\"{self.name} has work experience of {self.exp} years\")\n",
    "        \n",
    "        else:\n",
    "             print(f\"{self.name} has work experience of {self.exp} years\")\n",
    "                \n",
    "p1 = Person(\"Roy\",18,5)\n",
    "self.display()       # outside the init method or any method self doesen't exist,only exist in the method \n",
    "p1.display(10)       #          \n",
    "        "
   ]
  },
  {
   "cell_type": "markdown",
   "id": "44d2e57d",
   "metadata": {},
   "source": [
    "# Operators Overloding"
   ]
  },
  {
   "cell_type": "markdown",
   "id": "f8460e4c",
   "metadata": {},
   "source": [
    "* Operator Overloading is a feature in Python that allows developers to redefine the behaviour of mathematical and comparison\n",
    "  operatos for custum data types . This means that you can use the standard mathematical opertators(+,-,*,/etc) and camparision\n",
    "  operator(>,<,==,etc) in your own classes."
   ]
  },
  {
   "cell_type": "markdown",
   "id": "411dca61",
   "metadata": {},
   "source": [
    " Addition  +     __add__(self,other)\n",
    " Subtraction -   __sub__(self,other)\n",
    "Multipication *  __mul__(self,other) \n",
    "Division /       __truediv__(self,other)\n",
    "Floor division //__floordiv__(self,other)\n",
    "Less than <      __lt__(self,other)\n",
    "Greater than >   __gt__(self,other)\n",
    "Equals to =      __eq__(self,other)\n",
    "Not equal  !=    __ne__(self,other)"
   ]
  },
  {
   "cell_type": "code",
   "execution_count": 10,
   "id": "40b13503",
   "metadata": {},
   "outputs": [
    {
     "name": "stdout",
     "output_type": "stream",
     "text": [
      "[4, 6]\n",
      "[-2, -2]\n"
     ]
    }
   ],
   "source": [
    "class Poly:\n",
    "    def __init__(self,a,b):\n",
    "        self.a = a\n",
    "        self.b = b\n",
    "        \n",
    "    def __add__(self,other):\n",
    "        sum_a = self.a + other.a\n",
    "        sum_b = self.b + other.b\n",
    "        return [sum_a,sum_b]\n",
    "    \n",
    "    def __sub__(self,other):\n",
    "        diff_a = self.a - other.a\n",
    "        diff_b = self.b - other.b\n",
    "        return [diff_a,diff_b]\n",
    "    \n",
    "p = Poly(1,2)\n",
    "p1 = Poly(3,4)\n",
    "print(p+p1)\n",
    "print(p-p1)\n",
    "        "
   ]
  },
  {
   "cell_type": "code",
   "execution_count": 6,
   "id": "de425aab",
   "metadata": {},
   "outputs": [],
   "source": [
    "# class = data type      custom data types(customise by us that means we can customise them for are own classes.)"
   ]
  },
  {
   "cell_type": "code",
   "execution_count": 4,
   "id": "693b4620",
   "metadata": {},
   "outputs": [
    {
     "name": "stdout",
     "output_type": "stream",
     "text": [
      "Help on wrapper_descriptor:\n",
      "\n",
      "__add__(self, value, /)\n",
      "    Return self+value.\n",
      "\n"
     ]
    }
   ],
   "source": [
    "help(int.__add__)"
   ]
  },
  {
   "cell_type": "code",
   "execution_count": 16,
   "id": "5dbafe26",
   "metadata": {},
   "outputs": [
    {
     "data": {
      "text/plain": [
       "46"
      ]
     },
     "execution_count": 16,
     "metadata": {},
     "output_type": "execute_result"
    }
   ],
   "source": [
    "12+34"
   ]
  },
  {
   "cell_type": "code",
   "execution_count": 17,
   "id": "e8305ae5",
   "metadata": {},
   "outputs": [
    {
     "data": {
      "text/plain": [
       "'helloworld'"
      ]
     },
     "execution_count": 17,
     "metadata": {},
     "output_type": "execute_result"
    }
   ],
   "source": [
    "\"hello\"+ \"world\""
   ]
  },
  {
   "cell_type": "code",
   "execution_count": 18,
   "id": "1765c670",
   "metadata": {},
   "outputs": [
    {
     "data": {
      "text/plain": [
       "[1, 2, 3, 4, 5, 6]"
      ]
     },
     "execution_count": 18,
     "metadata": {},
     "output_type": "execute_result"
    }
   ],
   "source": [
    "[1,2,3] +[4,5,6]"
   ]
  },
  {
   "cell_type": "code",
   "execution_count": 3,
   "id": "4337961f",
   "metadata": {},
   "outputs": [
    {
     "ename": "NameError",
     "evalue": "name 'p1' is not defined",
     "output_type": "error",
     "traceback": [
      "\u001b[1;31m---------------------------------------------------------------------------\u001b[0m",
      "\u001b[1;31mNameError\u001b[0m                                 Traceback (most recent call last)",
      "Cell \u001b[1;32mIn[3], line 1\u001b[0m\n\u001b[1;32m----> 1\u001b[0m \u001b[43mp1\u001b[49m\u001b[38;5;241m+\u001b[39mp2\n",
      "\u001b[1;31mNameError\u001b[0m: name 'p1' is not defined"
     ]
    }
   ],
   "source": [
    "p1+p2 # because there is no add method in p1 and p2"
   ]
  },
  {
   "cell_type": "code",
   "execution_count": null,
   "id": "18ea8007",
   "metadata": {},
   "outputs": [],
   "source": [
    "class Person:\n",
    "    def __init__(self,name,age,exp):\n",
    "        self.name = name\n",
    "        self.age = age \n",
    "        self.exp = exp\n",
    "        \n",
    "    def display(self,new_exp= None):\n",
    "        if new_exp != None:\n",
    "            self.exp = new_exp\n",
    "            print(f\"{self.name} has work experience of {self.exp} years\")\n",
    "        \n",
    "        else:\n",
    "             print(f\"{self.name} has work experience of {self.exp} years\")\n",
    "                \n",
    "p1 = Person(\"Roy\",18,5)\n",
    "Person.display(p1,10) # classname.method_name(self ,  ,  ,  )               \n",
    "        "
   ]
  },
  {
   "cell_type": "code",
   "execution_count": 12,
   "id": "3300fc07",
   "metadata": {},
   "outputs": [
    {
     "name": "stdout",
     "output_type": "stream",
     "text": [
      "[4, 6]\n",
      "[-2, -2]\n",
      "11\n"
     ]
    },
    {
     "ename": "TypeError",
     "evalue": "unsupported operand type(s) for /: 'Poly' and 'Poly'",
     "output_type": "error",
     "traceback": [
      "\u001b[1;31m---------------------------------------------------------------------------\u001b[0m",
      "\u001b[1;31mTypeError\u001b[0m                                 Traceback (most recent call last)",
      "Cell \u001b[1;32mIn[12], line 29\u001b[0m\n\u001b[0;32m     27\u001b[0m \u001b[38;5;28mprint\u001b[39m(p\u001b[38;5;241m-\u001b[39mp1)\n\u001b[0;32m     28\u001b[0m \u001b[38;5;28mprint\u001b[39m(p\u001b[38;5;241m*\u001b[39mp1)\n\u001b[1;32m---> 29\u001b[0m \u001b[38;5;28mprint\u001b[39m(\u001b[43mp\u001b[49m\u001b[38;5;241;43m/\u001b[39;49m\u001b[43mp1\u001b[49m)\n",
      "\u001b[1;31mTypeError\u001b[0m: unsupported operand type(s) for /: 'Poly' and 'Poly'"
     ]
    }
   ],
   "source": [
    "class Poly:\n",
    "    def __init__(self,a,b):\n",
    "        self.a = a\n",
    "        self.b = b\n",
    "        \n",
    "    def __add__(self,other):\n",
    "        sum_a = self.a + other.a\n",
    "        sum_b = self.b + other.b\n",
    "        return [sum_a,sum_b]\n",
    "    \n",
    "    def __sub__(self,other):\n",
    "        diff_a = self.a - other.a\n",
    "        diff_b = self.b - other.b\n",
    "        return [diff_a,diff_b]\n",
    "    \n",
    "    def __mul__(self,other):\n",
    "        multi_a = self.a * other.a + self.b * other.b\n",
    "        return (multi_a)\n",
    "    \n",
    "    def __turediv__(self,other):\n",
    "        if p and p1 != 0:\n",
    "            print(self.a / other.a + self.b / other.a)\n",
    "    \n",
    "p = Poly(1,2)\n",
    "p1 = Poly(3,4)\n",
    "print(p+p1)\n",
    "print(p-p1)\n",
    "print(p*p1)\n",
    "print(p/p1)        "
   ]
  },
  {
   "cell_type": "code",
   "execution_count": 27,
   "id": "57bbd516",
   "metadata": {},
   "outputs": [
    {
     "name": "stdout",
     "output_type": "stream",
     "text": [
      "[4, 6]\n",
      "[-2, -2]\n",
      "11\n"
     ]
    },
    {
     "ename": "AttributeError",
     "evalue": "'Poly' object has no attribute 'other'",
     "output_type": "error",
     "traceback": [
      "\u001b[1;31m---------------------------------------------------------------------------\u001b[0m",
      "\u001b[1;31mAttributeError\u001b[0m                            Traceback (most recent call last)",
      "Cell \u001b[1;32mIn[27], line 32\u001b[0m\n\u001b[0;32m     30\u001b[0m \u001b[38;5;28mprint\u001b[39m(p\u001b[38;5;241m-\u001b[39mp1)\n\u001b[0;32m     31\u001b[0m \u001b[38;5;28mprint\u001b[39m(p\u001b[38;5;241m*\u001b[39mp1) \n\u001b[1;32m---> 32\u001b[0m \u001b[38;5;28mprint\u001b[39m(\u001b[43mp\u001b[49m\u001b[38;5;241;43m/\u001b[39;49m\u001b[43mp1\u001b[49m)\n\u001b[0;32m     33\u001b[0m Poly\u001b[38;5;241m.\u001b[39m\u001b[38;5;21m__truediv__\u001b[39m\n",
      "Cell \u001b[1;32mIn[27], line 23\u001b[0m, in \u001b[0;36mPoly.__truediv__\u001b[1;34m(self, other)\u001b[0m\n\u001b[0;32m     22\u001b[0m \u001b[38;5;28;01mdef\u001b[39;00m \u001b[38;5;21m__truediv__\u001b[39m(\u001b[38;5;28mself\u001b[39m,other):\n\u001b[1;32m---> 23\u001b[0m     div_a \u001b[38;5;241m=\u001b[39m \u001b[38;5;28mself\u001b[39m\u001b[38;5;241m.\u001b[39mmoon \u001b[38;5;241m/\u001b[39m \u001b[38;5;28mself\u001b[39m\u001b[38;5;241m.\u001b[39ma \u001b[38;5;241m+\u001b[39m \u001b[38;5;28mself\u001b[39m\u001b[38;5;241m.\u001b[39mb \u001b[38;5;241m/\u001b[39m other\u001b[38;5;241m.\u001b[39mb \u001b[38;5;241m+\u001b[39m \u001b[38;5;28mself\u001b[39m\u001b[38;5;241m.\u001b[39mmars \u001b[38;5;241m*\u001b[39m \u001b[38;5;28;43mself\u001b[39;49m\u001b[38;5;241;43m.\u001b[39;49m\u001b[43mother\u001b[49m\u001b[38;5;241m.\u001b[39ma\n\u001b[0;32m     24\u001b[0m     \u001b[38;5;28;01mreturn\u001b[39;00m div_a\n",
      "\u001b[1;31mAttributeError\u001b[0m: 'Poly' object has no attribute 'other'"
     ]
    }
   ],
   "source": [
    "class Poly:\n",
    "    def __init__(self,a,b,moon,mars):\n",
    "        self.a = a\n",
    "        self.b = b\n",
    "        self.moon = moon\n",
    "        self.mars = mars\n",
    "        \n",
    "    def __add__(self,other):\n",
    "        sum_a = self.a + other.a\n",
    "        sum_b = self.b + other.b\n",
    "        return [sum_a,sum_b]\n",
    "    \n",
    "    def __sub__(self,other):\n",
    "        diff_a = self.a - other.a\n",
    "        diff_b = self.b - other.b\n",
    "        return [diff_a,diff_b]\n",
    "    \n",
    "    def __mul__(self,other):\n",
    "        multi_a = self.a * other.a + self.b * other.b\n",
    "        return (multi_a)\n",
    "    \n",
    "    def __truediv__(self,other):\n",
    "        div_a = self.moon / self.a + self.b / other.b + self.mars * self.other.a\n",
    "        return div_a\n",
    "    \n",
    "p = Poly(1,2,19,20)\n",
    "p1 = Poly(3,4,19,20)\n",
    "p2 = Poly(36,37,19,20)\n",
    "print(p+p1)\n",
    "print(p-p1)\n",
    "print(p*p1) \n",
    "print(p/p1)\n",
    "Poly.__truediv__"
   ]
  },
  {
   "cell_type": "code",
   "execution_count": 28,
   "id": "8ba8135d",
   "metadata": {},
   "outputs": [
    {
     "name": "stdout",
     "output_type": "stream",
     "text": [
      "[4, 6]\n",
      "[-2, -2]\n",
      "11\n",
      "20.1\n"
     ]
    },
    {
     "data": {
      "text/plain": [
       "<function __main__.Poly.__truediv__(self, other)>"
      ]
     },
     "execution_count": 28,
     "metadata": {},
     "output_type": "execute_result"
    }
   ],
   "source": [
    "class Poly:\n",
    "    def __init__(self,a,b,moon,mars):\n",
    "        self.a = a\n",
    "        self.b = b\n",
    "        self.moon = moon\n",
    "        self.mars = mars\n",
    "        \n",
    "    def __add__(self,other):\n",
    "        sum_a = self.a + other.a\n",
    "        sum_b = self.b + other.b\n",
    "        return [sum_a,sum_b]\n",
    "    \n",
    "    def __sub__(self,other):\n",
    "        diff_a = self.a - other.a\n",
    "        diff_b = self.b - other.b\n",
    "        return [diff_a,diff_b]\n",
    "    \n",
    "    def __mul__(self,other):\n",
    "        multi_a = self.a * other.a + self.b * other.b\n",
    "        return (multi_a)\n",
    "    \n",
    "    def __truediv__(self,other):\n",
    "        div_a = self.moon + self.a / self.b + other.b / self.mars * other.a\n",
    "        return div_a\n",
    "    \n",
    "p = Poly(1,2,19,20)\n",
    "p1 = Poly(3,4,19,20)\n",
    "p2 = Poly(36,37,19,20)\n",
    "print(p+p1)\n",
    "print(p-p1)\n",
    "print(p*p1) \n",
    "print(p/p1)\n",
    "Poly.__truediv__"
   ]
  },
  {
   "cell_type": "code",
   "execution_count": null,
   "id": "e3aefbd1",
   "metadata": {},
   "outputs": [],
   "source": []
  }
 ],
 "metadata": {
  "kernelspec": {
   "display_name": "Python 3 (ipykernel)",
   "language": "python",
   "name": "python3"
  },
  "language_info": {
   "codemirror_mode": {
    "name": "ipython",
    "version": 3
   },
   "file_extension": ".py",
   "mimetype": "text/x-python",
   "name": "python",
   "nbconvert_exporter": "python",
   "pygments_lexer": "ipython3",
   "version": "3.10.9"
  }
 },
 "nbformat": 4,
 "nbformat_minor": 5
}
