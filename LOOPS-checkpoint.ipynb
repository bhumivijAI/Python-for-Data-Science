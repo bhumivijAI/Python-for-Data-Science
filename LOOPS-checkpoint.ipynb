{
 "cells": [
  {
   "cell_type": "markdown",
   "id": "6986dd7e",
   "metadata": {},
   "source": [
    "<font size = 7># *Iterable statement*"
   ]
  },
  {
   "cell_type": "markdown",
   "id": "a8eb46e4",
   "metadata": {},
   "source": [
    "# *LOOPS*\n",
    "* Loops are used to execute a block of code repeatedly.\n",
    "\n",
    "# *For Loop*:\n",
    "<font size =3>* The for loop **iterates** over an **iterable object.**\n",
    "1. for loops are used when you have a **block of code** which you want to reapeat a **fixed number of times.**\n",
    "2. for loops are also used to perform the **same set of operations** for each item in an iterable.\n",
    "3. Thus,for loops reduce the code complexity and saves time."
   ]
  },
  {
   "cell_type": "code",
   "execution_count": 1,
   "id": "8b3d1df2",
   "metadata": {},
   "outputs": [
    {
     "name": "stdout",
     "output_type": "stream",
     "text": [
      "1\n",
      "2\n",
      "3\n",
      "4\n",
      "value of a 4\n"
     ]
    }
   ],
   "source": [
    "# strings,set,tuple,list,dictionary,range-iterable data types\n",
    "x = [1,2,3,4]\n",
    "for a in x:\n",
    "    print(a)\n",
    "print(\"value of a\",a)    "
   ]
  },
  {
   "cell_type": "code",
   "execution_count": 2,
   "id": "b347d7db",
   "metadata": {},
   "outputs": [
    {
     "name": "stdout",
     "output_type": "stream",
     "text": [
      "12\n",
      "34\n",
      "56\n",
      "101\n"
     ]
    }
   ],
   "source": [
    "x =(12,34,56,101)\n",
    "for c in x:\n",
    "    print(c)"
   ]
  },
  {
   "cell_type": "code",
   "execution_count": 1,
   "id": "1b522c8a",
   "metadata": {},
   "outputs": [
    {
     "name": "stdout",
     "output_type": "stream",
     "text": [
      "[1, 2, 3, 4]\n",
      "[1, 2, 3, 4]\n",
      "[1, 2, 3, 4]\n",
      "[1, 2, 3, 4]\n"
     ]
    }
   ],
   "source": [
    "x = [1,2,3,4]\n",
    "for a in x:\n",
    "    print(x)"
   ]
  },
  {
   "cell_type": "code",
   "execution_count": 1,
   "id": "7b2f1ad5",
   "metadata": {},
   "outputs": [
    {
     "name": "stdout",
     "output_type": "stream",
     "text": [
      "0\n",
      "1\n",
      "2\n",
      "3\n"
     ]
    }
   ],
   "source": [
    "x = range(0,4)\n",
    "a = x[0]\n",
    "b = x[1]\n",
    "c = x[2]\n",
    "d = x[3]\n",
    "print(a)\n",
    "print(b)\n",
    "print(c)\n",
    "print(d)"
   ]
  },
  {
   "cell_type": "code",
   "execution_count": 12,
   "id": "13d888c5",
   "metadata": {},
   "outputs": [
    {
     "name": "stdout",
     "output_type": "stream",
     "text": [
      "0\n",
      "1\n",
      "2\n",
      "3\n"
     ]
    }
   ],
   "source": [
    "x = range(0,4)\n",
    "print(x[0])\n",
    "print(x[1])\n",
    "print(x[2])\n",
    "print(x[3])"
   ]
  },
  {
   "cell_type": "code",
   "execution_count": 13,
   "id": "0dc23d46",
   "metadata": {},
   "outputs": [
    {
     "name": "stdout",
     "output_type": "stream",
     "text": [
      "0\n",
      "1\n",
      "2\n",
      "3\n"
     ]
    }
   ],
   "source": [
    "y = range(0,4)\n",
    "for x in y:\n",
    "    print(x)"
   ]
  },
  {
   "cell_type": "code",
   "execution_count": 17,
   "id": "cd3f33c1",
   "metadata": {},
   "outputs": [
    {
     "name": "stdout",
     "output_type": "stream",
     "text": [
      "the sum of even number from 1 to 10 is: 30\n"
     ]
    }
   ],
   "source": [
    "# print the sum of all even numbers from 1 to 10\n",
    "sum=0\n",
    "for i in range(1,11):\n",
    "    if i%2==0:\n",
    "        sum+=i\n",
    "print(\"the sum of even number from 1 to 10 is:\",sum)        "
   ]
  },
  {
   "cell_type": "code",
   "execution_count": 19,
   "id": "427bf3e8",
   "metadata": {},
   "outputs": [],
   "source": [
    "# do this in another way-"
   ]
  },
  {
   "cell_type": "code",
   "execution_count": null,
   "id": "8f1530e9",
   "metadata": {},
   "outputs": [],
   "source": []
  }
 ],
 "metadata": {
  "kernelspec": {
   "display_name": "Python 3 (ipykernel)",
   "language": "python",
   "name": "python3"
  },
  "language_info": {
   "codemirror_mode": {
    "name": "ipython",
    "version": 3
   },
   "file_extension": ".py",
   "mimetype": "text/x-python",
   "name": "python",
   "nbconvert_exporter": "python",
   "pygments_lexer": "ipython3",
   "version": "3.10.9"
  }
 },
 "nbformat": 4,
 "nbformat_minor": 5
}
