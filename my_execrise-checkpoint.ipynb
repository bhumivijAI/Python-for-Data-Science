{
 "cells": [
  {
   "cell_type": "code",
   "execution_count": 1,
   "id": "1d83af87",
   "metadata": {},
   "outputs": [
    {
     "ename": "SyntaxError",
     "evalue": "invalid syntax (4059866254.py, line 1)",
     "output_type": "error",
     "traceback": [
      "\u001b[1;36m  Cell \u001b[1;32mIn[1], line 1\u001b[1;36m\u001b[0m\n\u001b[1;33m    Exercise 1: Calculate the multiplication and sum of two numbers.\u001b[0m\n\u001b[1;37m             ^\u001b[0m\n\u001b[1;31mSyntaxError\u001b[0m\u001b[1;31m:\u001b[0m invalid syntax\n"
     ]
    }
   ],
   "source": [
    "Exercise 1: Calculate the multiplication and sum of two numbers.\n",
    "Exercise 2: Print the sum of the current number and the previous number.\n",
    "Exercise 3: Print characters from a string that are present at an even index number.\n",
    "Exercise 4: Remove first n characters from a string.\n",
    "Exercise 5: Check if the first and last number of a list is the same .\n",
    "Exercise 6: Display numbers divisible by 5 from a list.\n",
    "Exercise 7: Return the count of a given substring from a string.\n",
    "Exercise 8: Print the following pattern.\n",
    "1\n",
    "2 2\n",
    "3 3 3\n",
    "4 4 4 4\n",
    "5 5 5 5 5\n"
   ]
  },
  {
   "cell_type": "code",
   "execution_count": 12,
   "id": "d944bbe7",
   "metadata": {},
   "outputs": [
    {
     "name": "stdout",
     "output_type": "stream",
     "text": [
      "6\n",
      "\n",
      "1\n",
      "22\n",
      "333\n",
      "4444\n",
      "55555\n"
     ]
    }
   ],
   "source": [
    "f = list(range(int(input())))\n",
    "for e in f:\n",
    "    g = str(e)\n",
    "    print(e*g)"
   ]
  },
  {
   "cell_type": "code",
   "execution_count": null,
   "id": "c9214be5",
   "metadata": {},
   "outputs": [],
   "source": []
  },
  {
   "cell_type": "code",
   "execution_count": null,
   "id": "4498f21a",
   "metadata": {},
   "outputs": [],
   "source": []
  },
  {
   "cell_type": "code",
   "execution_count": null,
   "id": "3cfc3988",
   "metadata": {},
   "outputs": [],
   "source": []
  },
  {
   "cell_type": "code",
   "execution_count": null,
   "id": "e32bc4c3",
   "metadata": {},
   "outputs": [],
   "source": []
  },
  {
   "cell_type": "code",
   "execution_count": null,
   "id": "2cfb0d3a",
   "metadata": {},
   "outputs": [],
   "source": []
  },
  {
   "cell_type": "code",
   "execution_count": 20,
   "id": "e51843ae",
   "metadata": {},
   "outputs": [
    {
     "name": "stdout",
     "output_type": "stream",
     "text": [
      "6\n",
      "\n",
      "* \n",
      "* * \n",
      "* * * \n",
      "* * * * \n",
      "* * * * * \n"
     ]
    }
   ],
   "source": [
    "f = list(range(int(input())))\n",
    "for e in f:\n",
    "    g = str(e)\n",
    "    print(\"* \"*e)"
   ]
  },
  {
   "cell_type": "code",
   "execution_count": 1,
   "id": "295fe01c",
   "metadata": {},
   "outputs": [
    {
     "name": "stdout",
     "output_type": "stream",
     "text": [
      "\n",
      "*\n",
      "**\n",
      "***\n",
      "****\n",
      "*****\n"
     ]
    }
   ],
   "source": [
    "for e in range(6):\n",
    "    g = str(e)\n",
    "    print(\"*\"*e)"
   ]
  },
  {
   "cell_type": "code",
   "execution_count": 6,
   "id": "12ca121c",
   "metadata": {},
   "outputs": [
    {
     "name": "stdout",
     "output_type": "stream",
     "text": [
      "\n",
      "* \n",
      "* * \n",
      "* * * \n",
      "* * * * \n",
      "* * * * * \n"
     ]
    }
   ],
   "source": [
    "for e in range(6):\n",
    "    print(e*\"* \")"
   ]
  },
  {
   "cell_type": "code",
   "execution_count": 8,
   "id": "ed6bc680",
   "metadata": {},
   "outputs": [],
   "source": [
    "for e in list(range(6,-1)):\n",
    "    g = str(e)\n",
    "    print(\"*\"*e)"
   ]
  },
  {
   "cell_type": "code",
   "execution_count": 11,
   "id": "8f87691d",
   "metadata": {
    "scrolled": true
   },
   "outputs": [
    {
     "ename": "TypeError",
     "evalue": "'int' object is not subscriptable",
     "output_type": "error",
     "traceback": [
      "\u001b[1;31m---------------------------------------------------------------------------\u001b[0m",
      "\u001b[1;31mTypeError\u001b[0m                                 Traceback (most recent call last)",
      "Cell \u001b[1;32mIn[11], line 2\u001b[0m\n\u001b[0;32m      1\u001b[0m \u001b[38;5;28;01mfor\u001b[39;00m x \u001b[38;5;129;01min\u001b[39;00m \u001b[38;5;28mrange\u001b[39m(\u001b[38;5;241m6\u001b[39m):\n\u001b[1;32m----> 2\u001b[0m     \u001b[38;5;28;01mif\u001b[39;00m \u001b[43mx\u001b[49m\u001b[43m[\u001b[49m\u001b[43m:\u001b[49m\u001b[43m:\u001b[49m\u001b[38;5;241;43m-\u001b[39;49m\u001b[38;5;241;43m1\u001b[39;49m\u001b[43m]\u001b[49m:\n\u001b[0;32m      3\u001b[0m         y \u001b[38;5;241m=\u001b[39m \u001b[38;5;28mstr\u001b[39m(x)\n\u001b[0;32m      4\u001b[0m         \u001b[38;5;28mprint\u001b[39m(\u001b[38;5;124m\"\u001b[39m\u001b[38;5;124m*\u001b[39m\u001b[38;5;124m\"\u001b[39m\u001b[38;5;241m*\u001b[39mx)\n",
      "\u001b[1;31mTypeError\u001b[0m: 'int' object is not subscriptable"
     ]
    }
   ],
   "source": [
    "for x in range(6):\n",
    "    if x[::-1]:\n",
    "        y = str(x)\n",
    "        print(\"*\"*x)"
   ]
  },
  {
   "cell_type": "code",
   "execution_count": null,
   "id": "d41dbb9a",
   "metadata": {},
   "outputs": [],
   "source": [
    "y = set()\n",
    "type(y)"
   ]
  },
  {
   "cell_type": "code",
   "execution_count": null,
   "id": "284bf8ab",
   "metadata": {},
   "outputs": [],
   "source": [
    "num1 = int(input(\"first two digit number:\"))\n",
    "num2 = int(input(\"second two digit number:\"))\n",
    "num3 = str(num1)+ '+' +str(num2)+ '='+ str(num1) + str(num2)  \n",
    "print(num3)\n",
    "num12 = int(input(\"first two digit number:\"))\n",
    "num13 = int(input(\"second two digit number:\"))     \n",
    "num6 = num12%10\n",
    "num7 = num13%10\n",
    "num8 = num12//10\n",
    "num9 = num13//10\n",
    "num14 = str(num6)+\"*\"+str(num8)+\"+\"+str(num7)+\"*\"+str(num9)+\"=\"+str(num6*num7+num8*num9)\n",
    "print(num14)"
   ]
  },
  {
   "cell_type": "code",
   "execution_count": null,
   "id": "e8d14567",
   "metadata": {},
   "outputs": [],
   "source": [
    "num12 = int(input(\"first value:\"))\n",
    "num13 = int(input(\"second value:\"))\n",
    "num14 = str(num12)+'*'+str(num13)+'='+str(num12*num13)\n",
    "print(num14)"
   ]
  },
  {
   "cell_type": "code",
   "execution_count": null,
   "id": "6c211306",
   "metadata": {},
   "outputs": [],
   "source": [
    "num1 = int(input(\"first digit number:\"))\n",
    "num2 = int(input(\"second digit number:\"))\n",
    "num3 = str(num1)+ '+' +str(num2)+ '='+ str(num1) + str(num2)  \n",
    "print(num3)\n",
    "num12 = int(input(\"first value:\"))\n",
    "num13 = int(input(\"second value:\"))\n",
    "num14 = str(num12)+'*'+str(num13)+'='+str(num12*num13)\n",
    "print(num14)\n"
   ]
  },
  {
   "cell_type": "code",
   "execution_count": null,
   "id": "3adb7ec4",
   "metadata": {},
   "outputs": [],
   "source": [
    "num1 = int(input(\"first digit number:\"))\n",
    "num2 = int(input(\"second digit number:\"))\n",
    "print(num1+num2),print(num1*num2),print(num1/num2),print(num1-num2)\n"
   ]
  },
  {
   "cell_type": "code",
   "execution_count": null,
   "id": "5c2f3ef3",
   "metadata": {},
   "outputs": [],
   "source": [
    "x = int(input(\"Enter the first number:\"))\n",
    "y = int(input(\"Enter the second number: \"))\n",
    "if  :\n",
    "    print(x+y)\n",
    "if x-y :\n",
    "    print(x-y)\n",
    "if x*y :\n",
    "    print(x*y)\n",
    "if x/y :\n",
    "    print(x/y)"
   ]
  },
  {
   "cell_type": "code",
   "execution_count": null,
   "id": "8e7a88e4",
   "metadata": {},
   "outputs": [],
   "source": [
    "dict = {\"dimple\":\"english\",\"rakesh\":40}\n",
    "print(dict)"
   ]
  },
  {
   "cell_type": "code",
   "execution_count": null,
   "id": "559fbbee",
   "metadata": {},
   "outputs": [],
   "source": [
    "# Write a code to display the name of 10 students through thier roll number (by user)\n",
    "a = int(input(\"enter roll number:\"))\n",
    "if a==1:\n",
    "    print(\"Bhumika sharma\")\n",
    "if a==2:\n",
    "    print(\"Rishi singh\")\n",
    "if a==3:\n",
    "    print(\"Reyansh sharma\")\n",
    "if a==4:\n",
    "    print(\"Harshita nayal\")\n",
    "if a==5:\n",
    "    print(\"Alka sharma\")\n",
    "if a==6:\n",
    "    print(\"Dimple joshi\")\n",
    "if a==7:\n",
    "    print(\"Rakesh sinha\")\n",
    "if a==8:\n",
    "    print(\"Kamal sharma\")\n",
    "if a==9:\n",
    "    print(\"Pratibha joshi\")\n",
    "if a==10:\n",
    "    print(\"Rahul joshi\")    "
   ]
  },
  {
   "cell_type": "code",
   "execution_count": null,
   "id": "c9596a4a",
   "metadata": {},
   "outputs": [],
   "source": [
    "# Write a code to display the name of 10 students through thier roll number (by user)\n",
    "a = int(input(\"enter roll number:\"))\n",
    "if a==1:\n",
    "    print(\"Bhumika sharma\")\n",
    "if a==2:\n",
    "    print(\"Rishi singh\")\n",
    "if a==3:\n",
    "    print(\"Reyansh sharma\")\n",
    "if a==4:\n",
    "    print(\"Harshita nayal\")\n",
    "if a==5:\n",
    "    print(\"Alka sharma\")\n",
    "if a==6:\n",
    "    print(\"Dimple joshi\")\n",
    "if a==7:\n",
    "    print(\"Rakesh sinha\")\n",
    "if a==8:\n",
    "    print(\"Kamal sharma\")\n",
    "if a==9:\n",
    "    print(\"Pratibha joshi\")\n",
    "if a==10:\n",
    "    print(\"Rahul joshi\")    \n",
    "else:\n",
    "    print(\"out of number\")"
   ]
  },
  {
   "cell_type": "code",
   "execution_count": null,
   "id": "1c2707a6",
   "metadata": {},
   "outputs": [],
   "source": [
    "y = {1:\"aa\",2:\"bb\",3:\"cc\",4:\"dd\",5:\"ee\",6:\"ff\",7:\"gg\",8:\"hh\",9:\"ii\",10:\"jj\"}\n",
    "x = int(input(\"students:\"))   # add another dict from the user\n",
    "y[x]"
   ]
  },
  {
   "cell_type": "code",
   "execution_count": null,
   "id": "cb00cb63",
   "metadata": {},
   "outputs": [],
   "source": []
  },
  {
   "cell_type": "code",
   "execution_count": 11,
   "id": "ae930f1c",
   "metadata": {},
   "outputs": [
    {
     "name": "stdout",
     "output_type": "stream",
     "text": [
      "Bhumi\n"
     ]
    }
   ],
   "source": [
    "x = \"bhumi\"\n",
    "y = \"Bhumi\"\n",
    "x,y = y,x\n",
    "print(x)"
   ]
  },
  {
   "cell_type": "code",
   "execution_count": 6,
   "id": "8fbb079b",
   "metadata": {},
   "outputs": [
    {
     "ename": "SyntaxError",
     "evalue": "invalid syntax (422488667.py, line 3)",
     "output_type": "error",
     "traceback": [
      "\u001b[1;36m  Cell \u001b[1;32mIn[6], line 3\u001b[1;36m\u001b[0m\n\u001b[1;33m    y = [1:]\u001b[0m\n\u001b[1;37m          ^\u001b[0m\n\u001b[1;31mSyntaxError\u001b[0m\u001b[1;31m:\u001b[0m invalid syntax\n"
     ]
    }
   ],
   "source": [
    "a = \"bhumi\"\n",
    "x = [0]\n",
    "y = [1:]\n",
    "x = x.upper()\n",
    "b = x+y\n",
    "print(b)"
   ]
  },
  {
   "cell_type": "code",
   "execution_count": 7,
   "id": "6a299062",
   "metadata": {},
   "outputs": [
    {
     "data": {
      "text/plain": [
       "{10, 20, 30, 40, 50, 60}"
      ]
     },
     "execution_count": 7,
     "metadata": {},
     "output_type": "execute_result"
    }
   ],
   "source": [
    "set1 = {10,20,30,40,50}\n",
    "set2 ={30,40,50,60}\n",
    "(set1.union(set2))"
   ]
  },
  {
   "cell_type": "code",
   "execution_count": 8,
   "id": "38da1e9d",
   "metadata": {},
   "outputs": [
    {
     "data": {
      "text/plain": [
       "{30, 40, 50}"
      ]
     },
     "execution_count": 8,
     "metadata": {},
     "output_type": "execute_result"
    }
   ],
   "source": [
    "set1.intersection(set2)"
   ]
  },
  {
   "cell_type": "code",
   "execution_count": 9,
   "id": "14848aab",
   "metadata": {},
   "outputs": [
    {
     "data": {
      "text/plain": [
       "{10, 20, 60}"
      ]
     },
     "execution_count": 9,
     "metadata": {},
     "output_type": "execute_result"
    }
   ],
   "source": [
    "set1.symmetric_difference(set2)"
   ]
  },
  {
   "cell_type": "code",
   "execution_count": 10,
   "id": "b691603e",
   "metadata": {},
   "outputs": [
    {
     "data": {
      "text/plain": [
       "{40, 50}"
      ]
     },
     "execution_count": 10,
     "metadata": {},
     "output_type": "execute_result"
    }
   ],
   "source": [
    "set1.remove(10),set1.remove(20),set1.remove(30)\n",
    "set1"
   ]
  },
  {
   "cell_type": "code",
   "execution_count": 5,
   "id": "12024ff4",
   "metadata": {},
   "outputs": [
    {
     "name": "stdout",
     "output_type": "stream",
     "text": [
      "Number:45\n",
      "its an even number 45\n",
      "its an odd number 45\n"
     ]
    }
   ],
   "source": [
    "x = input(\"Number:\")\n",
    "if x[0:10:1]:\n",
    "    print(\"its an even number\",x)\n",
    "if x[::]:\n",
    "    print(\"its an odd number\",x)\n",
    "else :\n",
    "    print(\"its an odd number\",x)\n",
    "    \n",
    "    "
   ]
  },
  {
   "cell_type": "code",
   "execution_count": null,
   "id": "a6225247",
   "metadata": {},
   "outputs": [],
   "source": [
    "# program to check wheather a number is odd or even ??\n",
    "# cheack wheather a number is a palindrome number ??\n",
    "#  palindrome number : numbers which if we reverse them but there values are not chamge like(141,242,131)"
   ]
  },
  {
   "cell_type": "code",
   "execution_count": 4,
   "id": "265fe4b3",
   "metadata": {},
   "outputs": [
    {
     "name": "stdout",
     "output_type": "stream",
     "text": [
      "Number:123\n",
      "its not an palindrome number 123\n"
     ]
    },
    {
     "data": {
      "text/plain": [
       "str"
      ]
     },
     "execution_count": 4,
     "metadata": {},
     "output_type": "execute_result"
    }
   ],
   "source": [
    "x = input(\"Number:\")\n",
    "if x[0: : ]==x[::-1]:\n",
    "    print(\"its an palindrome number\",x)\n",
    "else :\n",
    "    print(\"its not an palindrome number\",x)\n",
    "type(x)"
   ]
  },
  {
   "cell_type": "code",
   "execution_count": 3,
   "id": "67d52559",
   "metadata": {},
   "outputs": [
    {
     "name": "stdout",
     "output_type": "stream",
     "text": [
      "enter a number:5\n",
      "its an odd number\n"
     ]
    }
   ],
   "source": [
    "x = int(input(\"enter a number:\"))\n",
    "if x%2==0:\n",
    "    print(\"its an even number\")\n",
    "else:\n",
    "    print(\"its an odd number\")"
   ]
  },
  {
   "cell_type": "code",
   "execution_count": 2,
   "id": "5c7ae604",
   "metadata": {},
   "outputs": [
    {
     "name": "stdout",
     "output_type": "stream",
     "text": [
      "enter the number:6\n"
     ]
    },
    {
     "ename": "TypeError",
     "evalue": "unsupported operand type(s) for *: 'int' and 'range'",
     "output_type": "error",
     "traceback": [
      "\u001b[1;31m---------------------------------------------------------------------------\u001b[0m",
      "\u001b[1;31mTypeError\u001b[0m                                 Traceback (most recent call last)",
      "Cell \u001b[1;32mIn[2], line 5\u001b[0m\n\u001b[0;32m      3\u001b[0m y \u001b[38;5;241m=\u001b[39m \u001b[38;5;28mrange\u001b[39m(\u001b[38;5;241m1\u001b[39m,\u001b[38;5;241m11\u001b[39m)\n\u001b[0;32m      4\u001b[0m y\u001b[38;5;241m==\u001b[39m\u001b[38;5;241m1\u001b[39m\n\u001b[1;32m----> 5\u001b[0m \u001b[38;5;28mprint\u001b[39m(\u001b[38;5;28mstr\u001b[39m(x)\u001b[38;5;241m+\u001b[39m\u001b[38;5;124m\"\u001b[39m\u001b[38;5;124mx\u001b[39m\u001b[38;5;124m\"\u001b[39m\u001b[38;5;241m+\u001b[39m \u001b[38;5;28mstr\u001b[39m(y) \u001b[38;5;241m+\u001b[39m \u001b[38;5;124m\"\u001b[39m\u001b[38;5;124m=\u001b[39m\u001b[38;5;124m\"\u001b[39m \u001b[38;5;241m+\u001b[39m \u001b[38;5;28mstr\u001b[39m(\u001b[43mx\u001b[49m\u001b[38;5;241;43m*\u001b[39;49m\u001b[43my\u001b[49m)) \u001b[38;5;241m+\u001b[39m \u001b[38;5;124m'\u001b[39m\u001b[38;5;130;01m\\n\u001b[39;00m\u001b[38;5;124m'\u001b[39m\n",
      "\u001b[1;31mTypeError\u001b[0m: unsupported operand type(s) for *: 'int' and 'range'"
     ]
    }
   ],
   "source": [
    "# take the input from the user and make program in which if we give any number it will give the whole table of it ??\n",
    "x = int(input(\"enter the number:\"))\n",
    "y = range(1,11)\n",
    "y==1\n",
    "print(str(x)+\"x\"+ str(y) + \"=\" + str(x*y)) + '\\n'"
   ]
  },
  {
   "cell_type": "code",
   "execution_count": 1,
   "id": "973002b0",
   "metadata": {},
   "outputs": [
    {
     "name": "stdout",
     "output_type": "stream",
     "text": [
      "num:6\n",
      "6*1=6\n",
      "6*2=12\n",
      "6*3=18\n",
      "6*4=24\n",
      "6*5=30\n",
      "6*6=36\n",
      "6*7=42\n",
      "6*8=48\n",
      "6*9=54\n",
      "6*10=60\n"
     ]
    },
    {
     "data": {
      "text/plain": [
       "int"
      ]
     },
     "execution_count": 1,
     "metadata": {},
     "output_type": "execute_result"
    }
   ],
   "source": [
    "i = int(input(\"num:\"))\n",
    "if i*i:\n",
    "    print(str(i)+ '*' + str(1) + '=' + str(i*1))\n",
    "    print(str(i)+ '*' + str(2) + '=' + str(i*2))\n",
    "    print(str(i)+ '*' + str(3) + '=' + str(i*3))\n",
    "    print(str(i)+ '*' + str(4) + '=' + str(i*4))\n",
    "    print(str(i)+ '*' + str(5) + '=' + str(i*5))\n",
    "    print(str(i)+ '*' + str(6) + '=' + str(i*6))\n",
    "    print(str(i)+ '*' + str(7) + '=' + str(i*7))\n",
    "    print(str(i)+ '*' + str(8) + '=' + str(i*8))\n",
    "    print(str(i)+ '*' + str(9) + '=' + str(i*9))\n",
    "    print(str(i)+ '*' + str(10) + '=' + str(i*10))\n",
    "type(i)    "
   ]
  },
  {
   "cell_type": "code",
   "execution_count": null,
   "id": "b57d182d",
   "metadata": {},
   "outputs": [],
   "source": [
    "x = int(input(\"enter the number:\"))\n",
    "for y in range(1,11):\n",
    "    for y in x*y:\n",
    "        print(x,'*',y,'=',x*y)"
   ]
  },
  {
   "cell_type": "code",
   "execution_count": null,
   "id": "43e03bf7",
   "metadata": {},
   "outputs": [],
   "source": [
    "for x in range(1,11):\n",
    "    if x*2:\n",
    "        print(2,'*',x, '=',2*x)\n",
    "        for y in range(1,11):\n",
    "            if y*3:\n",
    "                print(3,'*',y,\"=\",3*y)"
   ]
  },
  {
   "cell_type": "code",
   "execution_count": null,
   "id": "4aa19d46",
   "metadata": {},
   "outputs": [],
   "source": [
    "# print the multipication table of 2:\n",
    "for x in range(1,11):\n",
    "    print(2,' * ',x, '=',x*2)\n",
    "    "
   ]
  },
  {
   "cell_type": "code",
   "execution_count": null,
   "id": "d55b9c97",
   "metadata": {},
   "outputs": [],
   "source": [
    "for i in range(1,11):\n",
    "    for y in range(2,8):\n",
    "        print(y,'*',i,'=',y*i,end=\"\\t\")\n",
    "    print()        \n",
    "        "
   ]
  },
  {
   "cell_type": "code",
   "execution_count": null,
   "id": "1a9d4fd6",
   "metadata": {},
   "outputs": [],
   "source": []
  },
  {
   "cell_type": "code",
   "execution_count": null,
   "id": "99e95f7c",
   "metadata": {},
   "outputs": [],
   "source": [
    "for y in range(1,11):\n",
    "    if x==2:\n",
    "        print(x,' * ',y, '=',x*y)\n",
    "        for y in range(1,11):\n",
    "            if x==3:\n",
    "                print(x,'*',y,'=',x*y)  "
   ]
  },
  {
   "cell_type": "markdown",
   "id": "16c9753e",
   "metadata": {},
   "source": [
    "for x in range(1,11,1):\n",
    "    print(2,' * ',x, '=',x*2)\n",
    "    for x in range(1,11,1):\n",
    "        print(3,' * ',x, '=',x*3)\n",
    "        for x in range(1,11,1):\n",
    "            print(4,' * ',x, '=',x*4)\n",
    "            for x in range(1,11,1):\n",
    "                print(5,' * ',x, '=',x*5)\n",
    "                for x in range(1,11,1):\n",
    "                    print(6,' * ',x, '=',x*6)\n",
    "                    for x in range(1,11,1):\n",
    "                        print(7,' * ',x, '=',x*7)\n",
    "    "
   ]
  },
  {
   "cell_type": "markdown",
   "id": "dda87d75",
   "metadata": {},
   "source": [
    "for x in range(1,11):\n",
    "    for y in range(1,11):\n",
    "        for v in range(1,11):\n",
    "            for b in range(1,11):\n",
    "                for c in range(1,11):\n",
    "                    for n in range(1,11):\n",
    "                        print(2,' * ',x, '=',x*2)\n",
    "                        print(3,' * ',y, '=',y*3)\n",
    "                        print(4,' * ',v, '=',v*4)\n",
    "                        print(5,' * ',b, '=',b*5)\n",
    "                        print(6,' * ',c, '=',c*6)\n",
    "                        print(7,' * ',n, '=',n*7)"
   ]
  },
  {
   "cell_type": "markdown",
   "id": "12b9815e",
   "metadata": {},
   "source": [
    "for x in range(1,11):\n",
    "    print(2,' * ',x, '=',x*2)\n",
    "for y in range(1,11):\n",
    "    print(3,'*',y,'=',y*3)\n",
    "for v in range(1,11):\n",
    "    print(4,'*',v,'=',v*4)\n",
    "for b in range(1,11):\n",
    "    print(5,'*',b,'=',b*5)\n",
    "for c in range(1,11):\n",
    "    print(6,'*',c,'=',c*6)\n",
    "for n in range(1,11):\n",
    "    print(7,'*',n,'=',n*7)            "
   ]
  },
  {
   "cell_type": "code",
   "execution_count": null,
   "id": "724a7d0e",
   "metadata": {},
   "outputs": [],
   "source": [
    "x = int(input(\"Enter the number:\"))\n",
    "for y in 1,2,3,4,5,6,7,8,9,10:\n",
    "    for x in x,'*',y,'=',x*y  :\n",
    "        print(x)\n",
    "    "
   ]
  },
  {
   "cell_type": "code",
   "execution_count": null,
   "id": "229cf192",
   "metadata": {},
   "outputs": [],
   "source": [
    "t = int(input(\"Enter the number:\"))\n",
    "w = 1,2,3,4,5,6,7,8,9,10\n",
    "for e in w:\n",
    "    print(t,'*',e,'=',t*e)"
   ]
  },
  {
   "cell_type": "code",
   "execution_count": null,
   "id": "4b9fc0ce",
   "metadata": {},
   "outputs": [],
   "source": [
    "i = int(input(\"num:\"))\n",
    "if i*i:\n",
    "    print(str(i)+ '*' + str(1) + '=' + str(i*1))"
   ]
  },
  {
   "cell_type": "code",
   "execution_count": null,
   "id": "43679efe",
   "metadata": {},
   "outputs": [],
   "source": [
    "i = int(input(\"num:\"))\n",
    "if i*i:\n",
    "    print((i)+ '*' + (1) + '=' + (i*1))"
   ]
  },
  {
   "cell_type": "code",
   "execution_count": null,
   "id": "772a61ca",
   "metadata": {},
   "outputs": [],
   "source": [
    "x = int(input(\"Enter the number:\"))\n",
    "i = 1\n",
    "if i>11:\n",
    "    (str(x)+\"x\"+ str(i) + \"=\" + str(x*i)) + '\\n'"
   ]
  },
  {
   "cell_type": "code",
   "execution_count": null,
   "id": "c54e6a05",
   "metadata": {},
   "outputs": [],
   "source": [
    "# make a calculator?? with if else statment??\n",
    "x = int(input(\"Enter the first number:\"))\n",
    "y = int(input(\"Enter the second number:\"))\n",
    "if x+y==0:\n",
    "    print(\"added number:\",x)\n",
    "if x-y==0:\n",
    "    print(\"substracted number:\",x)\n",
    "if x*y==0:\n",
    "    print(\"multiplyed nuumber:\",x)\n",
    "if x/y==0:\n",
    "    print(\"divided number:\",x)\n",
    "else:\n",
    "    print(\"Invalid number,please put the positive integers\")"
   ]
  },
  {
   "cell_type": "code",
   "execution_count": null,
   "id": "ee1296bd",
   "metadata": {},
   "outputs": [],
   "source": [
    "x = int(input(\"Enter the first number:\"))\n",
    "y = int(input(\"Enter the second number:\"))\n",
    "z = input(\"which arithmatic operation: \")\n",
    "if z==\"add\":\n",
    "    print(x+y)\n",
    "else:\n",
    "    print(x+y)\n",
    "if z==\"substract\":\n",
    "    print(x-y)\n",
    "else:\n",
    "    print(x-y)\n",
    "if z==\"multiply\":\n",
    "    print(x*y)\n",
    "else:\n",
    "    print(x*y)\n",
    "if z==\"divide\":\n",
    "    print(x/y)\n",
    "else:\n",
    "    print(x/y\n",
    "         )"
   ]
  },
  {
   "cell_type": "code",
   "execution_count": 3,
   "id": "ba9fb56f",
   "metadata": {},
   "outputs": [
    {
     "name": "stdout",
     "output_type": "stream",
     "text": [
      "Enter the first number:\n"
     ]
    },
    {
     "ename": "ValueError",
     "evalue": "invalid literal for int() with base 10: ''",
     "output_type": "error",
     "traceback": [
      "\u001b[1;31m---------------------------------------------------------------------------\u001b[0m",
      "\u001b[1;31mValueError\u001b[0m                                Traceback (most recent call last)",
      "Cell \u001b[1;32mIn[3], line 1\u001b[0m\n\u001b[1;32m----> 1\u001b[0m x \u001b[38;5;241m=\u001b[39m \u001b[38;5;28;43mint\u001b[39;49m\u001b[43m(\u001b[49m\u001b[38;5;28;43minput\u001b[39;49m\u001b[43m(\u001b[49m\u001b[38;5;124;43m\"\u001b[39;49m\u001b[38;5;124;43mEnter the first number:\u001b[39;49m\u001b[38;5;124;43m\"\u001b[39;49m\u001b[43m)\u001b[49m\u001b[43m)\u001b[49m\n\u001b[0;32m      2\u001b[0m y \u001b[38;5;241m=\u001b[39m \u001b[38;5;28mint\u001b[39m(\u001b[38;5;28minput\u001b[39m(\u001b[38;5;124m\"\u001b[39m\u001b[38;5;124mEnter the second number:\u001b[39m\u001b[38;5;124m\"\u001b[39m))\n\u001b[0;32m      3\u001b[0m z \u001b[38;5;241m=\u001b[39m \u001b[38;5;28minput\u001b[39m(\u001b[38;5;124m\"\u001b[39m\u001b[38;5;124mwhich arithmatic operation: \u001b[39m\u001b[38;5;124m\"\u001b[39m)\n",
      "\u001b[1;31mValueError\u001b[0m: invalid literal for int() with base 10: ''"
     ]
    }
   ],
   "source": [
    "x = int(input(\"Enter the first number:\"))\n",
    "y = int(input(\"Enter the second number:\"))\n",
    "z = input(\"which arithmatic operation: \")\n",
    "if z==\"add\":\n",
    "    print(x+y)\n",
    "if z==\"substract\":\n",
    "    print(x-y)\n",
    "if z==\"multiply\":\n",
    "    print(x*y)\n",
    "if z==\"divide\":\n",
    "    print(x/y)\n",
    "if z==\"modulous\":\n",
    "    print(x%y)\n",
    "if z==\"floor division\":\n",
    "    print(x//y)"
   ]
  },
  {
   "cell_type": "code",
   "execution_count": 4,
   "id": "83ef7700",
   "metadata": {},
   "outputs": [
    {
     "name": "stdout",
     "output_type": "stream",
     "text": [
      "Enter the first number:\n"
     ]
    },
    {
     "ename": "ValueError",
     "evalue": "invalid literal for int() with base 10: ''",
     "output_type": "error",
     "traceback": [
      "\u001b[1;31m---------------------------------------------------------------------------\u001b[0m",
      "\u001b[1;31mValueError\u001b[0m                                Traceback (most recent call last)",
      "Cell \u001b[1;32mIn[4], line 1\u001b[0m\n\u001b[1;32m----> 1\u001b[0m x \u001b[38;5;241m=\u001b[39m \u001b[38;5;28;43mint\u001b[39;49m\u001b[43m(\u001b[49m\u001b[38;5;28;43minput\u001b[39;49m\u001b[43m(\u001b[49m\u001b[38;5;124;43m\"\u001b[39;49m\u001b[38;5;124;43mEnter the first number:\u001b[39;49m\u001b[38;5;124;43m\"\u001b[39;49m\u001b[43m)\u001b[49m\u001b[43m)\u001b[49m\n\u001b[0;32m      2\u001b[0m y \u001b[38;5;241m=\u001b[39m \u001b[38;5;28mint\u001b[39m(\u001b[38;5;28minput\u001b[39m(\u001b[38;5;124m\"\u001b[39m\u001b[38;5;124mEnter the second number:\u001b[39m\u001b[38;5;124m\"\u001b[39m))\n\u001b[0;32m      3\u001b[0m z \u001b[38;5;241m=\u001b[39m \u001b[38;5;28minput\u001b[39m(\u001b[38;5;124m\"\u001b[39m\u001b[38;5;124mwhich arithmatic operation: \u001b[39m\u001b[38;5;124m\"\u001b[39m)\n",
      "\u001b[1;31mValueError\u001b[0m: invalid literal for int() with base 10: ''"
     ]
    }
   ],
   "source": [
    "x = int(input(\"Enter the first number:\"))\n",
    "y = int(input(\"Enter the second number:\"))\n",
    "z = input(\"which arithmatic operation: \")\n",
    "if z==\"add\":\n",
    "    print(x+y)\n",
    "if z==\"substract\":\n",
    "    print(x-y)\n",
    "if z==\"multiply\":\n",
    "    print(x*y)\n",
    "if z==\"divide\":\n",
    "    print(x/y)"
   ]
  },
  {
   "cell_type": "code",
   "execution_count": 5,
   "id": "69994e35",
   "metadata": {},
   "outputs": [
    {
     "name": "stdout",
     "output_type": "stream",
     "text": [
      "Enter the first number:\n"
     ]
    },
    {
     "ename": "ValueError",
     "evalue": "invalid literal for int() with base 10: ''",
     "output_type": "error",
     "traceback": [
      "\u001b[1;31m---------------------------------------------------------------------------\u001b[0m",
      "\u001b[1;31mValueError\u001b[0m                                Traceback (most recent call last)",
      "Cell \u001b[1;32mIn[5], line 1\u001b[0m\n\u001b[1;32m----> 1\u001b[0m x \u001b[38;5;241m=\u001b[39m \u001b[38;5;28;43mint\u001b[39;49m\u001b[43m(\u001b[49m\u001b[38;5;28;43minput\u001b[39;49m\u001b[43m(\u001b[49m\u001b[38;5;124;43m\"\u001b[39;49m\u001b[38;5;124;43mEnter the first number:\u001b[39;49m\u001b[38;5;124;43m\"\u001b[39;49m\u001b[43m)\u001b[49m\u001b[43m)\u001b[49m\n\u001b[0;32m      2\u001b[0m y \u001b[38;5;241m=\u001b[39m \u001b[38;5;28mint\u001b[39m(\u001b[38;5;28minput\u001b[39m(\u001b[38;5;124m\"\u001b[39m\u001b[38;5;124mEnter the second number:\u001b[39m\u001b[38;5;124m\"\u001b[39m))\n\u001b[0;32m      3\u001b[0m z \u001b[38;5;241m=\u001b[39m \u001b[38;5;28minput\u001b[39m(\u001b[38;5;124m\"\u001b[39m\u001b[38;5;124mTo do operations use (a=add,s=substract,m=multiply,d=divide): \u001b[39m\u001b[38;5;124m\"\u001b[39m)\n",
      "\u001b[1;31mValueError\u001b[0m: invalid literal for int() with base 10: ''"
     ]
    }
   ],
   "source": [
    "x = int(input(\"Enter the first number:\"))\n",
    "y = int(input(\"Enter the second number:\"))\n",
    "z = input(\"To do operations use (a=add,s=substract,m=multiply,d=divide): \")\n",
    "a = x+y\n",
    "s = x-y\n",
    "m = x*y\n",
    "d = x/y\n",
    "if z==a:\n",
    "    print(a)\n",
    "if z==s:\n",
    "    print(s)\n",
    "if z==m:\n",
    "    print(m)\n",
    "if z==d:\n",
    "    print(d)\n",
    "    "
   ]
  },
  {
   "cell_type": "code",
   "execution_count": 6,
   "id": "a041d566",
   "metadata": {},
   "outputs": [
    {
     "name": "stdout",
     "output_type": "stream",
     "text": [
      "the sum of even number from 1 to 10 is: 30\n"
     ]
    }
   ],
   "source": [
    "# print the sum of all even numbers from 1 to 10\n",
    "sum=0\n",
    "for i in range(1,11):\n",
    "    if i%2==0:\n",
    "        sum = sum + i  # sum+=i\n",
    "print(\"the sum of even number from 1 to 10 is:\",sum)        "
   ]
  },
  {
   "cell_type": "code",
   "execution_count": 7,
   "id": "947fb736",
   "metadata": {},
   "outputs": [
    {
     "name": "stdout",
     "output_type": "stream",
     "text": [
      "it is an odd number: 1\n",
      "it is an even number: 2\n",
      "it is an odd number: 3\n",
      "it is an even number: 4\n",
      "it is an odd number: 5\n",
      "it is an even number: 6\n",
      "it is an odd number: 7\n",
      "it is an even number: 8\n",
      "it is an odd number: 9\n",
      "it is an even number: 10\n",
      "it is an odd number: 11\n",
      "it is an even number: 12\n",
      "it is an odd number: 13\n",
      "it is an even number: 14\n",
      "it is an odd number: 15\n",
      "it is an even number: 16\n",
      "it is an odd number: 17\n",
      "it is an even number: 18\n",
      "it is an odd number: 19\n",
      "it is an even number: 20\n",
      "it is an odd number: 21\n",
      "it is an even number: 22\n",
      "it is an odd number: 23\n",
      "it is an even number: 24\n",
      "it is an odd number: 25\n",
      "it is an even number: 26\n",
      "it is an odd number: 27\n",
      "it is an even number: 28\n",
      "it is an odd number: 29\n",
      "it is an even number: 30\n",
      "it is an odd number: 31\n",
      "it is an even number: 32\n",
      "it is an odd number: 33\n",
      "it is an even number: 34\n",
      "it is an odd number: 35\n",
      "it is an even number: 36\n",
      "it is an odd number: 37\n",
      "it is an even number: 38\n",
      "it is an odd number: 39\n",
      "it is an even number: 40\n",
      "it is an odd number: 41\n",
      "it is an even number: 42\n",
      "it is an odd number: 43\n",
      "it is an even number: 44\n",
      "it is an odd number: 45\n",
      "it is an even number: 46\n",
      "it is an odd number: 47\n",
      "it is an even number: 48\n",
      "it is an odd number: 49\n",
      "it is an even number: 50\n",
      "it is an odd number: 51\n",
      "it is an even number: 52\n",
      "it is an odd number: 53\n",
      "it is an even number: 54\n",
      "it is an odd number: 55\n",
      "it is an even number: 56\n",
      "it is an odd number: 57\n",
      "it is an even number: 58\n",
      "it is an odd number: 59\n",
      "it is an even number: 60\n",
      "it is an odd number: 61\n",
      "it is an even number: 62\n",
      "it is an odd number: 63\n",
      "it is an even number: 64\n",
      "it is an odd number: 65\n",
      "it is an even number: 66\n",
      "it is an odd number: 67\n",
      "it is an even number: 68\n",
      "it is an odd number: 69\n",
      "it is an even number: 70\n",
      "it is an odd number: 71\n",
      "it is an even number: 72\n",
      "it is an odd number: 73\n",
      "it is an even number: 74\n",
      "it is an odd number: 75\n",
      "it is an even number: 76\n",
      "it is an odd number: 77\n",
      "it is an even number: 78\n",
      "it is an odd number: 79\n",
      "it is an even number: 80\n",
      "it is an odd number: 81\n",
      "it is an even number: 82\n",
      "it is an odd number: 83\n",
      "it is an even number: 84\n",
      "it is an odd number: 85\n",
      "it is an even number: 86\n",
      "it is an odd number: 87\n",
      "it is an even number: 88\n",
      "it is an odd number: 89\n",
      "it is an even number: 90\n",
      "it is an odd number: 91\n",
      "it is an even number: 92\n",
      "it is an odd number: 93\n",
      "it is an even number: 94\n",
      "it is an odd number: 95\n",
      "it is an even number: 96\n",
      "it is an odd number: 97\n",
      "it is an even number: 98\n",
      "it is an odd number: 99\n",
      "it is an even number: 100\n"
     ]
    }
   ],
   "source": [
    "# classify numbers from 1 to 100 as even or odd??\n",
    "x = range(1,101)  # we can also write it as range(1,100+1)\n",
    "for i in x:\n",
    "    if i%2==0:\n",
    "        print(\"it is an even number:\",i)\n",
    "    else:\n",
    "        print(\"it is an odd number:\",i)"
   ]
  },
  {
   "cell_type": "code",
   "execution_count": 8,
   "id": "4995a834",
   "metadata": {},
   "outputs": [
    {
     "name": "stdout",
     "output_type": "stream",
     "text": [
      "30\n"
     ]
    }
   ],
   "source": [
    "sum=0\n",
    "for i in range(2,11,2):\n",
    "        sum+=i\n",
    "print(sum)"
   ]
  },
  {
   "cell_type": "code",
   "execution_count": 9,
   "id": "13fd4501",
   "metadata": {},
   "outputs": [
    {
     "ename": "NameError",
     "evalue": "name 'sum_of_num' is not defined",
     "output_type": "error",
     "traceback": [
      "\u001b[1;31m---------------------------------------------------------------------------\u001b[0m",
      "\u001b[1;31mNameError\u001b[0m                                 Traceback (most recent call last)",
      "Cell \u001b[1;32mIn[9], line 3\u001b[0m\n\u001b[0;32m      1\u001b[0m sum_of_numbers\u001b[38;5;241m=\u001b[39m\u001b[38;5;241m0\u001b[39m\n\u001b[0;32m      2\u001b[0m \u001b[38;5;28;01mfor\u001b[39;00m _range \u001b[38;5;129;01min\u001b[39;00m \u001b[38;5;28mrange\u001b[39m(\u001b[38;5;241m2\u001b[39m,\u001b[38;5;241m11\u001b[39m,\u001b[38;5;241m2\u001b[39m):\n\u001b[1;32m----> 3\u001b[0m     \u001b[43msum_of_num\u001b[49m\u001b[38;5;241m==\u001b[39m\u001b[38;5;28msum\u001b[39m(_range)\n\u001b[0;32m      4\u001b[0m \u001b[38;5;28mprint\u001b[39m(_range)\n",
      "\u001b[1;31mNameError\u001b[0m: name 'sum_of_num' is not defined"
     ]
    }
   ],
   "source": [
    "sum_of_numbers=0\n",
    "for _range in range(2,11,2):\n",
    "    sum_of_num==sum(_range)\n",
    "print(_range)\n"
   ]
  },
  {
   "cell_type": "code",
   "execution_count": 10,
   "id": "93ce4279",
   "metadata": {},
   "outputs": [
    {
     "ename": "TypeError",
     "evalue": "'int' object is not callable",
     "output_type": "error",
     "traceback": [
      "\u001b[1;31m---------------------------------------------------------------------------\u001b[0m",
      "\u001b[1;31mTypeError\u001b[0m                                 Traceback (most recent call last)",
      "Cell \u001b[1;32mIn[10], line 2\u001b[0m\n\u001b[0;32m      1\u001b[0m number \u001b[38;5;241m=\u001b[39m \u001b[38;5;28mlist\u001b[39m(i \u001b[38;5;28;01mfor\u001b[39;00m i \u001b[38;5;129;01min\u001b[39;00m \u001b[38;5;28mrange\u001b[39m(\u001b[38;5;241m2\u001b[39m,\u001b[38;5;241m11\u001b[39m,\u001b[38;5;241m2\u001b[39m))\n\u001b[1;32m----> 2\u001b[0m sum_of_numbers \u001b[38;5;241m=\u001b[39m \u001b[38;5;28;43msum\u001b[39;49m\u001b[43m(\u001b[49m\u001b[43mnumber\u001b[49m\u001b[43m)\u001b[49m\n\u001b[0;32m      3\u001b[0m \u001b[38;5;28mprint\u001b[39m(number)\n",
      "\u001b[1;31mTypeError\u001b[0m: 'int' object is not callable"
     ]
    }
   ],
   "source": [
    "\n",
    "\n",
    "number = list(i for i in range(2,11,2))\n",
    "sum_of_numbers = sum(number)\n",
    "print(number)"
   ]
  },
  {
   "cell_type": "code",
   "execution_count": 11,
   "id": "0156c74f",
   "metadata": {},
   "outputs": [],
   "source": [
    "# ask the user for the range from which the even numbers should be printed???"
   ]
  },
  {
   "cell_type": "code",
   "execution_count": 12,
   "id": "6efca251",
   "metadata": {},
   "outputs": [
    {
     "name": "stdout",
     "output_type": "stream",
     "text": [
      "start:\n"
     ]
    },
    {
     "ename": "ValueError",
     "evalue": "invalid literal for int() with base 10: ''",
     "output_type": "error",
     "traceback": [
      "\u001b[1;31m---------------------------------------------------------------------------\u001b[0m",
      "\u001b[1;31mValueError\u001b[0m                                Traceback (most recent call last)",
      "Cell \u001b[1;32mIn[12], line 1\u001b[0m\n\u001b[1;32m----> 1\u001b[0m r \u001b[38;5;241m=\u001b[39m \u001b[38;5;28;43mint\u001b[39;49m\u001b[43m(\u001b[49m\u001b[38;5;28;43minput\u001b[39;49m\u001b[43m(\u001b[49m\u001b[38;5;124;43m\"\u001b[39;49m\u001b[38;5;124;43mstart:\u001b[39;49m\u001b[38;5;124;43m\"\u001b[39;49m\u001b[43m)\u001b[49m\u001b[43m)\u001b[49m\n\u001b[0;32m      2\u001b[0m e \u001b[38;5;241m=\u001b[39m \u001b[38;5;28mint\u001b[39m(\u001b[38;5;28minput\u001b[39m(\u001b[38;5;124m\"\u001b[39m\u001b[38;5;124mstop:\u001b[39m\u001b[38;5;124m\"\u001b[39m))\n\u001b[0;32m      3\u001b[0m \u001b[38;5;28msum\u001b[39m \u001b[38;5;241m=\u001b[39m \u001b[38;5;241m0\u001b[39m\n",
      "\u001b[1;31mValueError\u001b[0m: invalid literal for int() with base 10: ''"
     ]
    }
   ],
   "source": [
    "r = int(input(\"start:\"))\n",
    "e = int(input(\"stop:\"))\n",
    "sum = 0\n",
    "for q in range(r,e+1,2):\n",
    "    if q%2==0:\n",
    "        sum+=q\n",
    "print(sum)"
   ]
  },
  {
   "cell_type": "code",
   "execution_count": 13,
   "id": "81523f24",
   "metadata": {},
   "outputs": [
    {
     "name": "stdout",
     "output_type": "stream",
     "text": [
      "\n"
     ]
    },
    {
     "ename": "ValueError",
     "evalue": "invalid literal for int() with base 10: ''",
     "output_type": "error",
     "traceback": [
      "\u001b[1;31m---------------------------------------------------------------------------\u001b[0m",
      "\u001b[1;31mValueError\u001b[0m                                Traceback (most recent call last)",
      "Cell \u001b[1;32mIn[13], line 1\u001b[0m\n\u001b[1;32m----> 1\u001b[0m a \u001b[38;5;241m=\u001b[39m \u001b[38;5;28mrange\u001b[39m(\u001b[38;5;28;43mint\u001b[39;49m\u001b[43m(\u001b[49m\u001b[38;5;28;43minput\u001b[39;49m\u001b[43m(\u001b[49m\u001b[43m)\u001b[49m\u001b[43m)\u001b[49m)\n\u001b[0;32m      2\u001b[0m \u001b[38;5;28msum\u001b[39m\u001b[38;5;241m=\u001b[39m\u001b[38;5;241m0\u001b[39m\n\u001b[0;32m      3\u001b[0m \u001b[38;5;28;01mfor\u001b[39;00m i \u001b[38;5;129;01min\u001b[39;00m a:\n",
      "\u001b[1;31mValueError\u001b[0m: invalid literal for int() with base 10: ''"
     ]
    }
   ],
   "source": [
    "a = range(int(input()))\n",
    "sum=0\n",
    "for i in a:\n",
    "    if i%2==0:\n",
    "        sum+=i\n",
    "print(sum)"
   ]
  },
  {
   "cell_type": "code",
   "execution_count": 14,
   "id": "8f9607b9",
   "metadata": {},
   "outputs": [
    {
     "name": "stdout",
     "output_type": "stream",
     "text": [
      "Enter the range from were you want the sum of even numbers:\n",
      "0\n"
     ]
    }
   ],
   "source": [
    "x = input(\"Enter the range from were you want the sum of even numbers:\")\n",
    "sum=0\n",
    "for i in x:\n",
    "    if i%2==0:\n",
    "        sum+=i\n",
    "print(sum)"
   ]
  },
  {
   "cell_type": "code",
   "execution_count": 15,
   "id": "4f527b41",
   "metadata": {},
   "outputs": [
    {
     "name": "stdout",
     "output_type": "stream",
     "text": [
      "Enter the range from were you want the sum of even numbers:\n"
     ]
    },
    {
     "ename": "TypeError",
     "evalue": "'str' object cannot be interpreted as an integer",
     "output_type": "error",
     "traceback": [
      "\u001b[1;31m---------------------------------------------------------------------------\u001b[0m",
      "\u001b[1;31mTypeError\u001b[0m                                 Traceback (most recent call last)",
      "Cell \u001b[1;32mIn[15], line 1\u001b[0m\n\u001b[1;32m----> 1\u001b[0m x \u001b[38;5;241m=\u001b[39m \u001b[38;5;28;43mrange\u001b[39;49m\u001b[43m(\u001b[49m\u001b[38;5;28;43minput\u001b[39;49m\u001b[43m(\u001b[49m\u001b[38;5;124;43m\"\u001b[39;49m\u001b[38;5;124;43mEnter the range from were you want the sum of even numbers:\u001b[39;49m\u001b[38;5;124;43m\"\u001b[39;49m\u001b[43m)\u001b[49m\u001b[43m)\u001b[49m\n\u001b[0;32m      2\u001b[0m \u001b[38;5;28msum\u001b[39m\u001b[38;5;241m=\u001b[39m\u001b[38;5;241m0\u001b[39m\n\u001b[0;32m      3\u001b[0m \u001b[38;5;28;01mfor\u001b[39;00m i \u001b[38;5;129;01min\u001b[39;00m x:\n",
      "\u001b[1;31mTypeError\u001b[0m: 'str' object cannot be interpreted as an integer"
     ]
    }
   ],
   "source": [
    "x = range(input(\"Enter the range from were you want the sum of even numbers:\"))\n",
    "sum=0\n",
    "for i in x:\n",
    "    if i%2==0:\n",
    "        sum+=i\n",
    "print(sum)"
   ]
  },
  {
   "cell_type": "code",
   "execution_count": 16,
   "id": "bbbac7e2",
   "metadata": {},
   "outputs": [
    {
     "name": "stdout",
     "output_type": "stream",
     "text": [
      "Enter the range from were you want the sum of even numbers:\n"
     ]
    },
    {
     "ename": "ValueError",
     "evalue": "invalid literal for int() with base 10: ''",
     "output_type": "error",
     "traceback": [
      "\u001b[1;31m---------------------------------------------------------------------------\u001b[0m",
      "\u001b[1;31mValueError\u001b[0m                                Traceback (most recent call last)",
      "Cell \u001b[1;32mIn[16], line 1\u001b[0m\n\u001b[1;32m----> 1\u001b[0m b \u001b[38;5;241m=\u001b[39m \u001b[38;5;28;43mint\u001b[39;49m\u001b[43m(\u001b[49m\u001b[38;5;28;43minput\u001b[39;49m\u001b[43m(\u001b[49m\u001b[38;5;124;43m\"\u001b[39;49m\u001b[38;5;124;43mEnter the range from were you want the sum of even numbers:\u001b[39;49m\u001b[38;5;124;43m\"\u001b[39;49m\u001b[43m)\u001b[49m\u001b[43m)\u001b[49m\n\u001b[0;32m      2\u001b[0m \u001b[38;5;28mrange\u001b[39m(b)\n",
      "\u001b[1;31mValueError\u001b[0m: invalid literal for int() with base 10: ''"
     ]
    }
   ],
   "source": [
    "b = int(input(\"Enter the range from were you want the sum of even numbers:\"))\n",
    "range(b)"
   ]
  },
  {
   "cell_type": "code",
   "execution_count": 17,
   "id": "4a33ea40",
   "metadata": {},
   "outputs": [
    {
     "ename": "SyntaxError",
     "evalue": "invalid syntax (3969768403.py, line 2)",
     "output_type": "error",
     "traceback": [
      "\u001b[1;36m  Cell \u001b[1;32mIn[17], line 2\u001b[1;36m\u001b[0m\n\u001b[1;33m    x = [2**,3**,4**,5**]\u001b[0m\n\u001b[1;37m            ^\u001b[0m\n\u001b[1;31mSyntaxError\u001b[0m\u001b[1;31m:\u001b[0m invalid syntax\n"
     ]
    }
   ],
   "source": [
    "# square each number inside a list and finally print it??\n",
    "x = [2**,3**,4**,5**]\n",
    "print(x)"
   ]
  },
  {
   "cell_type": "code",
   "execution_count": 18,
   "id": "1848d5ac",
   "metadata": {},
   "outputs": [
    {
     "name": "stdout",
     "output_type": "stream",
     "text": [
      "[[4], [9], [16], [25]]\n"
     ]
    }
   ],
   "source": [
    "x = [[2*2],[3*3],[4*4],[5*5]]\n",
    "print(x)"
   ]
  },
  {
   "cell_type": "code",
   "execution_count": 20,
   "id": "dd020875",
   "metadata": {},
   "outputs": [
    {
     "name": "stdout",
     "output_type": "stream",
     "text": [
      "4\n",
      "9\n",
      "16\n",
      "25\n"
     ]
    }
   ],
   "source": [
    "x = [2,3,4,5]\n",
    "for x in x:\n",
    "    print(x*x)"
   ]
  },
  {
   "cell_type": "code",
   "execution_count": 21,
   "id": "e3bbcc90",
   "metadata": {},
   "outputs": [
    {
     "ename": "TypeError",
     "evalue": "'int' object is not iterable",
     "output_type": "error",
     "traceback": [
      "\u001b[1;31m---------------------------------------------------------------------------\u001b[0m",
      "\u001b[1;31mTypeError\u001b[0m                                 Traceback (most recent call last)",
      "Cell \u001b[1;32mIn[21], line 1\u001b[0m\n\u001b[1;32m----> 1\u001b[0m \u001b[38;5;28;01mfor\u001b[39;00m x \u001b[38;5;129;01min\u001b[39;00m x:\n\u001b[0;32m      2\u001b[0m     \u001b[38;5;28mprint\u001b[39m(x)\n\u001b[0;32m      3\u001b[0m \u001b[38;5;28mtype\u001b[39m(x)\n",
      "\u001b[1;31mTypeError\u001b[0m: 'int' object is not iterable"
     ]
    }
   ],
   "source": [
    "for x in x:\n",
    "    print(x)\n",
    "type(x)    "
   ]
  },
  {
   "cell_type": "code",
   "execution_count": 22,
   "id": "a54a1d09",
   "metadata": {},
   "outputs": [
    {
     "name": "stdout",
     "output_type": "stream",
     "text": [
      "[4]\n",
      "[9]\n",
      "[16]\n",
      "[25]\n"
     ]
    }
   ],
   "source": [
    "for x in [[2*2],[3*3],[4*4],[5*5]]:\n",
    "    print(x)"
   ]
  },
  {
   "cell_type": "code",
   "execution_count": 23,
   "id": "f5c7deac",
   "metadata": {},
   "outputs": [
    {
     "name": "stdout",
     "output_type": "stream",
     "text": [
      "[2, 3, 4, 5, 2, 3, 4, 5]\n",
      "[2, 3, 4, 5, 2, 3, 4, 5, 2, 3, 4, 5]\n",
      "[2, 3, 4, 5, 2, 3, 4, 5, 2, 3, 4, 5, 2, 3, 4, 5]\n",
      "[2, 3, 4, 5, 2, 3, 4, 5, 2, 3, 4, 5, 2, 3, 4, 5, 2, 3, 4, 5]\n"
     ]
    }
   ],
   "source": [
    "list = [2,3,4,5]\n",
    "for x in [2,3,4,5]:\n",
    "    print(x*[2,3,4,5])"
   ]
  },
  {
   "cell_type": "code",
   "execution_count": 24,
   "id": "de40df2d",
   "metadata": {},
   "outputs": [
    {
     "ename": "TypeError",
     "evalue": "list indices must be integers or slices, not list",
     "output_type": "error",
     "traceback": [
      "\u001b[1;31m---------------------------------------------------------------------------\u001b[0m",
      "\u001b[1;31mTypeError\u001b[0m                                 Traceback (most recent call last)",
      "Cell \u001b[1;32mIn[24], line 2\u001b[0m\n\u001b[0;32m      1\u001b[0m v \u001b[38;5;241m=\u001b[39m [\u001b[38;5;241m2\u001b[39m,\u001b[38;5;241m3\u001b[39m,\u001b[38;5;241m4\u001b[39m,\u001b[38;5;241m5\u001b[39m]\n\u001b[1;32m----> 2\u001b[0m \u001b[38;5;28;01mfor\u001b[39;00m x \u001b[38;5;129;01min\u001b[39;00m \u001b[38;5;28;43mlist\u001b[39;49m\u001b[43m[\u001b[49m\u001b[43mv\u001b[49m\u001b[43m]\u001b[49m:\n\u001b[0;32m      3\u001b[0m     \u001b[38;5;28mprint\u001b[39m(x\u001b[38;5;241m*\u001b[39mx)\n",
      "\u001b[1;31mTypeError\u001b[0m: list indices must be integers or slices, not list"
     ]
    }
   ],
   "source": [
    "v = [2,3,4,5]\n",
    "for x in list[v]:\n",
    "    print(x*x)"
   ]
  },
  {
   "cell_type": "code",
   "execution_count": 25,
   "id": "bc998001",
   "metadata": {},
   "outputs": [
    {
     "ename": "TypeError",
     "evalue": "list indices must be integers or slices, not tuple",
     "output_type": "error",
     "traceback": [
      "\u001b[1;31m---------------------------------------------------------------------------\u001b[0m",
      "\u001b[1;31mTypeError\u001b[0m                                 Traceback (most recent call last)",
      "Cell \u001b[1;32mIn[25], line 1\u001b[0m\n\u001b[1;32m----> 1\u001b[0m x \u001b[38;5;241m=\u001b[39m \u001b[38;5;28;43mlist\u001b[39;49m\u001b[43m[\u001b[49m\u001b[38;5;241;43m2\u001b[39;49m\u001b[43m,\u001b[49m\u001b[38;5;241;43m3\u001b[39;49m\u001b[43m,\u001b[49m\u001b[38;5;241;43m4\u001b[39;49m\u001b[43m,\u001b[49m\u001b[38;5;241;43m5\u001b[39;49m\u001b[43m]\u001b[49m\n\u001b[0;32m      2\u001b[0m _square \u001b[38;5;241m=\u001b[39m \u001b[38;5;28mlist\u001b[39m\n\u001b[0;32m      3\u001b[0m \u001b[38;5;28;01mfor\u001b[39;00m y \u001b[38;5;129;01min\u001b[39;00m x:\n",
      "\u001b[1;31mTypeError\u001b[0m: list indices must be integers or slices, not tuple"
     ]
    }
   ],
   "source": [
    "x = list[2,3,4,5]\n",
    "_square = list\n",
    "for y in x:\n",
    "    _square.append(y*y)\n",
    "print(_square)"
   ]
  },
  {
   "cell_type": "code",
   "execution_count": 26,
   "id": "c384daf2",
   "metadata": {},
   "outputs": [
    {
     "ename": "TypeError",
     "evalue": "list indices must be integers or slices, not tuple",
     "output_type": "error",
     "traceback": [
      "\u001b[1;31m---------------------------------------------------------------------------\u001b[0m",
      "\u001b[1;31mTypeError\u001b[0m                                 Traceback (most recent call last)",
      "Cell \u001b[1;32mIn[26], line 1\u001b[0m\n\u001b[1;32m----> 1\u001b[0m x \u001b[38;5;241m=\u001b[39m \u001b[38;5;28;43mlist\u001b[39;49m\u001b[43m[\u001b[49m\u001b[38;5;241;43m2\u001b[39;49m\u001b[43m,\u001b[49m\u001b[38;5;241;43m3\u001b[39;49m\u001b[43m,\u001b[49m\u001b[38;5;241;43m4\u001b[39;49m\u001b[43m,\u001b[49m\u001b[38;5;241;43m5\u001b[39;49m\u001b[43m]\u001b[49m\n\u001b[0;32m      2\u001b[0m _square \u001b[38;5;241m=\u001b[39m []\n\u001b[0;32m      3\u001b[0m \u001b[38;5;28;01mfor\u001b[39;00m y \u001b[38;5;129;01min\u001b[39;00m x:\n",
      "\u001b[1;31mTypeError\u001b[0m: list indices must be integers or slices, not tuple"
     ]
    }
   ],
   "source": [
    "x = list[2,3,4,5]\n",
    "_square = []\n",
    "for y in x:\n",
    "    _square.append(y*y)\n",
    "print(_square)"
   ]
  },
  {
   "cell_type": "code",
   "execution_count": null,
   "id": "1a88650a",
   "metadata": {},
   "outputs": [],
   "source": []
  },
  {
   "cell_type": "code",
   "execution_count": null,
   "id": "554b726e",
   "metadata": {},
   "outputs": [],
   "source": []
  },
  {
   "cell_type": "code",
   "execution_count": null,
   "id": "2d0f18ee",
   "metadata": {},
   "outputs": [],
   "source": []
  },
  {
   "cell_type": "code",
   "execution_count": null,
   "id": "85275026",
   "metadata": {},
   "outputs": [],
   "source": []
  },
  {
   "cell_type": "code",
   "execution_count": null,
   "id": "3e992c90",
   "metadata": {},
   "outputs": [],
   "source": []
  },
  {
   "cell_type": "code",
   "execution_count": null,
   "id": "3dc76d5b",
   "metadata": {},
   "outputs": [],
   "source": []
  },
  {
   "cell_type": "code",
   "execution_count": null,
   "id": "622bfeb2",
   "metadata": {},
   "outputs": [],
   "source": []
  },
  {
   "cell_type": "code",
   "execution_count": null,
   "id": "4216c4de",
   "metadata": {},
   "outputs": [],
   "source": []
  },
  {
   "cell_type": "code",
   "execution_count": 19,
   "id": "c126b0b0",
   "metadata": {},
   "outputs": [
    {
     "name": "stdout",
     "output_type": "stream",
     "text": [
      "[4, 9, 16, 25]\n"
     ]
    }
   ],
   "source": [
    "x = [2,3,4,5]\n",
    "_square = [num*num for num in x]\n",
    "print(_square)"
   ]
  },
  {
   "cell_type": "code",
   "execution_count": 2,
   "id": "d7749f99",
   "metadata": {},
   "outputs": [
    {
     "name": "stdout",
     "output_type": "stream",
     "text": [
      "[4, 9, 16, 25]\n"
     ]
    }
   ],
   "source": [
    "x = [2,3,4,5]\n",
    "_square = [a*a for a in x]\n",
    "print(_square)"
   ]
  },
  {
   "cell_type": "code",
   "execution_count": 1,
   "id": "8c1a2496",
   "metadata": {},
   "outputs": [
    {
     "name": "stdout",
     "output_type": "stream",
     "text": [
      "[4, 9, 16, 25]\n"
     ]
    }
   ],
   "source": [
    "x = [2,3,4,5]\n",
    "_square = []\n",
    "for y in x:\n",
    "    _square.append(y*y)\n",
    "print(_square)"
   ]
  },
  {
   "cell_type": "code",
   "execution_count": 1,
   "id": "ea383c7f",
   "metadata": {},
   "outputs": [
    {
     "name": "stdout",
     "output_type": "stream",
     "text": [
      "[1, 2, 3, 4, 5]\n",
      "2939124417600\n",
      "1\n",
      "4\n",
      "9\n",
      "16\n",
      "25\n",
      "[1, 4, 9, 16, 25]\n",
      "2939124417600\n"
     ]
    }
   ],
   "source": [
    "lst = [1,2,3,4,5]\n",
    "print(lst)\n",
    "print(id(lst))\n",
    "for x in range(1,6):\n",
    "    lst.remove(x)\n",
    "    x= x**2\n",
    "    print(x)\n",
    "    lst.append(x)\n",
    "print(lst)\n",
    "print(id(lst))\n",
    "    "
   ]
  },
  {
   "cell_type": "code",
   "execution_count": null,
   "id": "da6a87eb",
   "metadata": {},
   "outputs": [],
   "source": []
  },
  {
   "cell_type": "code",
   "execution_count": null,
   "id": "a62195ab",
   "metadata": {},
   "outputs": [],
   "source": []
  },
  {
   "cell_type": "code",
   "execution_count": null,
   "id": "0d1d7112",
   "metadata": {},
   "outputs": [],
   "source": []
  },
  {
   "cell_type": "code",
   "execution_count": null,
   "id": "8990cbd1",
   "metadata": {},
   "outputs": [],
   "source": []
  },
  {
   "cell_type": "code",
   "execution_count": null,
   "id": "373bac8f",
   "metadata": {},
   "outputs": [],
   "source": []
  },
  {
   "cell_type": "code",
   "execution_count": null,
   "id": "c11f348b",
   "metadata": {},
   "outputs": [],
   "source": []
  },
  {
   "cell_type": "code",
   "execution_count": null,
   "id": "0ffb1ccd",
   "metadata": {},
   "outputs": [],
   "source": []
  },
  {
   "cell_type": "code",
   "execution_count": 28,
   "id": "1a51265c",
   "metadata": {},
   "outputs": [
    {
     "name": "stdout",
     "output_type": "stream",
     "text": [
      "students:\n"
     ]
    },
    {
     "ename": "ValueError",
     "evalue": "invalid literal for int() with base 10: ''",
     "output_type": "error",
     "traceback": [
      "\u001b[1;31m---------------------------------------------------------------------------\u001b[0m",
      "\u001b[1;31mValueError\u001b[0m                                Traceback (most recent call last)",
      "Cell \u001b[1;32mIn[28], line 2\u001b[0m\n\u001b[0;32m      1\u001b[0m y \u001b[38;5;241m=\u001b[39m {\u001b[38;5;241m1\u001b[39m:\u001b[38;5;124m\"\u001b[39m\u001b[38;5;124maa\u001b[39m\u001b[38;5;124m\"\u001b[39m,\u001b[38;5;241m2\u001b[39m:\u001b[38;5;124m\"\u001b[39m\u001b[38;5;124mbb\u001b[39m\u001b[38;5;124m\"\u001b[39m,\u001b[38;5;241m3\u001b[39m:\u001b[38;5;124m\"\u001b[39m\u001b[38;5;124mcc\u001b[39m\u001b[38;5;124m\"\u001b[39m,\u001b[38;5;241m4\u001b[39m:\u001b[38;5;124m\"\u001b[39m\u001b[38;5;124mdd\u001b[39m\u001b[38;5;124m\"\u001b[39m,\u001b[38;5;241m5\u001b[39m:\u001b[38;5;124m\"\u001b[39m\u001b[38;5;124mee\u001b[39m\u001b[38;5;124m\"\u001b[39m,\u001b[38;5;241m6\u001b[39m:\u001b[38;5;124m\"\u001b[39m\u001b[38;5;124mff\u001b[39m\u001b[38;5;124m\"\u001b[39m,\u001b[38;5;241m7\u001b[39m:\u001b[38;5;124m\"\u001b[39m\u001b[38;5;124mgg\u001b[39m\u001b[38;5;124m\"\u001b[39m,\u001b[38;5;241m8\u001b[39m:\u001b[38;5;124m\"\u001b[39m\u001b[38;5;124mhh\u001b[39m\u001b[38;5;124m\"\u001b[39m,\u001b[38;5;241m9\u001b[39m:\u001b[38;5;124m\"\u001b[39m\u001b[38;5;124mii\u001b[39m\u001b[38;5;124m\"\u001b[39m,\u001b[38;5;241m10\u001b[39m:\u001b[38;5;124m\"\u001b[39m\u001b[38;5;124mjj\u001b[39m\u001b[38;5;124m\"\u001b[39m}\n\u001b[1;32m----> 2\u001b[0m x \u001b[38;5;241m=\u001b[39m \u001b[38;5;28;43mint\u001b[39;49m\u001b[43m(\u001b[49m\u001b[38;5;28;43minput\u001b[39;49m\u001b[43m(\u001b[49m\u001b[38;5;124;43m\"\u001b[39;49m\u001b[38;5;124;43mstudents:\u001b[39;49m\u001b[38;5;124;43m\"\u001b[39;49m\u001b[43m)\u001b[49m\u001b[43m)\u001b[49m   \u001b[38;5;66;03m# add another dict from the user\u001b[39;00m\n\u001b[0;32m      3\u001b[0m y[x]\n",
      "\u001b[1;31mValueError\u001b[0m: invalid literal for int() with base 10: ''"
     ]
    }
   ],
   "source": [
    "y = {1:\"aa\",2:\"bb\",3:\"cc\",4:\"dd\",5:\"ee\",6:\"ff\",7:\"gg\",8:\"hh\",9:\"ii\",10:\"jj\"}\n",
    "x = int(input(\"students:\"))   # add another dict from the user\n",
    "y[x]"
   ]
  },
  {
   "cell_type": "code",
   "execution_count": 29,
   "id": "232a0a73",
   "metadata": {},
   "outputs": [
    {
     "name": "stdout",
     "output_type": "stream",
     "text": [
      "students:\n",
      "{1: 'aa', 2: 'bb', 3: 'cc', 4: 'dd', 5: 'ee', 6: 'ff', 7: 'gg', 8: 'hh', 9: 'ii', 10: 'jj'}\n"
     ]
    }
   ],
   "source": [
    "y = {1:\"aa\",2:\"bb\",3:\"cc\",4:\"dd\",5:\"ee\",6:\"ff\",7:\"gg\",8:\"hh\",9:\"ii\",10:\"jj\"}\n",
    "x = input(\"students:\")   # add another dict from the user\n",
    "print(y)"
   ]
  },
  {
   "cell_type": "code",
   "execution_count": 30,
   "id": "59643e15",
   "metadata": {},
   "outputs": [
    {
     "name": "stdout",
     "output_type": "stream",
     "text": [
      "students:9\n"
     ]
    },
    {
     "data": {
      "text/plain": [
       "'ii'"
      ]
     },
     "execution_count": 30,
     "metadata": {},
     "output_type": "execute_result"
    }
   ],
   "source": [
    "\n",
    "\n",
    "y = {1:\"aa\",2:\"bb\",3:\"cc\",4:\"dd\",5:\"ee\",6:\"ff\",7:\"gg\",8:\"hh\",9:\"ii\",10:\"jj\"}\n",
    "x = int(input(\"students:\"))   \n",
    "y[x]"
   ]
  },
  {
   "cell_type": "code",
   "execution_count": null,
   "id": "64726bbb",
   "metadata": {},
   "outputs": [],
   "source": [
    "# Print the pattern \n",
    "*\n",
    "**\n",
    "***\n",
    "****\n",
    "*****"
   ]
  },
  {
   "cell_type": "code",
   "execution_count": 13,
   "id": "971ed928",
   "metadata": {},
   "outputs": [
    {
     "name": "stdout",
     "output_type": "stream",
     "text": [
      "\n",
      "*\n",
      "**\n",
      "***\n",
      "****\n",
      "*****\n"
     ]
    }
   ],
   "source": [
    "for e in range(6):\n",
    "    g = str(e)\n",
    "    print(\"*\"*e)"
   ]
  },
  {
   "cell_type": "code",
   "execution_count": 14,
   "id": "79df6604",
   "metadata": {},
   "outputs": [
    {
     "name": "stdout",
     "output_type": "stream",
     "text": [
      "\n",
      "* \n",
      "* * \n",
      "* * * \n",
      "* * * * \n",
      "* * * * * \n"
     ]
    }
   ],
   "source": [
    "for e in range(6):\n",
    "    g = str(e)\n",
    "    print(\"* \"*e)"
   ]
  },
  {
   "cell_type": "code",
   "execution_count": 19,
   "id": "3defa32f",
   "metadata": {},
   "outputs": [
    {
     "name": "stdout",
     "output_type": "stream",
     "text": [
      "7\n",
      "\n",
      "1\n",
      "22\n",
      "333\n",
      "4444\n",
      "55555\n",
      "666666\n"
     ]
    }
   ],
   "source": [
    "f = list(range(int(input())))\n",
    "for e in f:\n",
    "    g = str(e)\n",
    "    print(e*g)"
   ]
  },
  {
   "cell_type": "code",
   "execution_count": 1,
   "id": "67e7e44d",
   "metadata": {},
   "outputs": [],
   "source": [
    "# take a positive integer (3-digit) as input fron the user:\n",
    "# check wheather the given number is armstrong number.\n",
    "# eg. 153= 1**3 + 5**3 + 3**3\n",
    "#     407= 4**3 + 0**3 + 7**3"
   ]
  },
  {
   "cell_type": "code",
   "execution_count": 7,
   "id": "ea018362",
   "metadata": {},
   "outputs": [
    {
     "name": "stdout",
     "output_type": "stream",
     "text": [
      "Enter a 3-digit number:407\n",
      "407 is an Armstrong number\n"
     ]
    }
   ],
   "source": [
    "num = int(input(\"Enter a 3-digit number:\"))\n",
    "sum=0\n",
    "digit1=num%10\n",
    "digit2=(num//10)%10\n",
    "digit3=num//100\n",
    "sum= digit1**3+digit2**3+digit3**3\n",
    "\n",
    "if num==sum:\n",
    "    print(num,'is an Armstrong number')\n",
    "else:\n",
    "    print(num,'is not an Armstrong number')"
   ]
  },
  {
   "cell_type": "code",
   "execution_count": 10,
   "id": "936b7750",
   "metadata": {},
   "outputs": [
    {
     "name": "stdout",
     "output_type": "stream",
     "text": [
      "Enter a 3-digit number:\n"
     ]
    },
    {
     "ename": "ValueError",
     "evalue": "invalid literal for int() with base 10: ''",
     "output_type": "error",
     "traceback": [
      "\u001b[1;31m---------------------------------------------------------------------------\u001b[0m",
      "\u001b[1;31mValueError\u001b[0m                                Traceback (most recent call last)",
      "Cell \u001b[1;32mIn[10], line 1\u001b[0m\n\u001b[1;32m----> 1\u001b[0m num \u001b[38;5;241m=\u001b[39m \u001b[38;5;28;43mint\u001b[39;49m\u001b[43m(\u001b[49m\u001b[38;5;28;43minput\u001b[39;49m\u001b[43m(\u001b[49m\u001b[38;5;124;43m\"\u001b[39;49m\u001b[38;5;124;43mEnter a 3-digit number:\u001b[39;49m\u001b[38;5;124;43m\"\u001b[39;49m\u001b[43m)\u001b[49m\u001b[43m)\u001b[49m\n\u001b[0;32m      2\u001b[0m \u001b[38;5;28msum\u001b[39m\u001b[38;5;241m=\u001b[39m\u001b[38;5;241m0\u001b[39m\n\u001b[0;32m      3\u001b[0m \u001b[38;5;28;01mfor\u001b[39;00m i \u001b[38;5;129;01min\u001b[39;00m \u001b[38;5;28mrange\u001b[39m(\u001b[38;5;241m1\u001b[39m,\u001b[38;5;241m4\u001b[39m):\n",
      "\u001b[1;31mValueError\u001b[0m: invalid literal for int() with base 10: ''"
     ]
    }
   ],
   "source": [
    "num = int(input(\"Enter a 3-digit number:\"))\n",
    "sum=0\n",
    "for i in range(1,4):\n",
    "    digit=int(str(num)[i-1])\n",
    "    sum+=digit**3# sum = sum + digit**3\n",
    "if num==sum:\n",
    "    print(num,\"is an Armstrong number\")\n",
    "else:\n",
    "    print(num,\"is not an Armstrong number\")"
   ]
  },
  {
   "cell_type": "code",
   "execution_count": 1,
   "id": "f4d4a110",
   "metadata": {},
   "outputs": [
    {
     "name": "stdout",
     "output_type": "stream",
     "text": [
      "Enter a 3-digit number:153\n"
     ]
    },
    {
     "ename": "KeyboardInterrupt",
     "evalue": "",
     "output_type": "error",
     "traceback": [
      "\u001b[1;31m---------------------------------------------------------------------------\u001b[0m",
      "\u001b[1;31mKeyboardInterrupt\u001b[0m                         Traceback (most recent call last)",
      "Cell \u001b[1;32mIn[1], line 4\u001b[0m\n\u001b[0;32m      2\u001b[0m \u001b[38;5;28msum\u001b[39m \u001b[38;5;241m=\u001b[39m \u001b[38;5;241m0\u001b[39m\n\u001b[0;32m      3\u001b[0m temp \u001b[38;5;241m=\u001b[39m num\n\u001b[1;32m----> 4\u001b[0m \u001b[38;5;28;01mwhile\u001b[39;00m \u001b[43mtemp\u001b[49m\u001b[38;5;241;43m>\u001b[39;49m\u001b[38;5;241;43m0\u001b[39;49m:\n\u001b[0;32m      5\u001b[0m     digit \u001b[38;5;241m=\u001b[39m temp\u001b[38;5;241m%\u001b[39m\u001b[38;5;241m10\u001b[39m\n\u001b[0;32m      6\u001b[0m     \u001b[38;5;28msum\u001b[39m\u001b[38;5;241m+\u001b[39m\u001b[38;5;241m=\u001b[39mdigit\u001b[38;5;241m*\u001b[39m\u001b[38;5;241m*\u001b[39m\u001b[38;5;241m3\u001b[39m\n",
      "\u001b[1;31mKeyboardInterrupt\u001b[0m: "
     ]
    }
   ],
   "source": [
    "num = int(input(\"Enter a 3-digit number:\"))\n",
    "sum = 0\n",
    "temp = num\n",
    "while temp>0:\n",
    "    digit = temp%10\n",
    "    sum+=digit**3\n",
    "    temp//10\n",
    "if num==sum:\n",
    "    print(num,'is an Armstrong number')\n",
    "else:\n",
    "    print(num,'is not an Armstrong number')\n",
    "           "
   ]
  },
  {
   "cell_type": "code",
   "execution_count": 6,
   "id": "e5b205c8",
   "metadata": {},
   "outputs": [
    {
     "name": "stdout",
     "output_type": "stream",
     "text": [
      "Enter the armstrong number:153\n",
      "its not the armstrong number\n"
     ]
    }
   ],
   "source": [
    "x = input(\"Enter the armstrong number:\")\n",
    "if x==0:\n",
    "    print(i**len(x))\n",
    "else:\n",
    "    print(\"its not the armstrong number\")"
   ]
  },
  {
   "cell_type": "code",
   "execution_count": 2,
   "id": "0fbe5d86",
   "metadata": {},
   "outputs": [],
   "source": [
    "# take a positive integer as input from the user.Find the factorial of that number.\n",
    "# eg.factorial of 4 = 1*2*3*4\n",
    "# factorial of 0 is 1"
   ]
  },
  {
   "cell_type": "code",
   "execution_count": 14,
   "id": "cd2b4461",
   "metadata": {},
   "outputs": [
    {
     "name": "stdout",
     "output_type": "stream",
     "text": [
      "4\n",
      "[]\n",
      "[0, 1, 2, 3]\n",
      "[0, 1, 2, 3, 0, 1, 2, 3]\n",
      "[0, 1, 2, 3, 0, 1, 2, 3, 0, 1, 2, 3]\n"
     ]
    }
   ],
   "source": [
    "a = list(range(int(input())))\n",
    "for i in a:\n",
    "    print(i*a)\n"
   ]
  },
  {
   "cell_type": "code",
   "execution_count": 17,
   "id": "e3eede5d",
   "metadata": {},
   "outputs": [
    {
     "name": "stdout",
     "output_type": "stream",
     "text": [
      "4\n"
     ]
    },
    {
     "ename": "TypeError",
     "evalue": "'>' not supported between instances of 'int' and 'tuple'",
     "output_type": "error",
     "traceback": [
      "\u001b[1;31m---------------------------------------------------------------------------\u001b[0m",
      "\u001b[1;31mTypeError\u001b[0m                                 Traceback (most recent call last)",
      "Cell \u001b[1;32mIn[17], line 3\u001b[0m\n\u001b[0;32m      1\u001b[0m a \u001b[38;5;241m=\u001b[39m \u001b[38;5;28mtuple\u001b[39m(\u001b[38;5;28mrange\u001b[39m(\u001b[38;5;28mint\u001b[39m(\u001b[38;5;28minput\u001b[39m())))\n\u001b[0;32m      2\u001b[0m \u001b[38;5;28;01mfor\u001b[39;00m x \u001b[38;5;129;01min\u001b[39;00m a:\n\u001b[1;32m----> 3\u001b[0m     \u001b[38;5;28;01mif\u001b[39;00m \u001b[43mx\u001b[49m\u001b[38;5;241;43m>\u001b[39;49m\u001b[43ma\u001b[49m:\n\u001b[0;32m      4\u001b[0m         \u001b[38;5;28mprint\u001b[39m(x\u001b[38;5;241m*\u001b[39ma)\n",
      "\u001b[1;31mTypeError\u001b[0m: '>' not supported between instances of 'int' and 'tuple'"
     ]
    }
   ],
   "source": [
    "a = tuple(range(int(input())))\n",
    "for x in a:\n",
    "    if x>a:\n",
    "        print(x*a)"
   ]
  },
  {
   "cell_type": "code",
   "execution_count": 10,
   "id": "b18968ab",
   "metadata": {},
   "outputs": [
    {
     "name": "stdout",
     "output_type": "stream",
     "text": [
      "enter the positive number:4\n",
      "The factorial of num is 24\n"
     ]
    }
   ],
   "source": [
    "num = int(input(\"enter the positive number:\"))\n",
    "factorial= 1\n",
    "if num<0:\n",
    "    print(\"factorial does not exist for negetive numbers\")\n",
    "elif num==0:\n",
    "    print(\"The factorial of 0 is 1\")\n",
    "else:\n",
    "    for i in range(1,num+1):\n",
    "        factorial = factorial*i\n",
    "    print(\"The factorial of num is\",factorial)\n",
    "    "
   ]
  },
  {
   "cell_type": "code",
   "execution_count": 6,
   "id": "d21ff41f",
   "metadata": {},
   "outputs": [
    {
     "name": "stdout",
     "output_type": "stream",
     "text": [
      "Enter the number:4\n",
      "The factorial is: 96\n"
     ]
    }
   ],
   "source": [
    "fac_ = int(input(\"Enter the number:\"))\n",
    "factorial=1\n",
    "if fac_<0:\n",
    "    print(\"it does not exist for the negetive number:\")\n",
    "elif fac_==1:\n",
    "    print(\" the factorial of 0 is \",1)\n",
    "else:\n",
    "    for i in range(1,fac_+1):\n",
    "        fac_= fac_*i\n",
    "    print(\"The factorial is:\" , fac_)    \n",
    "        "
   ]
  },
  {
   "cell_type": "code",
   "execution_count": 16,
   "id": "37141c9a",
   "metadata": {},
   "outputs": [
    {
     "name": "stdout",
     "output_type": "stream",
     "text": [
      "Enter the number:4\n",
      "The factorial is: 24\n"
     ]
    }
   ],
   "source": [
    "fac_ = int(input(\"Enter the number:\"))\n",
    "factorial=1\n",
    "if fac_<0:\n",
    "    print(\"it does not exist for the negetive number:\")\n",
    "elif fac_==0:\n",
    "    print(\" the factorial of 0 is \",1)\n",
    "else:\n",
    "    for i in range(1,fac_+1):\n",
    "        factorial = factorial*i\n",
    "    print(\"The factorial is:\" ,factorial)    "
   ]
  },
  {
   "cell_type": "code",
   "execution_count": 14,
   "id": "27358d42",
   "metadata": {},
   "outputs": [
    {
     "data": {
      "text/plain": [
       "24"
      ]
     },
     "execution_count": 14,
     "metadata": {},
     "output_type": "execute_result"
    }
   ],
   "source": [
    "4*3*2*1"
   ]
  },
  {
   "cell_type": "code",
   "execution_count": 8,
   "id": "aa7da20e",
   "metadata": {},
   "outputs": [
    {
     "data": {
      "text/plain": [
       "24"
      ]
     },
     "execution_count": 8,
     "metadata": {},
     "output_type": "execute_result"
    }
   ],
   "source": [
    "1*2*3*4"
   ]
  },
  {
   "cell_type": "code",
   "execution_count": null,
   "id": "13a083d7",
   "metadata": {},
   "outputs": [],
   "source": []
  },
  {
   "cell_type": "code",
   "execution_count": null,
   "id": "5069d20b",
   "metadata": {},
   "outputs": [],
   "source": []
  },
  {
   "cell_type": "code",
   "execution_count": null,
   "id": "b0b991d6",
   "metadata": {},
   "outputs": [],
   "source": []
  },
  {
   "cell_type": "code",
   "execution_count": null,
   "id": "4c13b217",
   "metadata": {},
   "outputs": [],
   "source": []
  },
  {
   "cell_type": "code",
   "execution_count": null,
   "id": "40d072f0",
   "metadata": {},
   "outputs": [],
   "source": [
    "1 "
   ]
  }
 ],
 "metadata": {
  "kernelspec": {
   "display_name": "Python 3 (ipykernel)",
   "language": "python",
   "name": "python3"
  },
  "language_info": {
   "codemirror_mode": {
    "name": "ipython",
    "version": 3
   },
   "file_extension": ".py",
   "mimetype": "text/x-python",
   "name": "python",
   "nbconvert_exporter": "python",
   "pygments_lexer": "ipython3",
   "version": "3.10.9"
  }
 },
 "nbformat": 4,
 "nbformat_minor": 5
}
