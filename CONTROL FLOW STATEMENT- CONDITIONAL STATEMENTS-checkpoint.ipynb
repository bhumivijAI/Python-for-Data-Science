{
 "cells": [
  {
   "cell_type": "markdown",
   "id": "4d677263",
   "metadata": {},
   "source": [
    "# *Pyhton Progrmming Fundamentals*\n",
    "\n",
    "1. Control flow statements\n",
    "2. Functions"
   ]
  },
  {
   "cell_type": "markdown",
   "id": "0995cf15",
   "metadata": {},
   "source": [
    "# *CONTROL FLOW STATEMENTS*\n",
    "\n",
    " * In pyhton programming ,control flow is the order in which statements or blocks of code are executed at runtime. "
   ]
  },
  {
   "attachments": {
    "image.png": {
     "image/png": "[encoded data removed]"
    }
   },
   "cell_type": "markdown",
   "id": "b7bc7a9e",
   "metadata": {},
   "source": [
    "![image.png](attachment:image.png)"
   ]
  },
  {
   "cell_type": "markdown",
   "id": "0590086c",
   "metadata": {},
   "source": [
    "# Iterative - reapeatable"
   ]
  },
  {
   "cell_type": "code",
   "execution_count": 1,
   "id": "53504219",
   "metadata": {},
   "outputs": [
    {
     "name": "stdout",
     "output_type": "stream",
     "text": [
      "x is  8\n"
     ]
    }
   ],
   "source": [
    "# conditional statements\n",
    "x = 8 \n",
    "if x==8:    # we use comparision operators\n",
    "    print(\"x is \",x)# here it was giving an output cause the condition was true,and giving else is not imp.\n"
   ]
  },
  {
   "cell_type": "code",
   "execution_count": 2,
   "id": "68c1ebda",
   "metadata": {},
   "outputs": [
    {
     "name": "stdout",
     "output_type": "stream",
     "text": [
      "x is not 8\n"
     ]
    }
   ],
   "source": [
    "x = 10\n",
    "if x==8:\n",
    "    print(\"x is \",x)\n",
    "else:\n",
    "    print(\"x is not 8\")\n"
   ]
  },
  {
   "cell_type": "code",
   "execution_count": 3,
   "id": "851dc599",
   "metadata": {},
   "outputs": [
    {
     "name": "stdout",
     "output_type": "stream",
     "text": [
      "11\n",
      "x is not 10\n"
     ]
    }
   ],
   "source": [
    "x = input()\n",
    "if x==8:\n",
    "    print(\"x is \",x)\n",
    "elif x==10:\n",
    "    print(\"x is \",x)\n",
    "else:\n",
    "    print(\"x is not 10\")"
   ]
  },
  {
   "cell_type": "code",
   "execution_count": null,
   "id": "29755894",
   "metadata": {},
   "outputs": [],
   "source": [
    "x = int(input())\n",
    "if x==8:\n",
    "    print(\"x is \",x)\n",
    "elif x==10:\n",
    "    print(\"x is \",x)\n",
    "else:\n",
    "    print(\"x is not 10\")"
   ]
  },
  {
   "cell_type": "code",
   "execution_count": null,
   "id": "e466ee8d",
   "metadata": {},
   "outputs": [],
   "source": [
    "x = int(input())\n",
    "if x==8:\n",
    "    print(\"x is \",x)\n",
    "else:\n",
    "    print(\"x is not 10\")\n",
    "elif x==10:\n",
    "    print(\"x is \",x)"
   ]
  },
  {
   "cell_type": "code",
   "execution_count": null,
   "id": "d6b61108",
   "metadata": {},
   "outputs": [],
   "source": [
    "x = 10 \n",
    "if x==8:\n",
    "    print(\"x is \",x)# it will not give any output cause the condition was false."
   ]
  },
  {
   "cell_type": "code",
   "execution_count": null,
   "id": "dff05a31",
   "metadata": {},
   "outputs": [],
   "source": [
    "x = 10 \n",
    "if x==8:\n",
    "    print(\"x is \",x)\n",
    "    y = 9\n",
    "    print(y)     # the whole part is not printed cause its the part of if."
   ]
  },
  {
   "cell_type": "code",
   "execution_count": null,
   "id": "4aea337e",
   "metadata": {},
   "outputs": [],
   "source": [
    "x = 10\n",
    "if x==8:\n",
    "print(\"x is \",x)\n",
    "else:\n",
    "    print(\"x is not 8\")\n"
   ]
  },
  {
   "cell_type": "code",
   "execution_count": null,
   "id": "c10851ab",
   "metadata": {},
   "outputs": [],
   "source": [
    "x = 10\n",
    "if x==8\n",
    "    print(\"x is \",x)\n",
    "else:\n",
    "    print(\"x is not 8\")\n"
   ]
  },
  {
   "cell_type": "code",
   "execution_count": null,
   "id": "d57b1d66",
   "metadata": {},
   "outputs": [],
   "source": [
    "x = 10\n",
    "if x==8:\n",
    "    print(\"x is \",x)\n",
    "elif x==10:\n",
    "     print(\"x is\",x)    \n",
    "else:\n",
    "    print(\"x is not 8\")\n"
   ]
  },
  {
   "cell_type": "code",
   "execution_count": null,
   "id": "87ac8127",
   "metadata": {},
   "outputs": [],
   "source": [
    "x = 10\n",
    "if x==8:\n",
    "    print(\"x is \",x)\n",
    "else:\n",
    "    print(\"x is not 8\")\n",
    "elif x==10:\n",
    "     print(\"x is\",x) # we can not give else first afer elif, else will only be written afer elif.\n",
    "                     # if elif is not given so the else can be written after if .\n",
    "    \n",
    "    "
   ]
  },
  {
   "cell_type": "code",
   "execution_count": null,
   "id": "fe17ab69",
   "metadata": {},
   "outputs": [],
   "source": [
    "x = 10; y = 8\n",
    "if y<=x:\n",
    "    print(\"x is bigger then\",x)"
   ]
  },
  {
   "cell_type": "code",
   "execution_count": null,
   "id": "4715176d",
   "metadata": {},
   "outputs": [],
   "source": [
    "x = 10; y = 80\n",
    "if y<=x:\n",
    "    print(\"x is bigger then\",x)\n",
    "else:\n",
    "    print(\"x is smaller than\",y)\n",
    "    "
   ]
  },
  {
   "cell_type": "code",
   "execution_count": null,
   "id": "8015293e",
   "metadata": {},
   "outputs": [],
   "source": [
    "x = \"rishi\"\n",
    "x = x[0].upper()\n",
    "print(x)  # change first letter in upper case"
   ]
  },
  {
   "cell_type": "markdown",
   "id": "ed0534da",
   "metadata": {},
   "source": [
    "x = 10\n",
    "if x==8:\n",
    "    print(\"x is \",x)\n",
    "elif x==10:\n",
    "     print(\"x is\",x) \n",
    "elif x<=10:\n",
    "    print(\"x is smaller then\",x)\n",
    "elif x>=10:\n",
    "    print(\"x is bigger than \",x)\n",
    "elif y==10:\n",
    "    print(\"y is \",x)\n",
    "else:\n",
    "    print(\"x is not 8\")\n"
   ]
  },
  {
   "cell_type": "code",
   "execution_count": null,
   "id": "339d89bc",
   "metadata": {},
   "outputs": [],
   "source": [
    "x=10\n",
    "if x==8:\n",
    "    print (\"x is\",x)\n",
    "elif x==10:\n",
    "    print (\"x is\",x)\n",
    "elif x==12:\n",
    "    print(\"x is\",x\n",
    "         )"
   ]
  },
  {
   "cell_type": "code",
   "execution_count": null,
   "id": "226e7734",
   "metadata": {},
   "outputs": [],
   "source": [
    "x = 23\n",
    "if x==8:\n",
    "    print(\"x is \",x)\n",
    "elif x==10:\n",
    "     print(\"x is\",x) \n",
    "elif x!=6:\n",
    "    print(\"hello\")# it was only printing that elif who's condition is satisfyed or is true.\n",
    "elif x>8:\n",
    "    print(\"x is bigger than \",x)\n",
    "else:\n",
    "    print(\"x is not 8\")\n"
   ]
  },
  {
   "cell_type": "code",
   "execution_count": null,
   "id": "7efbd6f9",
   "metadata": {},
   "outputs": [],
   "source": [
    "# Nested if-else :\n",
    "# Nested means putting one condition into another .ex([1,2,3[1,2]])\n",
    "x = int(input(\"value of x\"))\n",
    "y = int(input(\"value of y\"))\n",
    "z = int(input(\"value of z\"))\n",
    "\n",
    "if x>y:\n",
    "    if x>z:\n",
    "        print(\"x>y>z\")\n",
    "    else:\n",
    "        print(\"y<x<z\")\n",
    "elif x==y:\n",
    "    if x>z:\n",
    "        print(\"y==x>z\")\n",
    "    else:\n",
    "        print(\"y==x<z\")\n",
    "elif x<y:\n",
    "    if x>z:\n",
    "        print(\"y>x>x\")\n",
    "    else:\n",
    "        print(\"y>x<z\")\n"
   ]
  },
  {
   "cell_type": "code",
   "execution_count": null,
   "id": "737d34b6",
   "metadata": {},
   "outputs": [],
   "source": [
    "x = int(input(\"value of x\"))\n",
    "y = int(input(\"value of y\"))\n",
    "z = int(input(\"value of z\"))\n",
    "\n",
    "if x>y:\n",
    "    if x>z:\n",
    "        print(\"x>y>z\")\n",
    "    else:\n",
    "        print(\"y<x<z\")\n",
    "elif x==y:\n",
    "    if x>z:\n",
    "        print(\"y==x>z\")\n",
    "    else:\n",
    "        print(\"y==x<z\")\n",
    "elif x<y:\n",
    "    if x>z:\n",
    "        print(\"y>x>x\")\n",
    "    else:\n",
    "        print(\"y>x<z\")\n"
   ]
  },
  {
   "cell_type": "code",
   "execution_count": null,
   "id": "046f2d26",
   "metadata": {},
   "outputs": [],
   "source": [
    "x = int(input(\"value of x\"))\n",
    "y = int(input(\"value of y\"))\n",
    "z = int(input(\"value of z\"))\n",
    "\n",
    "if x>y:\n",
    "    if x>z:\n",
    "        print(\"x>y>z\")\n",
    "    else:\n",
    "        print(\"y<x<z\")\n",
    "elif x==y:\n",
    "    if x>z:\n",
    "        print(\"y==x>z\")\n",
    "    else:\n",
    "        print(\"y==x<z\")\n",
    "elif x<y:\n",
    "    if x>z:\n",
    "        print(\"y>x>z\")\n",
    "    else:\n",
    "        print(\"y>x<z\")\n"
   ]
  },
  {
   "cell_type": "code",
   "execution_count": null,
   "id": "d78e0f18",
   "metadata": {},
   "outputs": [],
   "source": [
    "# single line if statement -\n",
    "if x>y: print(\"x>y\")\n",
    "elif x==y: print(\"x==y\")\n",
    "else: print(\"x<y\")    "
   ]
  },
  {
   "cell_type": "code",
   "execution_count": null,
   "id": "72b4fe85",
   "metadata": {},
   "outputs": [],
   "source": [
    "x = int(input(\"value of x\"))\n",
    "y = int(input(\"value of y\"))\n",
    "z = int(input(\"value of z\"))\n",
    "\n",
    "if (x>y):\n",
    "    if x>z:\n",
    "        print(\"x>y>z\")\n",
    "    else:\n",
    "        print(\"y<x<z\")               # but we can use this here to make the things more clear\n",
    "elif (x==y):\n",
    "    if x>z:\n",
    "        print(\"y==x>z\")\n",
    "    else:\n",
    "        print(\"y==x<z\")\n",
    "elif (x<y):\n",
    "    if x>z:\n",
    "        print(\"y>x>z\")\n",
    "    else:\n",
    "        print(\"y>x<z\")\n"
   ]
  },
  {
   "cell_type": "code",
   "execution_count": null,
   "id": "9d86c5f0",
   "metadata": {},
   "outputs": [],
   "source": [
    "# using() in if -\n",
    "if (8+4)/2==6:# here the brackets will not work cause if it uses bodmas{(8+4)/2} it will first opens it with the,\n",
    "    print(\"6\")# bodmas rule whether if we doesn't write it with brakets it will give an other output,so the diff. comes will be in true or false\n",
    "else:\n",
    "    print()"
   ]
  },
  {
   "cell_type": "code",
   "execution_count": null,
   "id": "69a98be1",
   "metadata": {},
   "outputs": [],
   "source": [
    "(8+4)/2==6"
   ]
  },
  {
   "cell_type": "code",
   "execution_count": null,
   "id": "02d8e309",
   "metadata": {},
   "outputs": [],
   "source": [
    "8+4/2==6\n"
   ]
  },
  {
   "cell_type": "code",
   "execution_count": null,
   "id": "0e5cb579",
   "metadata": {},
   "outputs": [],
   "source": [
    "x = int(input(\"value of x\"))\n",
    "y = int(input(\"value of y\"))\n",
    "z = int(input(\"value of z\"))\n",
    "\n",
    "if x>y:\n",
    "    if x>z:\n",
    "        print(\"x>y>z\")\n",
    "    else:\n",
    "        print(\"y<x<z\")\n",
    "if x==y:\n",
    "    if x>z:\n",
    "        print(\"y==x>z\")\n",
    "    else:\n",
    "        print(\"y==x<z\")\n",
    "if x<y:\n",
    "    if x>z:\n",
    "        print(\"y>x>z\")\n",
    "    else:\n",
    "        print(\"y>x<z\")\n"
   ]
  },
  {
   "cell_type": "markdown",
   "id": "2445fe74",
   "metadata": {},
   "source": [
    "<font size = 7># *Iterable statement*"
   ]
  },
  {
   "cell_type": "markdown",
   "id": "6faec396",
   "metadata": {},
   "source": [
    "# *LOOPS*\n",
    "* Loops are used to execute a block of code repeatedly.\n",
    "\n",
    "# *For Loop*:\n",
    "<font size =3>* The for loop **iterates** over an **iterable object.**\n",
    "1. for loops are used when you have a **block of code** which you want to reapeat a **fixed number of times.**\n",
    "2. for loops are also used to perform the **same set of operations** for each item in an iterable.\n",
    "3. Thus,for loops reduce the code complexity and saves time."
   ]
  },
  {
   "cell_type": "code",
   "execution_count": null,
   "id": "766dbc10",
   "metadata": {},
   "outputs": [],
   "source": [
    "# end \n",
    "print(\"hello\",end=' ') # we can write anything in this end it will just give ouput with it\n",
    "print(\"python\")"
   ]
  },
  {
   "cell_type": "markdown",
   "id": "94116d84",
   "metadata": {},
   "source": [
    "# Transfer Statement"
   ]
  },
  {
   "cell_type": "markdown",
   "id": "3eb2c3b0",
   "metadata": {},
   "source": [
    "# break\n",
    "* The break statement is used to terminate the loop instantly when it is encountered. "
   ]
  },
  {
   "cell_type": "code",
   "execution_count": 2,
   "id": "06aab626",
   "metadata": {},
   "outputs": [
    {
     "name": "stdout",
     "output_type": "stream",
     "text": [
      "1\n",
      "2\n",
      "3\n"
     ]
    }
   ],
   "source": [
    "for x in range (1,5):\n",
    "    if x>3:\n",
    "        break\n",
    "    print(x)    "
   ]
  },
  {
   "cell_type": "code",
   "execution_count": 3,
   "id": "ef5939fa",
   "metadata": {},
   "outputs": [
    {
     "name": "stdout",
     "output_type": "stream",
     "text": [
      "0\n",
      "1\n",
      "2\n",
      "i am breaking it\n",
      "0\n",
      "1\n",
      "2\n",
      "i am breaking it\n",
      "0\n",
      "1\n",
      "2\n",
      "i am breaking it\n"
     ]
    }
   ],
   "source": [
    "# here it breaks the innermost loop\n",
    "for x in range(3):\n",
    "    for y in range(4):\n",
    "        if y>2:\n",
    "            print(\"i am breaking it\")\n",
    "            break\n",
    "        print(y)  "
   ]
  },
  {
   "cell_type": "code",
   "execution_count": 1,
   "id": "7e0c1c6f",
   "metadata": {},
   "outputs": [
    {
     "name": "stdout",
     "output_type": "stream",
     "text": [
      "i am breaking it\n",
      "3\n",
      "i am breaking it\n",
      "3\n",
      "i am breaking it\n",
      "3\n",
      "i am breaking it\n",
      "3\n",
      "i am breaking it\n",
      "3\n",
      "i am breaking it\n",
      "3\n",
      "i am breaking it\n",
      "3\n",
      "i am breaking it\n",
      "3\n",
      "i am breaking it\n",
      "3\n",
      "i am breaking it\n",
      "3\n",
      "i am breaking it\n",
      "3\n",
      "i am breaking it\n",
      "3\n"
     ]
    }
   ],
   "source": [
    "for x in range(3):\n",
    "    for y in range(4):\n",
    "        for z in range(5):\n",
    "            if z>2:\n",
    "                print(\"i am breaking it\")\n",
    "                break\n",
    "        print(z)    "
   ]
  },
  {
   "cell_type": "code",
   "execution_count": 1,
   "id": "52b096ab",
   "metadata": {},
   "outputs": [
    {
     "name": "stdout",
     "output_type": "stream",
     "text": [
      "0\n",
      "1\n",
      "2\n",
      "i am breaking it\n",
      "0\n",
      "1\n",
      "2\n",
      "i am breaking it\n",
      "0\n",
      "1\n",
      "2\n",
      "i am breaking it\n",
      "0\n",
      "1\n",
      "2\n",
      "i am breaking it\n",
      "0\n",
      "1\n",
      "2\n",
      "i am breaking it\n",
      "0\n",
      "1\n",
      "2\n",
      "i am breaking it\n",
      "0\n",
      "1\n",
      "2\n",
      "i am breaking it\n",
      "0\n",
      "1\n",
      "2\n",
      "i am breaking it\n",
      "0\n",
      "1\n",
      "2\n",
      "i am breaking it\n",
      "0\n",
      "1\n",
      "2\n",
      "i am breaking it\n",
      "0\n",
      "1\n",
      "2\n",
      "i am breaking it\n",
      "0\n",
      "1\n",
      "2\n",
      "i am breaking it\n"
     ]
    }
   ],
   "source": [
    "for x in range(3):\n",
    "    for y in range(4):\n",
    "        for z in range(5):\n",
    "            if z>2:\n",
    "                print(\"i am breaking it\")\n",
    "                break\n",
    "            print(z)    "
   ]
  },
  {
   "cell_type": "markdown",
   "id": "9de77fc2",
   "metadata": {},
   "source": [
    "# Continue"
   ]
  },
  {
   "cell_type": "markdown",
   "id": "02108794",
   "metadata": {},
   "source": [
    "* The continue statement skips the current iteration of the loop and jumps to the next iteration."
   ]
  },
  {
   "cell_type": "code",
   "execution_count": 3,
   "id": "d0c34df1",
   "metadata": {},
   "outputs": [
    {
     "name": "stdout",
     "output_type": "stream",
     "text": [
      "1\n",
      "python\n",
      "2\n",
      "python\n",
      "4\n",
      "python\n"
     ]
    }
   ],
   "source": [
    "for x in {1,2,3,4}:\n",
    "    if x==3:\n",
    "        continue\n",
    "    print(x)\n",
    "    print('python')"
   ]
  },
  {
   "cell_type": "code",
   "execution_count": 4,
   "id": "58aed884",
   "metadata": {},
   "outputs": [
    {
     "name": "stdout",
     "output_type": "stream",
     "text": [
      "1\n",
      "2\n",
      "3\n",
      "4\n"
     ]
    }
   ],
   "source": [
    "for x in {1,2,3,4}:\n",
    "    print(x)"
   ]
  },
  {
   "cell_type": "code",
   "execution_count": 6,
   "id": "c41c78aa",
   "metadata": {},
   "outputs": [
    {
     "name": "stdout",
     "output_type": "stream",
     "text": [
      "0\n",
      "1\n",
      "2\n",
      "3\n",
      "4\n"
     ]
    }
   ],
   "source": [
    "for x in range(5):\n",
    "    print(x)\n",
    "    continue\n",
    "    print(x+1)    "
   ]
  },
  {
   "cell_type": "code",
   "execution_count": 9,
   "id": "ce23addf",
   "metadata": {},
   "outputs": [
    {
     "name": "stdout",
     "output_type": "stream",
     "text": [
      "4\n"
     ]
    }
   ],
   "source": [
    "for x in range(5):\n",
    "    continue\n",
    "print(x)"
   ]
  },
  {
   "cell_type": "markdown",
   "id": "06c4ffad",
   "metadata": {},
   "source": [
    "# Pass"
   ]
  },
  {
   "cell_type": "markdown",
   "id": "723ddb46",
   "metadata": {},
   "source": [
    "* The pass statement does nothing.It is used to create an empty block that may be useful inn the future ,also they are used to make an empty loop or any block of code"
   ]
  },
  {
   "cell_type": "code",
   "execution_count": 11,
   "id": "77e58372",
   "metadata": {},
   "outputs": [],
   "source": [
    "for x in range(10):\n",
    "    pass"
   ]
  },
  {
   "cell_type": "code",
   "execution_count": 12,
   "id": "e97f7395",
   "metadata": {},
   "outputs": [],
   "source": [
    "for t in range(4):\n",
    "    continue"
   ]
  },
  {
   "cell_type": "code",
   "execution_count": 14,
   "id": "859c4502",
   "metadata": {},
   "outputs": [
    {
     "name": "stdout",
     "output_type": "stream",
     "text": [
      "hello\n",
      "hello\n",
      "hello\n",
      "hello\n",
      "hello\n"
     ]
    }
   ],
   "source": [
    "for x in range(5):\n",
    "    pass\n",
    "    print(\"hello\")"
   ]
  },
  {
   "cell_type": "code",
   "execution_count": 15,
   "id": "d98e8243",
   "metadata": {},
   "outputs": [],
   "source": [
    "for t in range(4):\n",
    "    continue\n",
    "    print('big data')"
   ]
  },
  {
   "cell_type": "code",
   "execution_count": 16,
   "id": "3515fd31",
   "metadata": {},
   "outputs": [
    {
     "name": "stdout",
     "output_type": "stream",
     "text": [
      "0\n",
      "1\n",
      "2\n",
      "3\n"
     ]
    }
   ],
   "source": [
    "for q in range(4):\n",
    "    if q==3:\n",
    "        pass\n",
    "    print(q)"
   ]
  },
  {
   "cell_type": "code",
   "execution_count": 17,
   "id": "9545f471",
   "metadata": {},
   "outputs": [
    {
     "name": "stdout",
     "output_type": "stream",
     "text": [
      "0\n",
      "1\n",
      "2\n"
     ]
    }
   ],
   "source": [
    "for q in range(4):\n",
    "    if q==3:\n",
    "        continue\n",
    "    print(q)"
   ]
  },
  {
   "cell_type": "code",
   "execution_count": 18,
   "id": "92250625",
   "metadata": {},
   "outputs": [
    {
     "name": "stdout",
     "output_type": "stream",
     "text": [
      "xyz\n"
     ]
    }
   ],
   "source": [
    "y=6\n",
    "if y>4:\n",
    "    pass\n",
    "print(\"xyz\")"
   ]
  },
  {
   "cell_type": "code",
   "execution_count": 19,
   "id": "92c3d4f4",
   "metadata": {},
   "outputs": [
    {
     "ename": "SyntaxError",
     "evalue": "'continue' not properly in loop (383200907.py, line 3)",
     "output_type": "error",
     "traceback": [
      "\u001b[1;36m  Cell \u001b[1;32mIn[19], line 3\u001b[1;36m\u001b[0m\n\u001b[1;33m    continue\u001b[0m\n\u001b[1;37m    ^\u001b[0m\n\u001b[1;31mSyntaxError\u001b[0m\u001b[1;31m:\u001b[0m 'continue' not properly in loop\n"
     ]
    }
   ],
   "source": [
    "y=6\n",
    "if y>4:\n",
    "    continue\n",
    "print(\"xyz\")"
   ]
  },
  {
   "cell_type": "code",
   "execution_count": 20,
   "id": "9ee74c82",
   "metadata": {},
   "outputs": [
    {
     "ename": "SyntaxError",
     "evalue": "'break' outside loop (376727389.py, line 3)",
     "output_type": "error",
     "traceback": [
      "\u001b[1;36m  Cell \u001b[1;32mIn[20], line 3\u001b[1;36m\u001b[0m\n\u001b[1;33m    break\u001b[0m\n\u001b[1;37m    ^\u001b[0m\n\u001b[1;31mSyntaxError\u001b[0m\u001b[1;31m:\u001b[0m 'break' outside loop\n"
     ]
    }
   ],
   "source": [
    "y=6\n",
    "if y>4:\n",
    "    break\n",
    "print(\"xyz\")"
   ]
  },
  {
   "cell_type": "code",
   "execution_count": null,
   "id": "89150399",
   "metadata": {},
   "outputs": [],
   "source": []
  }
 ],
 "metadata": {
  "kernelspec": {
   "display_name": "Python 3 (ipykernel)",
   "language": "python",
   "name": "python3"
  },
  "language_info": {
   "codemirror_mode": {
    "name": "ipython",
    "version": 3
   },
   "file_extension": ".py",
   "mimetype": "text/x-python",
   "name": "python",
   "nbconvert_exporter": "python",
   "pygments_lexer": "ipython3",
   "version": "3.10.9"
  }
 },
 "nbformat": 4,
 "nbformat_minor": 5
}
