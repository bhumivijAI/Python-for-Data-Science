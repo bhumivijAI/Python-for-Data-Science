{
 "cells": [
  {
   "cell_type": "markdown",
   "id": "13b6e93b",
   "metadata": {},
   "source": [
    "BNDF"
   ]
  },
  {
   "cell_type": "code",
   "execution_count": null,
   "id": "a7496cae",
   "metadata": {},
   "outputs": [],
   "source": [
    "eval = isme humko type cast krne ki zarurat ni pdti vo khud hi cast kr deta  h "
   ]
  },
  {
   "cell_type": "code",
   "execution_count": null,
   "id": "d634284a",
   "metadata": {},
   "outputs": [],
   "source": [
    "x = eval(input())   # pr humko isme jis type ka cahiye tho uss hi type mai input dena padega.\n",
    "print(x)\n",
    "type(x)\n"
   ]
  },
  {
   "cell_type": "code",
   "execution_count": null,
   "id": "51fe6d47",
   "metadata": {},
   "outputs": [],
   "source": []
  },
  {
   "cell_type": "code",
   "execution_count": null,
   "id": "5d46aae2",
   "metadata": {},
   "outputs": [],
   "source": []
  }
 ],
 "metadata": {
  "kernelspec": {
   "display_name": "Python 3 (ipykernel)",
   "language": "python",
   "name": "python3"
  },
  "language_info": {
   "codemirror_mode": {
    "name": "ipython",
    "version": 3
   },
   "file_extension": ".py",
   "mimetype": "text/x-python",
   "name": "python",
   "nbconvert_exporter": "python",
   "pygments_lexer": "ipython3",
   "version": "3.10.9"
  }
 },
 "nbformat": 4,
 "nbformat_minor": 5
}
