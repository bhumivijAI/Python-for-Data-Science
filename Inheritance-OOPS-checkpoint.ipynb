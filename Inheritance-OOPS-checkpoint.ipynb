{
 "cells": [
  {
   "cell_type": "markdown",
   "id": "b12044a4",
   "metadata": {},
   "source": [
    "<font size = 4>Process of inheriting the properties of the parent class inta a child class is called Inheritance."
   ]
  },
  {
   "cell_type": "markdown",
   "id": "600d7d21",
   "metadata": {},
   "source": [
    "<font size = 4>The child class acquries all the attributes and methods from the parent class .Also, a child class can provide its specific implementation to the methods of the parent class.\n"
   ]
  },
  {
   "cell_type": "code",
   "execution_count": 3,
   "id": "844619c6",
   "metadata": {},
   "outputs": [],
   "source": [
    "class ParentClass:\n",
    "    pass\n",
    "class ChildClass(ParentClass):\n",
    "    pass"
   ]
  },
  {
   "cell_type": "markdown",
   "id": "6cf68f20",
   "metadata": {},
   "source": [
    "\n",
    "# Types of Inheritance\n",
    "<font size = 4>1. Single Inheritance<br>\n",
    "2. Multiple Inheritance<br>\n",
    "3. Multilevel Inheritance<br>\n",
    "4. Hierachical Inheritance<br>\n",
    "5. Hybrid Inheritance<br>\n",
    "    "
   ]
  },
  {
   "cell_type": "code",
   "execution_count": 5,
   "id": "65baf3cd",
   "metadata": {},
   "outputs": [],
   "source": [
    "class employee:    # make the inheriting \n",
    "    def __init__(self,name,age,gender,id):\n",
    "        self.name = name\n",
    "        self.age = age \n",
    "        self.gender = gender\n",
    "        self.id = id\n",
    "        \n",
    "        \n",
    "class Programmer(employee):\n",
    "    def set_prog_lang(self,prog_lang):\n",
    "        self.prog_lang = prog_lang\n",
    "        \n",
    "        \n",
    "        \n",
    "class Manager(employee):\n",
    "    def set_domain(self,domain):\n",
    "        self.domain = domain\n",
    "        \n",
    "        "
   ]
  },
  {
   "cell_type": "code",
   "execution_count": 6,
   "id": "8393e4e2",
   "metadata": {},
   "outputs": [],
   "source": [
    "mang1 = employee(\"abc\",\"34\",\"male\",\"2345\")"
   ]
  },
  {
   "cell_type": "code",
   "execution_count": 11,
   "id": "7eff75ff",
   "metadata": {},
   "outputs": [
    {
     "ename": "TypeError",
     "evalue": "employee.__init__() missing 3 required positional arguments: 'age', 'gender', and 'id'",
     "output_type": "error",
     "traceback": [
      "\u001b[1;31m---------------------------------------------------------------------------\u001b[0m",
      "\u001b[1;31mTypeError\u001b[0m                                 Traceback (most recent call last)",
      "Cell \u001b[1;32mIn[11], line 1\u001b[0m\n\u001b[1;32m----> 1\u001b[0m prog_lang \u001b[38;5;241m=\u001b[39m \u001b[43memployee\u001b[49m\u001b[43m(\u001b[49m\u001b[38;5;124;43m\"\u001b[39;49m\u001b[38;5;124;43mjava\u001b[39;49m\u001b[38;5;124;43m\"\u001b[39;49m\u001b[43m)\u001b[49m\n",
      "\u001b[1;31mTypeError\u001b[0m: employee.__init__() missing 3 required positional arguments: 'age', 'gender', and 'id'"
     ]
    }
   ],
   "source": [
    "prog_lang = employee(\"java\")"
   ]
  },
  {
   "cell_type": "code",
   "execution_count": 12,
   "id": "6948b42b",
   "metadata": {},
   "outputs": [
    {
     "ename": "AttributeError",
     "evalue": "'employee' object has no attribute 'prog_lang'",
     "output_type": "error",
     "traceback": [
      "\u001b[1;31m---------------------------------------------------------------------------\u001b[0m",
      "\u001b[1;31mAttributeError\u001b[0m                            Traceback (most recent call last)",
      "Cell \u001b[1;32mIn[12], line 1\u001b[0m\n\u001b[1;32m----> 1\u001b[0m \u001b[43mmang1\u001b[49m\u001b[38;5;241;43m.\u001b[39;49m\u001b[43mprog_lang\u001b[49m\n",
      "\u001b[1;31mAttributeError\u001b[0m: 'employee' object has no attribute 'prog_lang'"
     ]
    }
   ],
   "source": [
    "mang1.prog_lang"
   ]
  },
  {
   "cell_type": "code",
   "execution_count": 4,
   "id": "41f05369",
   "metadata": {},
   "outputs": [
    {
     "name": "stdout",
     "output_type": "stream",
     "text": [
      "Inside Vehicle class\n",
      "Inside car class\n"
     ]
    }
   ],
   "source": [
    "# single inheritance\n",
    "\n",
    "# Parent class\n",
    "\n",
    "class Vehicle:\n",
    "    \n",
    "    def Vehicle_info(self):\n",
    "        print(\"Inside Vehicle class\")\n",
    "        \n",
    "# child class\n",
    "\n",
    "class Car(Vehicle):\n",
    "    \n",
    "    def car_info(self):\n",
    "        print(\"Inside car class\")\n",
    "        \n",
    "        \n",
    "car = Car()\n",
    "car.Vehicle_info()\n",
    "car.car_info()"
   ]
  },
  {
   "cell_type": "code",
   "execution_count": 15,
   "id": "a0a1f21b",
   "metadata": {},
   "outputs": [
    {
     "name": "stdout",
     "output_type": "stream",
     "text": [
      "Mercedes Benz\n"
     ]
    },
    {
     "ename": "AttributeError",
     "evalue": "'Vehicle' object has no attribute 'car_info'",
     "output_type": "error",
     "traceback": [
      "\u001b[1;31m---------------------------------------------------------------------------\u001b[0m",
      "\u001b[1;31mAttributeError\u001b[0m                            Traceback (most recent call last)",
      "Cell \u001b[1;32mIn[15], line 2\u001b[0m\n\u001b[0;32m      1\u001b[0m vehi \u001b[38;5;241m=\u001b[39m Vehicle()       \u001b[38;5;66;03m# parent class has no access of child class attributes,\u001b[39;00m\n\u001b[1;32m----> 2\u001b[0m \u001b[43mvehi\u001b[49m\u001b[38;5;241;43m.\u001b[39;49m\u001b[43mcar_info\u001b[49m()\n",
      "\u001b[1;31mAttributeError\u001b[0m: 'Vehicle' object has no attribute 'car_info'"
     ]
    }
   ],
   "source": [
    "vehi = Vehicle()       # parent class has no access of child class attributes,\n",
    "vehi.car_info()        # whereas child class has the full access to the parent class."
   ]
  },
  {
   "cell_type": "code",
   "execution_count": 16,
   "id": "6166aecd",
   "metadata": {},
   "outputs": [
    {
     "name": "stdout",
     "output_type": "stream",
     "text": [
      "supra\n",
      "Inside Vehicle class\n",
      "Inside car class\n"
     ]
    }
   ],
   "source": [
    "# Parent class\n",
    "\n",
    "class Vehicle(Car):\n",
    "    \n",
    "    def Vehicle_info(self):\n",
    "        print(\"Inside Vehicle class\")\n",
    "        \n",
    "# child class\n",
    "\n",
    "class Car(Vehicle):\n",
    "    \n",
    "    def car_info(self):\n",
    "        print(\"Inside car class\")\n",
    "        \n",
    "        \n",
    "car = Car()\n",
    "car.Vehicle_info()\n",
    "car.car_info()"
   ]
  },
  {
   "cell_type": "code",
   "execution_count": 17,
   "id": "0485af15",
   "metadata": {},
   "outputs": [
    {
     "name": "stdout",
     "output_type": "stream",
     "text": [
      "supra\n"
     ]
    },
    {
     "ename": "AttributeError",
     "evalue": "'Vehicle' object has no attribute 'car_info'",
     "output_type": "error",
     "traceback": [
      "\u001b[1;31m---------------------------------------------------------------------------\u001b[0m",
      "\u001b[1;31mAttributeError\u001b[0m                            Traceback (most recent call last)",
      "Cell \u001b[1;32mIn[17], line 2\u001b[0m\n\u001b[0;32m      1\u001b[0m vehi \u001b[38;5;241m=\u001b[39m Vehicle()       \u001b[38;5;66;03m# parent class has no access of child class attributes.\u001b[39;00m\n\u001b[1;32m----> 2\u001b[0m \u001b[43mvehi\u001b[49m\u001b[38;5;241;43m.\u001b[39;49m\u001b[43mcar_info\u001b[49m()\n",
      "\u001b[1;31mAttributeError\u001b[0m: 'Vehicle' object has no attribute 'car_info'"
     ]
    }
   ],
   "source": [
    "vehi = Vehicle()       # parent class has no access of child class attributes.\n",
    "vehi.car_info()"
   ]
  },
  {
   "cell_type": "code",
   "execution_count": 18,
   "id": "d4572bf9",
   "metadata": {},
   "outputs": [
    {
     "name": "stdout",
     "output_type": "stream",
     "text": [
      "Mercedes Benz\n"
     ]
    },
    {
     "data": {
      "text/plain": [
       "'Mercedes Benz'"
      ]
     },
     "execution_count": 18,
     "metadata": {},
     "output_type": "execute_result"
    }
   ],
   "source": [
    "\n",
    "class Vehicle:\n",
    "    \n",
    "    def __init__(self):\n",
    "        self.brand = \"Mercedes Benz\"\n",
    "        print(self.brand)\n",
    "    \n",
    "    def Vehicle_info(self):\n",
    "        print(\"Inside Vehicle class\")\n",
    "        \n",
    "# child class\n",
    "\n",
    "class Car(Vehicle):\n",
    "    \n",
    "    def car_info(self):\n",
    "        print(\"Inside car class\")\n",
    "        \n",
    "        \n",
    "car = Car()\n",
    "car.brand"
   ]
  },
  {
   "cell_type": "code",
   "execution_count": 14,
   "id": "77b2d577",
   "metadata": {},
   "outputs": [
    {
     "name": "stdout",
     "output_type": "stream",
     "text": [
      "supra\n"
     ]
    },
    {
     "data": {
      "text/plain": [
       "'supra'"
      ]
     },
     "execution_count": 14,
     "metadata": {},
     "output_type": "execute_result"
    }
   ],
   "source": [
    "\n",
    "class Car:\n",
    "    \n",
    "    def __init__(self):\n",
    "        self.brand = \"supra\"\n",
    "        print(self.brand)\n",
    "        \n",
    "       \n",
    "car = Car()\n",
    "car.brand"
   ]
  },
  {
   "cell_type": "code",
   "execution_count": 2,
   "id": "7644602b",
   "metadata": {},
   "outputs": [
    {
     "name": "stdout",
     "output_type": "stream",
     "text": [
      "black\n"
     ]
    },
    {
     "ename": "AttributeError",
     "evalue": "'Car' object has no attribute 'brand'",
     "output_type": "error",
     "traceback": [
      "\u001b[1;31m---------------------------------------------------------------------------\u001b[0m",
      "\u001b[1;31mAttributeError\u001b[0m                            Traceback (most recent call last)",
      "Cell \u001b[1;32mIn[2], line 23\u001b[0m\n\u001b[0;32m     19\u001b[0m         \u001b[38;5;28mprint\u001b[39m(\u001b[38;5;124m\"\u001b[39m\u001b[38;5;124mInside car class\u001b[39m\u001b[38;5;124m\"\u001b[39m)\n\u001b[0;32m     22\u001b[0m car \u001b[38;5;241m=\u001b[39m Car()\n\u001b[1;32m---> 23\u001b[0m \u001b[43mcar\u001b[49m\u001b[38;5;241;43m.\u001b[39;49m\u001b[43mbrand\u001b[49m\n\u001b[0;32m     24\u001b[0m car\u001b[38;5;241m.\u001b[39mcolour\n",
      "\u001b[1;31mAttributeError\u001b[0m: 'Car' object has no attribute 'brand'"
     ]
    }
   ],
   "source": [
    "class Vehicle:\n",
    "    \n",
    "    def __init__(self):\n",
    "        self.brand = \"Mercedes Benz\"\n",
    "        print(self.brand)\n",
    "    \n",
    "    def Vehicle_info(self):\n",
    "        print(\"Inside Vehicle class\")\n",
    "        \n",
    "# child class\n",
    "\n",
    "class Car(Vehicle):\n",
    "    \n",
    "    def __init__(self):\n",
    "        self.colour = \"black\"\n",
    "        print(self.colour)\n",
    "    \n",
    "    def car_info(self):\n",
    "        print(\"Inside car class\")\n",
    "        \n",
    "        \n",
    "car = Car()\n",
    "car.brand\n",
    "car.colour"
   ]
  },
  {
   "cell_type": "code",
   "execution_count": null,
   "id": "c43c34d6",
   "metadata": {},
   "outputs": [],
   "source": []
  },
  {
   "cell_type": "markdown",
   "id": "4e97fecf",
   "metadata": {},
   "source": [
    "# multilevel inheritance"
   ]
  },
  {
   "cell_type": "code",
   "execution_count": 3,
   "id": "6c0b22a2",
   "metadata": {},
   "outputs": [
    {
     "name": "stdout",
     "output_type": "stream",
     "text": [
      "Inside Vehicle class\n",
      "Inside car class\n",
      "Inside car class\n",
      "Inside Vehicle class\n",
      "Inside truck class\n",
      "Inside car class\n",
      "Inside Vehicle class\n"
     ]
    }
   ],
   "source": [
    "# multilevel inheritance\n",
    "\n",
    "class Vehicle:\n",
    "    \n",
    "    def Vehicle_info(self):\n",
    "        print(\"Inside Vehicle class\")\n",
    "        \n",
    "# child class\n",
    "\n",
    "class Car(Vehicle):\n",
    "    \n",
    "    def car_info(self):\n",
    "        print(\"Inside car class\")\n",
    "        \n",
    "        \n",
    "class truck(Car):\n",
    "    \n",
    "    def truck_info(self):\n",
    "        print(\"Inside truck class\")\n",
    "        \n",
    "        \n",
    "class bike(truck):\n",
    "    \n",
    "    def bike_info(self):\n",
    "        print(\"Inside bike class\")\n",
    "        \n",
    "        \n",
    "        \n",
    "car = Car()\n",
    "car.Vehicle_info()\n",
    "car.car_info()\n",
    "\n",
    "Trk = truck()\n",
    "Trk.car_info()\n",
    "Trk.Vehicle_info()\n",
    "\n",
    "Bike = bike()\n",
    "Bike.truck_info()\n",
    "Bike.car_info()\n",
    "Bike.Vehicle_info()"
   ]
  },
  {
   "cell_type": "markdown",
   "id": "7fcab835",
   "metadata": {},
   "source": [
    "# Multiple Inheritance"
   ]
  },
  {
   "cell_type": "code",
   "execution_count": 4,
   "id": "56f43ba6",
   "metadata": {},
   "outputs": [
    {
     "name": "stdout",
     "output_type": "stream",
     "text": [
      "Inside parent class 1\n",
      "Inside parent class 2\n",
      "Inside parent class 3\n"
     ]
    }
   ],
   "source": [
    "# parent class\n",
    "\n",
    "class Accleration:\n",
    "    \n",
    "    def acclerate_info(self):\n",
    "        print(\"Inside parent class 1\")\n",
    "        \n",
    "class Break:\n",
    "    \n",
    "    def break_info(self):\n",
    "        print(\"Inside parent class 2\")\n",
    "        \n",
    "class Wheel:\n",
    "    \n",
    "    def wheel_info(self):\n",
    "        print(\"Inside parent class 3\")\n",
    "        \n",
    "# child class        \n",
    "        \n",
    "class Vehical(Accleration,Break,Wheel):\n",
    "    \n",
    "    def vehical_info(self):\n",
    "        print(\"Inside child class\")\n",
    "        \n",
    "vehi = Vehical()\n",
    "vehi.acclerate_info()\n",
    "vehi.break_info()\n",
    "vehi.wheel_info()"
   ]
  },
  {
   "cell_type": "markdown",
   "id": "2dc30e3c",
   "metadata": {},
   "source": [
    "# Hierarchial Inheritance"
   ]
  },
  {
   "cell_type": "code",
   "execution_count": 5,
   "id": "fefae211",
   "metadata": {},
   "outputs": [
    {
     "ename": "AttributeError",
     "evalue": "'Vehicle' object has no attribute 'truck_info'",
     "output_type": "error",
     "traceback": [
      "\u001b[1;31m---------------------------------------------------------------------------\u001b[0m",
      "\u001b[1;31mAttributeError\u001b[0m                            Traceback (most recent call last)",
      "Cell \u001b[1;32mIn[5], line 49\u001b[0m\n\u001b[0;32m     45\u001b[0m         \u001b[38;5;28mprint\u001b[39m(\u001b[38;5;124m\"\u001b[39m\u001b[38;5;124mInside child class 3 [child4]\u001b[39m\u001b[38;5;124m\"\u001b[39m)\n\u001b[0;32m     48\u001b[0m vehi \u001b[38;5;241m=\u001b[39m Vehicle()\n\u001b[1;32m---> 49\u001b[0m \u001b[43mvehi\u001b[49m\u001b[38;5;241;43m.\u001b[39;49m\u001b[43mtruck_info\u001b[49m()\n\u001b[0;32m     50\u001b[0m vehi\u001b[38;5;241m.\u001b[39mbike_info()\n\u001b[0;32m     51\u001b[0m vehi\u001b[38;5;241m.\u001b[39mcar_info()\n",
      "\u001b[1;31mAttributeError\u001b[0m: 'Vehicle' object has no attribute 'truck_info'"
     ]
    }
   ],
   "source": [
    "# parent class\n",
    "\n",
    "class Vehical:\n",
    "    \n",
    "    def Vehicle_info(self):\n",
    "        print(\"Inside parent class\")\n",
    "        \n",
    "# child classes\n",
    "\n",
    "class Car(Vehicle):\n",
    "    \n",
    "    def car_info(self):\n",
    "        print(\"Inside child class 1\")\n",
    "        \n",
    "        \n",
    "class BMW(Car):\n",
    "    \n",
    "    def bmw_info(self):\n",
    "        print(\"Inside child class 1 [child1]\")\n",
    "\n",
    "        \n",
    "    def mercedes_info(self):\n",
    "        print(\"Inside child class 1 [child2]\")\n",
    "        \n",
    "        \n",
    "class truck(Vehicle):\n",
    "    \n",
    "    def truck_info(self):\n",
    "        print(\"Inside child class 2\")\n",
    "        \n",
    "class lamborgini(truck):\n",
    "    \n",
    "    def lamborgini_info(self):\n",
    "        print(\"Inside child class 2[child 3]\")\n",
    "     \n",
    "        \n",
    "class bike(Vehicle):\n",
    "    \n",
    "    def bike_info(self):\n",
    "        print(\"Inside child class 3\")\n",
    "        \n",
    "class ninja(bike):\n",
    "    \n",
    "    def ninja_info(self):\n",
    "        print(\"Inside child class 3 [child4]\")\n",
    "        \n",
    "        \n",
    "vehi = Vehicle()\n",
    "vehi.truck_info()\n",
    "vehi.bike_info()\n",
    "vehi.car_info()\n",
    "        "
   ]
  },
  {
   "cell_type": "code",
   "execution_count": null,
   "id": "b28bcb67",
   "metadata": {},
   "outputs": [],
   "source": []
  }
 ],
 "metadata": {
  "kernelspec": {
   "display_name": "Python 3 (ipykernel)",
   "language": "python",
   "name": "python3"
  },
  "language_info": {
   "codemirror_mode": {
    "name": "ipython",
    "version": 3
   },
   "file_extension": ".py",
   "mimetype": "text/x-python",
   "name": "python",
   "nbconvert_exporter": "python",
   "pygments_lexer": "ipython3",
   "version": "3.10.9"
  }
 },
 "nbformat": 4,
 "nbformat_minor": 5
}
