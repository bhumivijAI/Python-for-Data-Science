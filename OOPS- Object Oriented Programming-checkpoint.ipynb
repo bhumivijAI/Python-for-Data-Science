{
 "cells": [
  {
   "cell_type": "markdown",
   "id": "c2e2bde8",
   "metadata": {},
   "source": [
    "# Class And Objects"
   ]
  },
  {
   "cell_type": "markdown",
   "id": "158afa61",
   "metadata": {},
   "source": [
    "* Every thing in python is an **object**."
   ]
  },
  {
   "cell_type": "markdown",
   "id": "65f580be",
   "metadata": {},
   "source": [
    "* Every object has the following properties:\n",
    " 1. Identity : Every object must be uniquly identified.\n",
    " 2. State : An object has attributes that represent the state of an object,\n",
    " 3. Behavior : An object has methods that represent its behavior."
   ]
  },
  {
   "cell_type": "markdown",
   "id": "b724865f",
   "metadata": {},
   "source": [
    "* Object is an **instance** of class."
   ]
  },
  {
   "cell_type": "markdown",
   "id": "4e6f0ca3",
   "metadata": {},
   "source": [
    "* Class is an **buleprint** or code template for object creation . Using a class, you can create as many objects as you want."
   ]
  },
  {
   "cell_type": "code",
   "execution_count": 7,
   "id": "a0c4bfbf",
   "metadata": {},
   "outputs": [
    {
     "data": {
      "text/plain": [
       "'This is a docstring . I have created a class.'"
      ]
     },
     "execution_count": 7,
     "metadata": {},
     "output_type": "execute_result"
    }
   ],
   "source": [
    "# Creating a class\n",
    "class class_name:\n",
    "    \"\"\"This is a docstring . I have created a class.\"\"\"\n",
    "    \n",
    "class_name.__doc__    "
   ]
  },
  {
   "cell_type": "code",
   "execution_count": 8,
   "id": "141e0ae7",
   "metadata": {},
   "outputs": [],
   "source": [
    "# when we create a function under an class it wil be an method."
   ]
  },
  {
   "cell_type": "code",
   "execution_count": 25,
   "id": "c645e57d",
   "metadata": {},
   "outputs": [],
   "source": [
    "# Define a class\n",
    "class Person:\n",
    "    def __init__(self,name,gender,profession):\n",
    "        # State(attributes - variables)\n",
    "        self.name_ = name\n",
    "        self.gender_ = gender\n",
    "        self.profession_ = profession\n",
    "        \n",
    "        \n",
    "    \n",
    "    # Behaviour( methods )\n",
    "    def show(self):\n",
    "        print(\"Name :\" , self.name_, \"Gender:\", self.gender_,\"Profession:\", self.profession_)\n",
    "        \n",
    "    def work(self):\n",
    "        print(self.name_,\"is working as a \", self.profession_)"
   ]
  },
  {
   "cell_type": "code",
   "execution_count": 26,
   "id": "b119a578",
   "metadata": {},
   "outputs": [],
   "source": [
    "# here the object(Person) was passing itself in the function as an first argument, \n",
    "# from it self is having the argument person in it.\n"
   ]
  },
  {
   "cell_type": "code",
   "execution_count": 27,
   "id": "606f77e0",
   "metadata": {},
   "outputs": [],
   "source": [
    "# Object Creation\n",
    "\n",
    "ram = Person(\"ram\",\"male\",\"software developer\")\n",
    "shyam = Person(\"shyam\",\"male\",\"data scientist\")"
   ]
  },
  {
   "cell_type": "code",
   "execution_count": 28,
   "id": "be1f172f",
   "metadata": {},
   "outputs": [
    {
     "data": {
      "text/plain": [
       "<__main__.Person at 0x2d155e7a800>"
      ]
     },
     "execution_count": 28,
     "metadata": {},
     "output_type": "execute_result"
    }
   ],
   "source": [
    " Person(\"ram\",\"male\",\"software developer\")"
   ]
  },
  {
   "cell_type": "code",
   "execution_count": 29,
   "id": "d6afc74e",
   "metadata": {},
   "outputs": [
    {
     "data": {
      "text/plain": [
       "<__main__.Person at 0x2d157581000>"
      ]
     },
     "execution_count": 29,
     "metadata": {},
     "output_type": "execute_result"
    }
   ],
   "source": [
    "Person(\"shyam\",\"male\",\"data science\")"
   ]
  },
  {
   "cell_type": "code",
   "execution_count": 30,
   "id": "9299d560",
   "metadata": {},
   "outputs": [
    {
     "name": "stdout",
     "output_type": "stream",
     "text": [
      "ram\n",
      "male\n",
      "software developer\n"
     ]
    }
   ],
   "source": [
    "# to acess the attribute\n",
    "print(ram.name_)\n",
    "print(ram.gender_)\n",
    "print(ram.profession_)"
   ]
  },
  {
   "cell_type": "code",
   "execution_count": 31,
   "id": "f28e162f",
   "metadata": {},
   "outputs": [
    {
     "name": "stdout",
     "output_type": "stream",
     "text": [
      "15000\n"
     ]
    }
   ],
   "source": [
    "# to make an new attribute\n",
    "ram.salary = 15000\n",
    "print(ram.salary)"
   ]
  },
  {
   "cell_type": "code",
   "execution_count": 32,
   "id": "7632cee5",
   "metadata": {},
   "outputs": [
    {
     "name": "stdout",
     "output_type": "stream",
     "text": [
      "shyam\n",
      "male\n",
      "data scientist\n"
     ]
    }
   ],
   "source": [
    "print(shyam.name_)\n",
    "print(shyam.gender_)\n",
    "print(shyam.profession_)"
   ]
  },
  {
   "cell_type": "code",
   "execution_count": 33,
   "id": "e1dde131",
   "metadata": {},
   "outputs": [
    {
     "name": "stdout",
     "output_type": "stream",
     "text": [
      "Name : ram Gender: male Profession: software developer\n"
     ]
    }
   ],
   "source": [
    "ram.show()"
   ]
  },
  {
   "cell_type": "code",
   "execution_count": 34,
   "id": "adb3ee39",
   "metadata": {},
   "outputs": [
    {
     "name": "stdout",
     "output_type": "stream",
     "text": [
      "Name : shyam Gender: male Profession: data scientist\n"
     ]
    }
   ],
   "source": [
    "shyam.show()"
   ]
  },
  {
   "cell_type": "code",
   "execution_count": 35,
   "id": "8ff89c60",
   "metadata": {},
   "outputs": [
    {
     "name": "stdout",
     "output_type": "stream",
     "text": [
      "shyam is working as a  data scientist\n"
     ]
    }
   ],
   "source": [
    "shyam.work()     "
   ]
  },
  {
   "cell_type": "code",
   "execution_count": null,
   "id": "ddc9752e",
   "metadata": {},
   "outputs": [],
   "source": [
    "# Methods are defined for the object of a particular class whereas functions are not defined fo a particular class."
   ]
  },
  {
   "cell_type": "code",
   "execution_count": 15,
   "id": "fd4961d8",
   "metadata": {},
   "outputs": [],
   "source": [
    "# create many objects,classes,there attributes."
   ]
  },
  {
   "cell_type": "code",
   "execution_count": 9,
   "id": "2e15686c",
   "metadata": {},
   "outputs": [],
   "source": [
    "class Rose:\n",
    "    def __init__(rse,colour,price):\n",
    "        rose.colour = colour\n",
    "        rose.price = price\n",
    "        class rose2:\n",
    "            def __init__(rose2,colour,price):\n",
    "                rose2.colour = colour\n",
    "                rose2.price = price\n",
    "                "
   ]
  },
  {
   "cell_type": "code",
   "execution_count": 10,
   "id": "e0a695eb",
   "metadata": {},
   "outputs": [
    {
     "ename": "TypeError",
     "evalue": "'rose' object is not callable",
     "output_type": "error",
     "traceback": [
      "\u001b[1;31m---------------------------------------------------------------------------\u001b[0m",
      "\u001b[1;31mTypeError\u001b[0m                                 Traceback (most recent call last)",
      "Cell \u001b[1;32mIn[10], line 1\u001b[0m\n\u001b[1;32m----> 1\u001b[0m hld \u001b[38;5;241m=\u001b[39m \u001b[43mrose\u001b[49m\u001b[43m(\u001b[49m\u001b[38;5;124;43m\"\u001b[39;49m\u001b[38;5;124;43mpink\u001b[39;49m\u001b[38;5;124;43m\"\u001b[39;49m\u001b[43m,\u001b[49m\u001b[38;5;124;43m'\u001b[39;49m\u001b[38;5;124;43m780\u001b[39;49m\u001b[38;5;124;43m'\u001b[39;49m\u001b[43m)\u001b[49m\n",
      "\u001b[1;31mTypeError\u001b[0m: 'rose' object is not callable"
     ]
    }
   ],
   "source": [
    "hld = rose(\"pink\",'780')\n",
    "\n"
   ]
  },
  {
   "cell_type": "code",
   "execution_count": 17,
   "id": "d6e279e9",
   "metadata": {},
   "outputs": [],
   "source": [
    "class Rose:\n",
    "    def __init__(rose,colour,price):\n",
    "        rose.colour_ = colour\n",
    "        rose.price_ = price"
   ]
  },
  {
   "cell_type": "code",
   "execution_count": 23,
   "id": "89aaabc1",
   "metadata": {},
   "outputs": [],
   "source": [
    "hld = Rose(\"black\",190)\n"
   ]
  },
  {
   "cell_type": "code",
   "execution_count": 24,
   "id": "826a0906",
   "metadata": {},
   "outputs": [
    {
     "name": "stdout",
     "output_type": "stream",
     "text": [
      "black\n"
     ]
    }
   ],
   "source": [
    "print(hld.colour_)"
   ]
  },
  {
   "cell_type": "code",
   "execution_count": 26,
   "id": "ad57a32e",
   "metadata": {},
   "outputs": [],
   "source": [
    "class Rose:\n",
    "    def __init__(rose,colour,price):\n",
    "        rose.colour_ = colour\n",
    "        rose.price_ = price\n",
    "        class _2rose:\n",
    "            def __init__(_2rose,colour,price):\n",
    "                _2rose._2colour_ = colour2\n",
    "                _2rose._2price_ = price2\n",
    "                "
   ]
  },
  {
   "cell_type": "code",
   "execution_count": 27,
   "id": "13106f6e",
   "metadata": {},
   "outputs": [
    {
     "ename": "NameError",
     "evalue": "name '_2rose' is not defined",
     "output_type": "error",
     "traceback": [
      "\u001b[1;31m---------------------------------------------------------------------------\u001b[0m",
      "\u001b[1;31mNameError\u001b[0m                                 Traceback (most recent call last)",
      "Cell \u001b[1;32mIn[27], line 2\u001b[0m\n\u001b[0;32m      1\u001b[0m hld \u001b[38;5;241m=\u001b[39m Rose(\u001b[38;5;124m\"\u001b[39m\u001b[38;5;124mblack\u001b[39m\u001b[38;5;124m\"\u001b[39m,\u001b[38;5;241m100\u001b[39m)\n\u001b[1;32m----> 2\u001b[0m dlh \u001b[38;5;241m=\u001b[39m \u001b[43m_2rose\u001b[49m(\u001b[38;5;124m\"\u001b[39m\u001b[38;5;124mpeach\u001b[39m\u001b[38;5;124m\"\u001b[39m,\u001b[38;5;241m180\u001b[39m)\n",
      "\u001b[1;31mNameError\u001b[0m: name '_2rose' is not defined"
     ]
    }
   ],
   "source": [
    "hld = Rose(\"black\",100)\n",
    "dlh = _2rose(\"peach\",180)"
   ]
  },
  {
   "cell_type": "code",
   "execution_count": 40,
   "id": "936ba398",
   "metadata": {},
   "outputs": [],
   "source": [
    "class Rose:\n",
    "    def __init__(rose,colour,price):\n",
    "        rose.colour_ = colour\n",
    "        rose.price_ = price\n",
    "        \n",
    "    class _2rose:\n",
    "        def __init__(_2rose,colour,price):\n",
    "            _2rose._2colour_ = colour2\n",
    "            _2rose._2price_ = price2\n",
    "                "
   ]
  },
  {
   "cell_type": "code",
   "execution_count": 43,
   "id": "b04f7c13",
   "metadata": {},
   "outputs": [],
   "source": [
    "class Rose:\n",
    "    def __init__(rose,colour,price):\n",
    "        rose.name_ = rose\n",
    "        rose.colour_ = colour\n",
    "        rose.price_ = price\n",
    "        \n",
    "class _2rose:\n",
    "    def __init__(_2rose,colour,price):\n",
    "        _2rose._2colour_ = colour\n",
    "        _2rose._2price_ = price\n",
    "                "
   ]
  },
  {
   "cell_type": "code",
   "execution_count": 44,
   "id": "191f50f2",
   "metadata": {},
   "outputs": [],
   "source": [
    "hld = Rose(\"black\",100)\n",
    "dlh = _2rose(\"peach\",180)"
   ]
  },
  {
   "cell_type": "code",
   "execution_count": 45,
   "id": "5aa5319b",
   "metadata": {},
   "outputs": [
    {
     "name": "stdout",
     "output_type": "stream",
     "text": [
      "100\n",
      "peach\n",
      "<__main__.Rose object at 0x000002120239FBB0>\n"
     ]
    }
   ],
   "source": [
    "print(hld.price_)\n",
    "print(dlh._2colour_)\n",
    "print(hld.name_)"
   ]
  },
  {
   "cell_type": "code",
   "execution_count": 34,
   "id": "c5223846",
   "metadata": {},
   "outputs": [],
   "source": [
    "hld = Rose(\"black\",100)\n",
    "dlh = _2rose(\"peach\",180)"
   ]
  },
  {
   "cell_type": "code",
   "execution_count": 38,
   "id": "ecbed143",
   "metadata": {},
   "outputs": [
    {
     "name": "stdout",
     "output_type": "stream",
     "text": [
      "100\n",
      "peach\n",
      "<__main__.Rose object at 0x000002120239F340>\n"
     ]
    }
   ],
   "source": [
    "print(hld.price_)\n",
    "print(dlh._2colour_)\n",
    "print(hld.name_)"
   ]
  },
  {
   "cell_type": "code",
   "execution_count": 47,
   "id": "46ea7981",
   "metadata": {},
   "outputs": [
    {
     "name": "stdout",
     "output_type": "stream",
     "text": [
      "100\n",
      "peach\n"
     ]
    }
   ],
   "source": [
    "class Rose:\n",
    "    def __init__(rose,colour,price):\n",
    "        rose.colour_ = colour\n",
    "        rose.price_ = price\n",
    "        \n",
    "    class _2rose:\n",
    "        def __init__(_2rose,colour,price):\n",
    "            _2rose._2colour_ = colour2\n",
    "            _2rose._2price_ = price2\n",
    "            \n",
    "hld = Rose(\"black\",100)\n",
    "dlh = _2rose(\"peach\",180)\n",
    "\n",
    "\n",
    "print(hld.price_)\n",
    "print(dlh._2colour_)\n",
    "                "
   ]
  },
  {
   "cell_type": "code",
   "execution_count": 40,
   "id": "ad893d5a",
   "metadata": {},
   "outputs": [
    {
     "ename": "TypeError",
     "evalue": "func_() takes no arguments",
     "output_type": "error",
     "traceback": [
      "\u001b[1;31m---------------------------------------------------------------------------\u001b[0m",
      "\u001b[1;31mTypeError\u001b[0m                                 Traceback (most recent call last)",
      "Cell \u001b[1;32mIn[40], line 8\u001b[0m\n\u001b[0;32m      4\u001b[0m             rose\u001b[38;5;241m.\u001b[39mcolour_ \u001b[38;5;241m=\u001b[39m colour\n\u001b[0;32m      5\u001b[0m             rose\u001b[38;5;241m.\u001b[39mprice_ \u001b[38;5;241m=\u001b[39m price\n\u001b[1;32m----> 8\u001b[0m hld \u001b[38;5;241m=\u001b[39m \u001b[43mfunc_\u001b[49m\u001b[43m(\u001b[49m\u001b[38;5;124;43m\"\u001b[39;49m\u001b[38;5;124;43mblack\u001b[39;49m\u001b[38;5;124;43m\"\u001b[39;49m\u001b[43m,\u001b[49m\u001b[38;5;241;43m100\u001b[39;49m\u001b[43m)\u001b[49m\n\u001b[0;32m     11\u001b[0m \u001b[38;5;28mprint\u001b[39m(hld\u001b[38;5;241m.\u001b[39mprice_)\n",
      "\u001b[1;31mTypeError\u001b[0m: func_() takes no arguments"
     ]
    }
   ],
   "source": [
    "class func_:\n",
    "    class func2_:\n",
    "        def __init__(rose,colour,price):\n",
    "            rose.colour_ = colour\n",
    "            rose.price_ = price\n",
    "            \n",
    "            \n",
    "hld = func_(\"black\",100)\n",
    "\n",
    "\n",
    "print(hld.price_)"
   ]
  },
  {
   "cell_type": "code",
   "execution_count": 42,
   "id": "c0bfebc6",
   "metadata": {},
   "outputs": [
    {
     "ename": "IndentationError",
     "evalue": "expected an indented block after function definition on line 4 (3086493748.py, line 5)",
     "output_type": "error",
     "traceback": [
      "\u001b[1;36m  Cell \u001b[1;32mIn[42], line 5\u001b[1;36m\u001b[0m\n\u001b[1;33m    rose.colour_ = colour\u001b[0m\n\u001b[1;37m    ^\u001b[0m\n\u001b[1;31mIndentationError\u001b[0m\u001b[1;31m:\u001b[0m expected an indented block after function definition on line 4\n"
     ]
    }
   ],
   "source": [
    "class func_:\n",
    "    def __init__(lily,colour,price):\n",
    "        class func2_:\n",
    "            def __init__(rose,colour,price):\n",
    "            rose.colour_ = colour\n",
    "            rose.price_ = price\n",
    "            \n",
    "            \n",
    "hld = func_(\"black\",100)\n",
    "\n",
    "\n",
    "print(hld.price_)"
   ]
  },
  {
   "cell_type": "code",
   "execution_count": 43,
   "id": "3f391e91",
   "metadata": {},
   "outputs": [],
   "source": [
    "# methods are defined for the objects of the particular class whereas fuctions are not defined for a particular class."
   ]
  },
  {
   "cell_type": "markdown",
   "id": "99086691",
   "metadata": {},
   "source": [
    "# Class Attributes\n",
    "\n",
    "1. Insatance Variables\n",
    "2. Class Variables"
   ]
  },
  {
   "cell_type": "code",
   "execution_count": 44,
   "id": "0996e247",
   "metadata": {},
   "outputs": [],
   "source": [
    "# Instance variable - Attached to an instance(Objects)of a class.\n",
    "#                   - Defined inside any method but generally inside the __init__()method.\n",
    "\n",
    "\n",
    "# class variable - Attached to the class.\n",
    "#                - Declared to the class but outside of any method."
   ]
  },
  {
   "cell_type": "code",
   "execution_count": 7,
   "id": "8de1a5dc",
   "metadata": {},
   "outputs": [],
   "source": [
    "class student:\n",
    "    #class variable\n",
    "    school_name = \"ABC school\"\n",
    "    \n",
    "    def __init__(self,name,age):\n",
    "        #instance vriables\n",
    "        self.name = name\n",
    "        self.age = age\n",
    "        \n",
    "s1 = student(\"Jack\" ,12)        "
   ]
  },
  {
   "cell_type": "code",
   "execution_count": 8,
   "id": "92b645cb",
   "metadata": {},
   "outputs": [
    {
     "name": "stdout",
     "output_type": "stream",
     "text": [
      "Student: Jack 12\n"
     ]
    }
   ],
   "source": [
    "# access instance variables\n",
    "print(\"Student:\",s1.name,s1.age)"
   ]
  },
  {
   "cell_type": "code",
   "execution_count": 9,
   "id": "153fdb95",
   "metadata": {},
   "outputs": [
    {
     "name": "stdout",
     "output_type": "stream",
     "text": [
      "School name: ABC school\n"
     ]
    }
   ],
   "source": [
    "# access class variables\n",
    "print(\"School name:\",student.school_name)"
   ]
  },
  {
   "cell_type": "code",
   "execution_count": 10,
   "id": "ebefeefb",
   "metadata": {},
   "outputs": [],
   "source": [
    "# methods are functions which are made inside the class.\n",
    "# methods are functions which are defined inside the class.\n",
    "# functions which are made into the class it will called as method.\n",
    "# methods are defined for the objects of a particular class whereas functions are not defined for a particular class."
   ]
  },
  {
   "cell_type": "code",
   "execution_count": 11,
   "id": "9f4f1f45",
   "metadata": {},
   "outputs": [
    {
     "data": {
      "text/plain": [
       "'datascience'"
      ]
     },
     "execution_count": 11,
     "metadata": {},
     "output_type": "execute_result"
    }
   ],
   "source": [
    "\"data\"+\"\"+\"science\""
   ]
  },
  {
   "cell_type": "code",
   "execution_count": 12,
   "id": "32609731",
   "metadata": {},
   "outputs": [
    {
     "name": "stdout",
     "output_type": "stream",
     "text": [
      "[9, 8, 7, 9, 8, 7]\n"
     ]
    }
   ],
   "source": [
    "list1 = [9,8,7]\n",
    "result = list1*2\n",
    "print(result)"
   ]
  },
  {
   "cell_type": "code",
   "execution_count": 13,
   "id": "9cb90947",
   "metadata": {},
   "outputs": [
    {
     "name": "stdout",
     "output_type": "stream",
     "text": [
      "Student : Tom 14\n"
     ]
    }
   ],
   "source": [
    "# modify instance variables\n",
    "s1.name  = \"Tom\"\n",
    "s1.age = 14\n",
    "print('Student :',s1.name,s1.age)"
   ]
  },
  {
   "cell_type": "code",
   "execution_count": 14,
   "id": "bc39d580",
   "metadata": {},
   "outputs": [
    {
     "name": "stdout",
     "output_type": "stream",
     "text": [
      "School name : XYZ School\n"
     ]
    }
   ],
   "source": [
    "# modify class variables\n",
    "student.school_name = \"XYZ School\"\n",
    "print(\"School name :\", student.school_name)"
   ]
  },
  {
   "cell_type": "code",
   "execution_count": 15,
   "id": "24eba751",
   "metadata": {},
   "outputs": [
    {
     "name": "stdout",
     "output_type": "stream",
     "text": [
      "XYZ School\n",
      "XYZ School\n"
     ]
    }
   ],
   "source": [
    "# Experiments\n",
    "s2= student(\"james\",12) # s2 a new object.\n",
    "s2.school_name = \"XYZ School\" #  THis creates an instance variable 'school_name' for s2.\n",
    "print(s2.school_name)\n",
    "print(student.school_name)# But the class variable \"school_name\" does not change"
   ]
  },
  {
   "cell_type": "code",
   "execution_count": 16,
   "id": "78456c2a",
   "metadata": {},
   "outputs": [],
   "source": [
    "# class variable will not change untill we change them with there class name ."
   ]
  },
  {
   "cell_type": "code",
   "execution_count": 17,
   "id": "5acf7116",
   "metadata": {},
   "outputs": [],
   "source": [
    "# every object will have there own copy for the instance variable.\n",
    "# but the class name is comman for all objects.that means all objects will have same copy,\n",
    "# every object will share the same class variable.\n",
    "# every instance(object) will have there own instance variables.\n"
   ]
  },
  {
   "cell_type": "code",
   "execution_count": 18,
   "id": "40e8faf6",
   "metadata": {},
   "outputs": [
    {
     "ename": "AttributeError",
     "evalue": "'student' object has no attribute 'profession'",
     "output_type": "error",
     "traceback": [
      "\u001b[1;31m---------------------------------------------------------------------------\u001b[0m",
      "\u001b[1;31mAttributeError\u001b[0m                            Traceback (most recent call last)",
      "Cell \u001b[1;32mIn[18], line 2\u001b[0m\n\u001b[0;32m      1\u001b[0m s1\u001b[38;5;241m.\u001b[39mprofession \u001b[38;5;241m=\u001b[39m \u001b[38;5;124m\"\u001b[39m\u001b[38;5;124mdata science\u001b[39m\u001b[38;5;124m\"\u001b[39m\u001b[38;5;66;03m# this will make one instance variable for the particular object s1. \u001b[39;00m\n\u001b[1;32m----> 2\u001b[0m \u001b[43ms2\u001b[49m\u001b[38;5;241;43m.\u001b[39;49m\u001b[43mprofession\u001b[49m\n",
      "\u001b[1;31mAttributeError\u001b[0m: 'student' object has no attribute 'profession'"
     ]
    }
   ],
   "source": [
    "s1.profession = \"data science\"# this will make one instance variable for the particular object s1. \n",
    "s2.profession"
   ]
  },
  {
   "cell_type": "code",
   "execution_count": 19,
   "id": "a6fbd941",
   "metadata": {},
   "outputs": [
    {
     "ename": "NameError",
     "evalue": "name 'Student' is not defined",
     "output_type": "error",
     "traceback": [
      "\u001b[1;31m---------------------------------------------------------------------------\u001b[0m",
      "\u001b[1;31mNameError\u001b[0m                                 Traceback (most recent call last)",
      "Cell \u001b[1;32mIn[19], line 1\u001b[0m\n\u001b[1;32m----> 1\u001b[0m \u001b[43mStudent\u001b[49m\u001b[38;5;241m.\u001b[39mprofession \u001b[38;5;241m=\u001b[39m \u001b[38;5;124m\"\u001b[39m\u001b[38;5;124mdata science\u001b[39m\u001b[38;5;124m\"\u001b[39m\n",
      "\u001b[1;31mNameError\u001b[0m: name 'Student' is not defined"
     ]
    }
   ],
   "source": [
    "Student.profession = \"data science\"# this will make an one more class variable # no it will not it will make instance variable \n",
    "# there will ony have only one class variable."
   ]
  },
  {
   "cell_type": "code",
   "execution_count": 20,
   "id": "7028896a",
   "metadata": {},
   "outputs": [],
   "source": [
    "# the instance variable can be created inside or outside of the class.\n",
    "# if u will try to access the instance or class variable with the same name it will access the instance varible ,\n",
    "# and if u want to acccess the class variable u have to write class name."
   ]
  },
  {
   "cell_type": "markdown",
   "id": "00179d31",
   "metadata": {},
   "source": [
    "# Deleting object attributes"
   ]
  },
  {
   "cell_type": "code",
   "execution_count": 21,
   "id": "f7ed2273",
   "metadata": {},
   "outputs": [],
   "source": [
    "del s2.school_name"
   ]
  },
  {
   "cell_type": "code",
   "execution_count": 22,
   "id": "7606f6fb",
   "metadata": {},
   "outputs": [
    {
     "data": {
      "text/plain": [
       "'XYZ School'"
      ]
     },
     "execution_count": 22,
     "metadata": {},
     "output_type": "execute_result"
    }
   ],
   "source": [
    "s2.school_name"
   ]
  },
  {
   "cell_type": "markdown",
   "id": "497fb1ee",
   "metadata": {},
   "source": [
    "# Deleting an object"
   ]
  },
  {
   "cell_type": "code",
   "execution_count": 23,
   "id": "fd00ca12",
   "metadata": {},
   "outputs": [],
   "source": [
    "del s2"
   ]
  },
  {
   "cell_type": "code",
   "execution_count": 24,
   "id": "fa87d9a7",
   "metadata": {},
   "outputs": [
    {
     "ename": "NameError",
     "evalue": "name 's2' is not defined",
     "output_type": "error",
     "traceback": [
      "\u001b[1;31m---------------------------------------------------------------------------\u001b[0m",
      "\u001b[1;31mNameError\u001b[0m                                 Traceback (most recent call last)",
      "Cell \u001b[1;32mIn[24], line 1\u001b[0m\n\u001b[1;32m----> 1\u001b[0m \u001b[43ms2\u001b[49m\u001b[38;5;241m.\u001b[39mschool_name\n",
      "\u001b[1;31mNameError\u001b[0m: name 's2' is not defined"
     ]
    }
   ],
   "source": [
    "s2.school_name"
   ]
  },
  {
   "cell_type": "code",
   "execution_count": 25,
   "id": "83b49d4d",
   "metadata": {},
   "outputs": [],
   "source": [
    "del student.school_name"
   ]
  },
  {
   "cell_type": "code",
   "execution_count": 26,
   "id": "06a6ec8b",
   "metadata": {},
   "outputs": [
    {
     "ename": "AttributeError",
     "evalue": "type object 'student' has no attribute 'school_name'",
     "output_type": "error",
     "traceback": [
      "\u001b[1;31m---------------------------------------------------------------------------\u001b[0m",
      "\u001b[1;31mAttributeError\u001b[0m                            Traceback (most recent call last)",
      "Cell \u001b[1;32mIn[26], line 1\u001b[0m\n\u001b[1;32m----> 1\u001b[0m \u001b[43mstudent\u001b[49m\u001b[38;5;241;43m.\u001b[39;49m\u001b[43mschool_name\u001b[49m\n",
      "\u001b[1;31mAttributeError\u001b[0m: type object 'student' has no attribute 'school_name'"
     ]
    }
   ],
   "source": [
    "student.school_name"
   ]
  },
  {
   "cell_type": "code",
   "execution_count": null,
   "id": "4c932051",
   "metadata": {},
   "outputs": [],
   "source": []
  }
 ],
 "metadata": {
  "kernelspec": {
   "display_name": "Python 3 (ipykernel)",
   "language": "python",
   "name": "python3"
  },
  "language_info": {
   "codemirror_mode": {
    "name": "ipython",
    "version": 3
   },
   "file_extension": ".py",
   "mimetype": "text/x-python",
   "name": "python",
   "nbconvert_exporter": "python",
   "pygments_lexer": "ipython3",
   "version": "3.10.9"
  }
 },
 "nbformat": 4,
 "nbformat_minor": 5
}
