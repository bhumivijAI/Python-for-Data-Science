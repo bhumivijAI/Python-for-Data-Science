{
 "cells": [
  {
   "cell_type": "markdown",
   "id": "9a5ccf12",
   "metadata": {},
   "source": [
    "# TYPE CASTING \n",
    "* Type casting converts one data to another data type. \n",
    "  (int(),float(),complex(),str(),list(),tuple(),dict(),set()."
   ]
  },
  {
   "cell_type": "code",
   "execution_count": 1,
   "id": "b89a9f0d",
   "metadata": {},
   "outputs": [
    {
     "data": {
      "text/plain": [
       "10.0"
      ]
     },
     "execution_count": 1,
     "metadata": {},
     "output_type": "execute_result"
    }
   ],
   "source": [
    "a = 10\n",
    "float(a)"
   ]
  },
  {
   "cell_type": "code",
   "execution_count": 2,
   "id": "8f9b3a4c",
   "metadata": {},
   "outputs": [
    {
     "data": {
      "text/plain": [
       "56"
      ]
     },
     "execution_count": 2,
     "metadata": {},
     "output_type": "execute_result"
    }
   ],
   "source": [
    "x = 56.89\n",
    "int(x)"
   ]
  },
  {
   "cell_type": "code",
   "execution_count": 3,
   "id": "a144313e",
   "metadata": {},
   "outputs": [
    {
     "data": {
      "text/plain": [
       "True"
      ]
     },
     "execution_count": 3,
     "metadata": {},
     "output_type": "execute_result"
    }
   ],
   "source": [
    "p = 8\n",
    "bool(p)"
   ]
  },
  {
   "cell_type": "code",
   "execution_count": 4,
   "id": "5820550a",
   "metadata": {},
   "outputs": [
    {
     "data": {
      "text/plain": [
       "'1'"
      ]
     },
     "execution_count": 4,
     "metadata": {},
     "output_type": "execute_result"
    }
   ],
   "source": [
    "str(\"1\")"
   ]
  },
  {
   "cell_type": "code",
   "execution_count": 6,
   "id": "2566be55",
   "metadata": {},
   "outputs": [
    {
     "data": {
      "text/plain": [
       "int"
      ]
     },
     "execution_count": 6,
     "metadata": {},
     "output_type": "execute_result"
    }
   ],
   "source": [
    "type(int(\"1\")) # type is used to find the data type of the given data. "
   ]
  },
  {
   "cell_type": "code",
   "execution_count": 7,
   "id": "42d90164",
   "metadata": {},
   "outputs": [
    {
     "data": {
      "text/plain": [
       "int"
      ]
     },
     "execution_count": 7,
     "metadata": {},
     "output_type": "execute_result"
    }
   ],
   "source": [
    "type(1)"
   ]
  },
  {
   "cell_type": "code",
   "execution_count": 8,
   "id": "870d924b",
   "metadata": {},
   "outputs": [
    {
     "ename": "ValueError",
     "evalue": "could not convert string to float: 'a'",
     "output_type": "error",
     "traceback": [
      "\u001b[1;31m---------------------------------------------------------------------------\u001b[0m",
      "\u001b[1;31mValueError\u001b[0m                                Traceback (most recent call last)",
      "Cell \u001b[1;32mIn[8], line 1\u001b[0m\n\u001b[1;32m----> 1\u001b[0m \u001b[38;5;28mprint\u001b[39m(\u001b[38;5;28;43mfloat\u001b[39;49m\u001b[43m(\u001b[49m\u001b[38;5;124;43m\"\u001b[39;49m\u001b[38;5;124;43ma\u001b[39;49m\u001b[38;5;124;43m\"\u001b[39;49m\u001b[43m)\u001b[49m)\n",
      "\u001b[1;31mValueError\u001b[0m: could not convert string to float: 'a'"
     ]
    }
   ],
   "source": [
    "print(float(\"a\"))"
   ]
  },
  {
   "cell_type": "code",
   "execution_count": 9,
   "id": "0307b788",
   "metadata": {},
   "outputs": [
    {
     "name": "stdout",
     "output_type": "stream",
     "text": [
      "10.0\n"
     ]
    }
   ],
   "source": [
    "print(float(a))"
   ]
  },
  {
   "cell_type": "markdown",
   "id": "c4365a46",
   "metadata": {},
   "source": [
    "# ESCAPE SEQUENCES\n",
    "\n",
    "* (   \\'        = SINGLE SLASH )\n",
    "* ( \\n = NEW LINE )\n",
    "* ( \\\\ = BACKSLASH )\n",
    "* ( \\b = BACKSPACE ) \n",
    "* ( \\t = TAB ) \n",
    "* ( \\r = CARRIAGE RETURN )"
   ]
  },
  {
   "cell_type": "code",
   "execution_count": 19,
   "id": "ae42cc36",
   "metadata": {},
   "outputs": [
    {
     "name": "stdout",
     "output_type": "stream",
     "text": [
      "NAME  : \t ECONOMICS : \t  ACCOUNTS : \t  BUSINESS\n",
      "Bhumi :  \t   40  : \t   50  : \t   70\n",
      "Reyansh :\t   70  : \t   60  : \t   80\n",
      "Yami :   \t   60  : \t   68  : \t   78 \n"
     ]
    }
   ],
   "source": [
    "print(\"NAME  : \\t ECONOMICS : \\t  ACCOUNTS : \\t  BUSINESS\")\n",
    "\n",
    "print(\"Bhumi :  \\t   40  : \\t   50  : \\t   70\")\n",
    "print(\"Reyansh :\\t   70  : \\t   60  : \\t   80\")\n",
    "print(\"Yami :   \\t   60  : \\t   68  : \\t   78 \")"
   ]
  },
  {
   "cell_type": "code",
   "execution_count": 46,
   "id": "dd156278",
   "metadata": {},
   "outputs": [
    {
     "name": "stdout",
     "output_type": "stream",
     "text": [
      "|NAME    |  ECONOMICS |    ACCOUNTS    |  BUSINESS   |\n",
      "|Bhumi   |\t  40  | \t   50  | \t   70|\n",
      "|Reyansh |\t  70  | \t   60  | \t   80|\n",
      "|Yami    |\t  60  | \t   68  | \t   78|\n"
     ]
    }
   ],
   "source": [
    "print(\"|NAME    |  ECONOMICS |    ACCOUNTS    |  BUSINESS   |\")\n",
    "print(\"|Bhumi   |\\t  40  | \\t   50  | \\t   70|\")\n",
    "print(\"|Reyansh |\\t  70  | \\t   60  | \\t   80|\")\n",
    "print(\"|Yami    |\\t  60  | \\t   68  | \\t   78|\")"
   ]
  },
  {
   "cell_type": "code",
   "execution_count": 10,
   "id": "eb4af78c",
   "metadata": {},
   "outputs": [
    {
     "ename": "SyntaxError",
     "evalue": "invalid syntax. Perhaps you forgot a comma? (107405224.py, line 1)",
     "output_type": "error",
     "traceback": [
      "\u001b[1;36m  Cell \u001b[1;32mIn[10], line 1\u001b[1;36m\u001b[0m\n\u001b[1;33m    print(''python'')\u001b[0m\n\u001b[1;37m          ^\u001b[0m\n\u001b[1;31mSyntaxError\u001b[0m\u001b[1;31m:\u001b[0m invalid syntax. Perhaps you forgot a comma?\n"
     ]
    }
   ],
   "source": [
    "print(''python'')"
   ]
  },
  {
   "cell_type": "code",
   "execution_count": null,
   "id": "0e0d63ca",
   "metadata": {},
   "outputs": [],
   "source": []
  },
  {
   "cell_type": "code",
   "execution_count": 4,
   "id": "a6b1ec0a",
   "metadata": {},
   "outputs": [
    {
     "name": "stdout",
     "output_type": "stream",
     "text": [
      "hi, everyone ! 'my name is bhumi'\n"
     ]
    }
   ],
   "source": [
    "print('hi, everyone ! \\'my name is bhumi\\'')"
   ]
  },
  {
   "cell_type": "code",
   "execution_count": 8,
   "id": "db13a986",
   "metadata": {},
   "outputs": [
    {
     "name": "stdout",
     "output_type": "stream",
     "text": [
      "'notebook saved'\n"
     ]
    }
   ],
   "source": [
    "print('\\'notebook saved\\'')"
   ]
  },
  {
   "cell_type": "code",
   "execution_count": 13,
   "id": "810055d6",
   "metadata": {},
   "outputs": [
    {
     "name": "stdout",
     "output_type": "stream",
     "text": [
      "'python'\n"
     ]
    }
   ],
   "source": [
    "print('\\'python\\'') # here by using single slash we can print python.print('\\'notebook saved\\'')"
   ]
  },
  {
   "cell_type": "code",
   "execution_count": 14,
   "id": "ace4eb64",
   "metadata": {},
   "outputs": [
    {
     "name": "stdout",
     "output_type": "stream",
     "text": [
      "python\n"
     ]
    }
   ],
   "source": [
    "print('''python''') # by putting three single quotation marks it will became an doc strings. "
   ]
  },
  {
   "cell_type": "code",
   "execution_count": 15,
   "id": "b8ca3c60",
   "metadata": {},
   "outputs": [
    {
     "ename": "SyntaxError",
     "evalue": "unterminated string literal (detected at line 1) (2434837740.py, line 1)",
     "output_type": "error",
     "traceback": [
      "\u001b[1;36m  Cell \u001b[1;32mIn[15], line 1\u001b[1;36m\u001b[0m\n\u001b[1;33m    print(\"PYTHON\u001b[0m\n\u001b[1;37m          ^\u001b[0m\n\u001b[1;31mSyntaxError\u001b[0m\u001b[1;31m:\u001b[0m unterminated string literal (detected at line 1)\n"
     ]
    }
   ],
   "source": [
    "print(\"PYTHON\n",
    "       Data Science\")"
   ]
  },
  {
   "cell_type": "code",
   "execution_count": 16,
   "id": "8dc0bfe8",
   "metadata": {},
   "outputs": [
    {
     "name": "stdout",
     "output_type": "stream",
     "text": [
      "PYTHON\n",
      "      Data Science\n"
     ]
    }
   ],
   "source": [
    "print(\"\"\"PYTHON\n",
    "      Data Science\"\"\")"
   ]
  },
  {
   "cell_type": "code",
   "execution_count": 18,
   "id": "a34dedfa",
   "metadata": {},
   "outputs": [
    {
     "name": "stdout",
     "output_type": "stream",
     "text": [
      "\n",
      "\n"
     ]
    }
   ],
   "source": [
    "print(\"\\n\") # by printing \\n we have the output with the space given by \\n ."
   ]
  },
  {
   "cell_type": "code",
   "execution_count": 20,
   "id": "a020a558",
   "metadata": {},
   "outputs": [
    {
     "name": "stdout",
     "output_type": "stream",
     "text": [
      "\\n\n"
     ]
    }
   ],
   "source": [
    "print(\"\\\\n\") # to print \\n we have to use backslash "
   ]
  },
  {
   "cell_type": "code",
   "execution_count": 21,
   "id": "526074a5",
   "metadata": {},
   "outputs": [
    {
     "name": "stdout",
     "output_type": "stream",
     "text": [
      "\n",
      "abc\n"
     ]
    }
   ],
   "source": [
    "print(\"\\nabc\")"
   ]
  },
  {
   "cell_type": "code",
   "execution_count": 22,
   "id": "afe4b773",
   "metadata": {},
   "outputs": [
    {
     "name": "stdout",
     "output_type": "stream",
     "text": [
      "'\n",
      "'\n"
     ]
    }
   ],
   "source": [
    "print('\\'\\n\\'')"
   ]
  },
  {
   "cell_type": "code",
   "execution_count": 23,
   "id": "785fc5ed",
   "metadata": {},
   "outputs": [
    {
     "name": "stdout",
     "output_type": "stream",
     "text": [
      "\\b\n"
     ]
    }
   ],
   "source": [
    "print(\"\\\\b\")"
   ]
  },
  {
   "cell_type": "code",
   "execution_count": 11,
   "id": "18b2cbea",
   "metadata": {},
   "outputs": [
    {
     "name": "stdout",
     "output_type": "stream",
     "text": [
      "myself :\tbhumi\n"
     ]
    }
   ],
   "source": [
    "print(\"myself :\\tbhumi\") # using tab escape sequence"
   ]
  },
  {
   "cell_type": "code",
   "execution_count": 12,
   "id": "5322d798",
   "metadata": {},
   "outputs": [
    {
     "name": "stdout",
     "output_type": "stream",
     "text": [
      "\tcar brands = supraa\t\n"
     ]
    }
   ],
   "source": [
    "print('\\tcar brands = supraa\\t')"
   ]
  },
  {
   "cell_type": "code",
   "execution_count": 14,
   "id": "75e7aaa4",
   "metadata": {},
   "outputs": [
    {
     "name": "stdout",
     "output_type": "stream",
     "text": [
      "\tcar \tbrands\t = \tsupraa\t\n"
     ]
    }
   ],
   "source": [
    "print('\\tcar \\tbrands\\t = \\tsupraa\\t')"
   ]
  },
  {
   "cell_type": "code",
   "execution_count": 15,
   "id": "e58484ec",
   "metadata": {},
   "outputs": [
    {
     "name": "stdout",
     "output_type": "stream",
     "text": [
      "helloo\b\n"
     ]
    }
   ],
   "source": [
    "print(\"helloo\\b\")"
   ]
  },
  {
   "cell_type": "code",
   "execution_count": 16,
   "id": "4c8ac26b",
   "metadata": {},
   "outputs": [
    {
     "name": "stdout",
     "output_type": "stream",
     "text": [
      "my name is moon\r",
      " my name is bhumi\n"
     ]
    }
   ],
   "source": [
    "print(\"my name is moon\\r my name is bhumi\")"
   ]
  },
  {
   "cell_type": "code",
   "execution_count": 19,
   "id": "8b561586",
   "metadata": {},
   "outputs": [
    {
     "name": "stdout",
     "output_type": "stream",
     "text": [
      " my name is bhumi\n"
     ]
    }
   ],
   "source": [
    "x = \"\"\" my name is \\     \n",
    "bhumi\"\"\"\n",
    "print(x)"
   ]
  },
  {
   "cell_type": "code",
   "execution_count": 4,
   "id": "665d12b7",
   "metadata": {},
   "outputs": [
    {
     "name": "stdout",
     "output_type": "stream",
     "text": [
      " MY NAME IS \n",
      "    \n",
      "   BHUMI\n"
     ]
    }
   ],
   "source": [
    "x = \"\"\" MY NAME IS \\n    \n",
    "   BHUMI\"\"\"        # the new line character \n",
    "print(x)"
   ]
  },
  {
   "cell_type": "code",
   "execution_count": 3,
   "id": "7e60c09f",
   "metadata": {},
   "outputs": [
    {
     "ename": "TypeError",
     "evalue": "int() argument must be a string, a bytes-like object or a real number, not 'type'",
     "output_type": "error",
     "traceback": [
      "\u001b[1;31m---------------------------------------------------------------------------\u001b[0m",
      "\u001b[1;31mTypeError\u001b[0m                                 Traceback (most recent call last)",
      "Cell \u001b[1;32mIn[3], line 1\u001b[0m\n\u001b[1;32m----> 1\u001b[0m \u001b[38;5;28;43mint\u001b[39;49m\u001b[43m(\u001b[49m\u001b[38;5;28;43mtype\u001b[39;49m\u001b[43m(\u001b[49m\u001b[38;5;241;43m6.7\u001b[39;49m\u001b[43m)\u001b[49m\u001b[43m)\u001b[49m\n",
      "\u001b[1;31mTypeError\u001b[0m: int() argument must be a string, a bytes-like object or a real number, not 'type'"
     ]
    }
   ],
   "source": [
    "int(type(6.7))"
   ]
  },
  {
   "cell_type": "code",
   "execution_count": 6,
   "id": "74096748",
   "metadata": {},
   "outputs": [
    {
     "name": "stdout",
     "output_type": "stream",
     "text": [
      "the topic is about 'type castings'\b,\t'escape sequences'\n"
     ]
    }
   ],
   "source": [
    "print(\"the topic is about \\'type castings\\'\\b,\\t\\'escape sequences\\'\")"
   ]
  },
  {
   "cell_type": "code",
   "execution_count": null,
   "id": "f79dcd06",
   "metadata": {},
   "outputs": [],
   "source": []
  }
 ],
 "metadata": {
  "kernelspec": {
   "display_name": "Python 3 (ipykernel)",
   "language": "python",
   "name": "python3"
  },
  "language_info": {
   "codemirror_mode": {
    "name": "ipython",
    "version": 3
   },
   "file_extension": ".py",
   "mimetype": "text/x-python",
   "name": "python",
   "nbconvert_exporter": "python",
   "pygments_lexer": "ipython3",
   "version": "3.10.9"
  }
 },
 "nbformat": 4,
 "nbformat_minor": 5
}
