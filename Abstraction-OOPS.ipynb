{
 "cells": [
  {
   "cell_type": "markdown",
   "id": "e4ef494f",
   "metadata": {},
   "source": [
    "Abstraction is used to hide the internal implementaion details of methods from the user."
   ]
  },
  {
   "cell_type": "markdown",
   "id": "44278b9c",
   "metadata": {},
   "source": [
    "The user is familier with **\"what the method does\"** but they don't know **\"how it does\"**. "
   ]
  },
  {
   "cell_type": "markdown",
   "id": "7eca6965",
   "metadata": {},
   "source": [
    "Abstraction is implemented by creating **\"Abstraction base classes\"** which contain **\"Abstract Methods\"**."
   ]
  },
  {
   "cell_type": "markdown",
   "id": "9e17c4c1",
   "metadata": {},
   "source": [
    "The abstract methods do not have any impelmentation. All the implementation are performed within the subclasses."
   ]
  },
  {
   "cell_type": "markdown",
   "id": "12353804",
   "metadata": {},
   "source": [
    "All the subclasses of the abstract base class are required to implement all the abstract methods."
   ]
  },
  {
   "cell_type": "markdown",
   "id": "aafa5393",
   "metadata": {},
   "source": [
    "**You cannot create an object of the abstract base class.**"
   ]
  },
  {
   "cell_type": "code",
   "execution_count": null,
   "id": "78020e9c",
   "metadata": {},
   "outputs": [],
   "source": []
  },
  {
   "cell_type": "code",
   "execution_count": 9,
   "id": "55abdde6",
   "metadata": {},
   "outputs": [],
   "source": [
    "from abc import ABC,abstractmethod\n",
    "\n",
    "class Shape(ABC):\n",
    "    @abstractmethod \n",
    "    def area(self):                 # Implementaion details are hidden\n",
    "        pass\n",
    "    \n",
    "    @abstractmethod\n",
    "    def perimeter(self):            # Implementation details are hidden\n",
    "        pass"
   ]
  },
  {
   "cell_type": "code",
   "execution_count": 14,
   "id": "afaa91c4",
   "metadata": {},
   "outputs": [],
   "source": [
    "from abc import ABC,abstractmethod\n",
    "\n",
    "class Shape(ABC):\n",
    "    @abstractmethod \n",
    "    def area(self):                 # Implementaion details are hidden\n",
    "        pass\n",
    "    \n",
    "    @abstractmethod\n",
    "    def perimeter(self):            # Implementation details are hidden\n",
    "        pass\n",
    "    \n",
    "    def display(self):\n",
    "        return \"this is not an abstract method\"      # no error will come"
   ]
  },
  {
   "cell_type": "code",
   "execution_count": 10,
   "id": "806613a0",
   "metadata": {},
   "outputs": [
    {
     "ename": "TypeError",
     "evalue": "Can't instantiate abstract class Shape with abstract methods area, perimeter",
     "output_type": "error",
     "traceback": [
      "\u001b[1;31m---------------------------------------------------------------------------\u001b[0m",
      "\u001b[1;31mTypeError\u001b[0m                                 Traceback (most recent call last)",
      "Cell \u001b[1;32mIn[10], line 1\u001b[0m\n\u001b[1;32m----> 1\u001b[0m shp \u001b[38;5;241m=\u001b[39m \u001b[43mShape\u001b[49m\u001b[43m(\u001b[49m\u001b[43m)\u001b[49m\n",
      "\u001b[1;31mTypeError\u001b[0m: Can't instantiate abstract class Shape with abstract methods area, perimeter"
     ]
    }
   ],
   "source": [
    "shp = Shape()    # you cannot create an object of the abstract class"
   ]
  },
  {
   "cell_type": "code",
   "execution_count": 16,
   "id": "507c638a",
   "metadata": {},
   "outputs": [
    {
     "data": {
      "text/plain": [
       "'this is not an abstract method'"
      ]
     },
     "execution_count": 16,
     "metadata": {},
     "output_type": "execute_result"
    }
   ],
   "source": [
    "class Rectangle(Shape):\n",
    "    def area(self,length,breath):\n",
    "        return length*breath\n",
    "    \n",
    "    def perimeter(self,length,breath):\n",
    "        return 2*(length+breath)\n",
    "    \n",
    "rect = Rectangle()                  # we can't make the object of the abstract base class but we can meke the object of \n",
    "rect.perimeter(4,5)                 # its subclass.\n",
    "rect.area(3,4)\n",
    "rect.display()                      # it will still work"
   ]
  },
  {
   "cell_type": "code",
   "execution_count": 12,
   "id": "658b13e4",
   "metadata": {},
   "outputs": [
    {
     "name": "stdout",
     "output_type": "stream",
     "text": [
      "31.400000000000002\n",
      "78.5\n"
     ]
    }
   ],
   "source": [
    "class Circle(Shape):\n",
    "    def area(self,radius):\n",
    "        return 3.14*radius**2\n",
    "    \n",
    "    def perimeter(self,radius):\n",
    "        return 2*3.14*radius\n",
    "    \n",
    "cir = Circle()                  # we can't make the object of the abstract base class but we can meke the object of \n",
    "print(cir.perimeter(5))                 # its subclass.\n",
    "print(cir.area(5))"
   ]
  },
  {
   "cell_type": "code",
   "execution_count": null,
   "id": "d16c18ef",
   "metadata": {},
   "outputs": [],
   "source": []
  }
 ],
 "metadata": {
  "kernelspec": {
   "display_name": "Python 3 (ipykernel)",
   "language": "python",
   "name": "python3"
  },
  "language_info": {
   "codemirror_mode": {
    "name": "ipython",
    "version": 3
   },
   "file_extension": ".py",
   "mimetype": "text/x-python",
   "name": "python",
   "nbconvert_exporter": "python",
   "pygments_lexer": "ipython3",
   "version": "3.10.9"
  }
 },
 "nbformat": 4,
 "nbformat_minor": 5
}
