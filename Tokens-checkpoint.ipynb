{
 "cells": [
  {
   "cell_type": "markdown",
   "id": "b8fdcda6",
   "metadata": {},
   "source": [
    "# TOKENS\n",
    "\n",
    "* A TOKEN IS THE **SMALLEST INDIVIDUAL UNIT IN A PTHON PROGRAM** . ALL STATEMENTS AND INSTRUCTIONS IN A PROGRAM ARE BUILD WITH TOKENS.\n",
    "\n",
    "* KEYWORDS--- **are special words which have a unique meaning and purpose in python.\n",
    "  Keywords cannot be used as variable names , variable names,function names etc.**\n",
    "\n",
    "* IDENTIFIERS -- **names given to any variable classs,function, method etc.**\n",
    "\n",
    "* LITERALS---  **Literals are simply the raw data that is assigned into the variables.**\n",
    "\n",
    "* OPERATORS--- **The arithmatic symbols (+,-,*,%,)**\n",
    "\n",
    "* PUNCTUATORS--- **are symbols that we used to structure the statements. Some commonly used          \n",
    "  punctuators are : \"\",\\,@,{},[],(),#,:,; etc**"
   ]
  },
  {
   "cell_type": "code",
   "execution_count": 1,
   "id": "6585bfe5",
   "metadata": {},
   "outputs": [
    {
     "name": "stdout",
     "output_type": "stream",
     "text": [
      "\n",
      "Here is a list of the Python keywords.  Enter any keyword to get more help.\n",
      "\n",
      "False               class               from                or\n",
      "None                continue            global              pass\n",
      "True                def                 if                  raise\n",
      "and                 del                 import              return\n",
      "as                  elif                in                  try\n",
      "assert              else                is                  while\n",
      "async               except              lambda              with\n",
      "await               finally             nonlocal            yield\n",
      "break               for                 not                 \n",
      "\n"
     ]
    }
   ],
   "source": [
    "help(\"keywords\")"
   ]
  },
  {
   "cell_type": "markdown",
   "id": "24246368",
   "metadata": {},
   "source": [
    "###  LITERALS\n",
    "1. Strring literals\n",
    "\n",
    "2. Numeric literals\n",
    "  * a.integer\n",
    "  * b.float\n",
    "  * c.complex\n",
    "   \n",
    "3. Boolean literals\n",
    "\n",
    "4. Special literals(none)\n",
    "\n",
    "5. Literal collections\n",
    "  * a.list literal\n",
    "  * b.tuple literal\n",
    "  * c.dictionary literal\n",
    "  * d.set literal"
   ]
  },
  {
   "cell_type": "markdown",
   "id": "b590f11f",
   "metadata": {},
   "source": [
    "# OPERATORS IN PYTHON\n",
    "\n",
    "* Operators are symbols which are used to perform a specific operation between values.\n",
    "\n",
    "* There are some common operators in python :\n",
    "  * ARITHMETRIC OPERATIONS(+,-,*,/)\n",
    "  * ASSIGNMENT OPERATERS(=,+=,=+,==)\n",
    "  * BITWISE OPERATORS\n",
    "  * MEMBERSHIP OPERATOR\n",
    "  * IDENTIFY OPERATORS\n",
    "  * FLOOR DIVISION(//)\n",
    "  * MODULE OPERATION(%)\n",
    "  * POWER(**)\n",
    "  * LOGICAL OPERATERS(not,or,and)\n",
    "  * COMPARISION OPERATORS(==,>=,<=,<,>,!=,etc)"
   ]
  },
  {
   "cell_type": "markdown",
   "id": "fff135ed",
   "metadata": {},
   "source": [
    "# *comparision operators*\n",
    "* (==) its cheack wheather it is equals to or not.\n",
    "* (!=)---equals not ---\n",
    "* (>) ---greater than\n",
    "* (>) ---less than\n",
    "* (<=) ----less than or equals to\n",
    "* (>=)----greater than or equals to"
   ]
  },
  {
   "cell_type": "code",
   "execution_count": 1,
   "id": "3a07dab6",
   "metadata": {},
   "outputs": [],
   "source": [
    "# Precedence\n",
    "# ()\n",
    "# **\n",
    "# *,/,//,%\n",
    "# +,-"
   ]
  },
  {
   "cell_type": "code",
   "execution_count": null,
   "id": "d6bdce4b",
   "metadata": {},
   "outputs": [],
   "source": []
  }
 ],
 "metadata": {
  "kernelspec": {
   "display_name": "Python 3 (ipykernel)",
   "language": "python",
   "name": "python3"
  },
  "language_info": {
   "codemirror_mode": {
    "name": "ipython",
    "version": 3
   },
   "file_extension": ".py",
   "mimetype": "text/x-python",
   "name": "python",
   "nbconvert_exporter": "python",
   "pygments_lexer": "ipython3",
   "version": "3.10.9"
  }
 },
 "nbformat": 4,
 "nbformat_minor": 5
}
