{
 "cells": [
  {
   "cell_type": "markdown",
   "id": "9c861f2b",
   "metadata": {},
   "source": [
    "# Constructors"
   ]
  },
  {
   "cell_type": "markdown",
   "id": "1fa6f1a9",
   "metadata": {},
   "source": [
    "A constructor is a special method used to initialize an object of a class."
   ]
  },
  {
   "cell_type": "markdown",
   "id": "3100183e",
   "metadata": {},
   "source": [
    "<font size = 3>\n",
    "* Defining constructors is optional.<br>\n",
    "Pyhton will provide a default constructor if no constructor is defined.<br>\n",
    "* The constructor is executed automatically at the time of object creation.<br>\n",
    "* The primary use of a constructor is to initilize instance varibles of an object. The constructor contains a collection of<br>\n",
    "statements that executes at the time of object creation."
   ]
  },
  {
   "cell_type": "code",
   "execution_count": 1,
   "id": "515a4d98",
   "metadata": {},
   "outputs": [],
   "source": [
    "# iska hum mainly use isiye krte h taki jo kuch statements ya line humne banai h vo bhi sath mai initilize ho sake."
   ]
  },
  {
   "cell_type": "code",
   "execution_count": 3,
   "id": "3fb5cd3b",
   "metadata": {},
   "outputs": [],
   "source": [
    "# run some collection of codes/statements , of the object."
   ]
  },
  {
   "cell_type": "code",
   "execution_count": 4,
   "id": "8ec6ae01",
   "metadata": {},
   "outputs": [],
   "source": [
    "# hum prefer krte h ki sare instance variable constructor mai hi bana sake."
   ]
  },
  {
   "cell_type": "code",
   "execution_count": 5,
   "id": "f8a44001",
   "metadata": {},
   "outputs": [],
   "source": [
    "class Student:\n",
    "    pass\n",
    "\n",
    "\n",
    "# python will give the default constructor\n",
    "s1 = Student()\n",
    "s2 = Student()\n",
    "s3 = Student()"
   ]
  },
  {
   "cell_type": "code",
   "execution_count": 6,
   "id": "ef9e7a98",
   "metadata": {},
   "outputs": [],
   "source": [
    "s1.name = \"Ram\"\n",
    "s1.age = 17\n",
    "s1.profession = \"web developer\"\n",
    "\n",
    "\n",
    "s2.name = \"Shyam\"\n",
    "s2.age = 16\n",
    "s2.profession = \"software developer\"\n",
    "\n",
    "\n",
    "s3.name = \"neeraj\"\n",
    "s3.age = 15\n",
    "s3.profession = \"data scientist\"\n",
    "\n"
   ]
  },
  {
   "cell_type": "code",
   "execution_count": 2,
   "id": "5ef647ee",
   "metadata": {},
   "outputs": [],
   "source": [
    "class Student:\n",
    "    #constructor\n",
    "    #initilize instance variable\n",
    "    def __init__(self,name,age,proff):\n",
    "        self.name = name\n",
    "        self.age = age\n",
    "        self.profession = proff\n",
    "\n",
    "# create objects using constructors        \n",
    "s1 = Student(\"ram\",17,\"web developer\")\n",
    "s2 = Student(\"shyam\",16,\"software developer\")\n",
    "s3 = Student(\"neeraj\",15,\"data scientist\")"
   ]
  },
  {
   "cell_type": "markdown",
   "id": "c1b947a3",
   "metadata": {},
   "source": [
    "# Destructor"
   ]
  },
  {
   "cell_type": "markdown",
   "id": "87d5eeb3",
   "metadata": {},
   "source": [
    "<font size = 3>* A Destructor is called when an object is deleted or destroyed."
   ]
  },
  {
   "cell_type": "code",
   "execution_count": 8,
   "id": "9c5e89d0",
   "metadata": {},
   "outputs": [
    {
     "name": "stdout",
     "output_type": "stream",
     "text": [
      "Inside Constructor\n",
      "Object initilized\n",
      "Hello ! , my name is  Emma\n",
      "Inside Destructor\n",
      "Object destroyed\n"
     ]
    }
   ],
   "source": [
    "class Student:\n",
    "    \n",
    "    # constructor\n",
    "    def __init__(self,name):\n",
    "        print(\"Inside Constructor\")\n",
    "        self.name = name\n",
    "        print(\"Object initilized\")\n",
    "        \n",
    "        \n",
    "    def show(self):\n",
    "        print(\"Hello ! , my name is \", self.name)\n",
    "        \n",
    "        \n",
    "        \n",
    "    # destructor\n",
    "    def __del__(self):\n",
    "        print(\"Inside Destructor\")\n",
    "        print(\"Object destroyed\")\n",
    "        \n",
    "        \n",
    "\n",
    "# creating object\n",
    "s1 = Student(\"Emma\")\n",
    "s1.show()\n",
    "\n",
    "# delete object\n",
    "del s1"
   ]
  },
  {
   "cell_type": "code",
   "execution_count": 9,
   "id": "075fb299",
   "metadata": {},
   "outputs": [
    {
     "name": "stderr",
     "output_type": "stream",
     "text": [
      "Exception ignored in: <function Student.__del__ at 0x0000023FA6E832E0>\n",
      "Traceback (most recent call last):\n",
      "  File \"C:\\Users\\hp\\AppData\\Local\\Temp\\ipykernel_4168\\27013501.py\", line 27, in <module>\n",
      "TypeError: Student.__del__() missing 1 required positional argument: 'name'\n"
     ]
    },
    {
     "name": "stdout",
     "output_type": "stream",
     "text": [
      "Inside Constructor\n",
      "Object initilized\n",
      "Hello ! , my name is  Emma\n"
     ]
    }
   ],
   "source": [
    "class Student:\n",
    "    \n",
    "    # constructor\n",
    "    def __init__(self,name):\n",
    "        print(\"Inside Constructor\")\n",
    "        self.name = name\n",
    "        print(\"Object initilized\")\n",
    "        \n",
    "        \n",
    "    def show(self):\n",
    "        print(\"Hello ! , my name is \", self.name)\n",
    "        \n",
    "        \n",
    "        \n",
    "    # destructor\n",
    "    def __del__(self,name):\n",
    "        print(\"Inside Destructor\")\n",
    "        print(\"Object destroyed\")\n",
    "        \n",
    "        \n",
    "\n",
    "# creating object\n",
    "s1 = Student(\"Emma\")\n",
    "s1.show()\n",
    "\n",
    "# delete object\n",
    "del s1"
   ]
  },
  {
   "cell_type": "code",
   "execution_count": 19,
   "id": "12798263",
   "metadata": {},
   "outputs": [
    {
     "name": "stderr",
     "output_type": "stream",
     "text": [
      "Exception ignored in: <function Student.__del__ at 0x0000023FA6F749D0>\n",
      "Traceback (most recent call last):\n",
      "  File \"C:\\Users\\hp\\AppData\\Local\\Temp\\ipykernel_4168\\789114535.py\", line 23, in <module>\n",
      "TypeError: Student.__del__() missing 1 required positional argument: 'name'\n"
     ]
    },
    {
     "name": "stdout",
     "output_type": "stream",
     "text": [
      "Inside Constructor\n",
      "Object initilized\n",
      "Hello ! , my name is  Emma\n",
      "Inside Destructor\n",
      "Object destroyed\n"
     ]
    }
   ],
   "source": [
    "class Student:\n",
    "    \n",
    "    # constructor\n",
    "    def __init__(self,name):\n",
    "        print(\"Inside Constructor\")\n",
    "        self.name = name\n",
    "        print(\"Object initilized\")\n",
    "        \n",
    "        \n",
    "    def show(self):\n",
    "        print(\"Hello ! , my name is \", self.name)\n",
    "        \n",
    "        \n",
    "        \n",
    "    # destructor\n",
    "    def __del__(self,name):\n",
    "        print(\"Inside Destructor\")\n",
    "        print(\"Object destroyed\")\n",
    "        \n",
    "        \n",
    "\n",
    "# creating object\n",
    "s1 = Student(\"Emma\")\n",
    "s1.show()\n",
    "\n",
    "# delete object\n",
    "s1.__del__(\"bhumi\")"
   ]
  }
 ],
 "metadata": {
  "kernelspec": {
   "display_name": "Python 3 (ipykernel)",
   "language": "python",
   "name": "python3"
  },
  "language_info": {
   "codemirror_mode": {
    "name": "ipython",
    "version": 3
   },
   "file_extension": ".py",
   "mimetype": "text/x-python",
   "name": "python",
   "nbconvert_exporter": "python",
   "pygments_lexer": "ipython3",
   "version": "3.10.9"
  }
 },
 "nbformat": 4,
 "nbformat_minor": 5
}
